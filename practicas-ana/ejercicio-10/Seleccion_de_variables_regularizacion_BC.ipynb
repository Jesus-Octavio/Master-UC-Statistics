{
 "cells": [
  {
   "cell_type": "markdown",
   "metadata": {
    "slideshow": {
     "slide_type": "slide"
    }
   },
   "source": [
    "# Selección de variables y regularización\n",
    "_Santander Meteorology Group (18-01-2022)_\n",
    "\n",
    " * [Introducción](#Introducción)\n",
    " * [Base de datos de ejemplo: Breast cancer](#Base-de-datos:-Breast-cancer)\n",
    " * [Modelo lineal completo](#Modelo-lineal-completo)\n",
    " * [Selección de variables](#Selección-de-variables)\n",
    " * [Regularización](#Regularización)"
   ]
  },
  {
   "cell_type": "markdown",
   "metadata": {
    "slideshow": {
     "slide_type": "slide"
    }
   },
   "source": [
    "## Introducción\n",
    "El objetivo principal de un modelo entrenado es que tenga la capacidad de generalizar, es decir, la capacidad de predecir bien nuevos datos que no formen parte de la muestra de entrenamiento (por ejemplo, una muestra de datos de *test*). La relación entre el número de observaciones y el número de variables independientes es clave en la capacidad de generalización de los modelos.\n",
    "\n",
    "Para evitar el sobreajuste en situaciones donde el número de observaciones es del orden, o menor, que el de grados de libertad del sistema y/o donde hay colinealidad, se utilizan (entre otras) técnicas como la selección de variables y la regularización. La primera permite seleccionar de forma objetiva un subconjunto de variables predictoras, mientras que la segunda actúa sobre los parámetros del modelo, impidiendo que tomen valores elevados que harían al modelo muy sensible a diferentes muestras de entrenamiento."
   ]
  },
  {
   "cell_type": "markdown",
   "metadata": {
    "slideshow": {
     "slide_type": "slide"
    }
   },
   "source": [
    "## Base de datos: Breast cancer\n",
    "\n",
    "En este ejemplo trabajaremos con la base de datos [_Breast cancer_ (Diagnostic)](https://www.kaggle.com/uciml/breast-cancer-wisconsin-data), incluida en Kaggle. El objetivo de este conjunto de datos es clasificar a las pacientes en base a si el cáncer de mama que tienen es benigno (`B`) o maligno (`M`). Pamra ello se utilizan 31 predictores relacionados con las propiedades de las células cancerígenas, que en comparación con el número de observaciones (569) es bajo.\n",
    "\n",
    "Leemos la base de datos:"
   ]
  },
  {
   "cell_type": "code",
   "execution_count": 39,
   "metadata": {
    "slideshow": {
     "slide_type": "-"
    }
   },
   "outputs": [
    {
     "name": "stdout",
     "output_type": "stream",
     "text": [
      "'data.frame':\t569 obs. of  33 variables:\n",
      " $ id                     : int  842302 842517 84300903 84348301 84358402 843786 844359 84458202 844981 84501001 ...\n",
      " $ diagnosis              : Factor w/ 2 levels \"B\",\"M\": 2 2 2 2 2 2 2 2 2 2 ...\n",
      " $ radius_mean            : num  18 20.6 19.7 11.4 20.3 ...\n",
      " $ texture_mean           : num  10.4 17.8 21.2 20.4 14.3 ...\n",
      " $ perimeter_mean         : num  122.8 132.9 130 77.6 135.1 ...\n",
      " $ area_mean              : num  1001 1326 1203 386 1297 ...\n",
      " $ smoothness_mean        : num  0.1184 0.0847 0.1096 0.1425 0.1003 ...\n",
      " $ compactness_mean       : num  0.2776 0.0786 0.1599 0.2839 0.1328 ...\n",
      " $ concavity_mean         : num  0.3001 0.0869 0.1974 0.2414 0.198 ...\n",
      " $ concave.points_mean    : num  0.1471 0.0702 0.1279 0.1052 0.1043 ...\n",
      " $ symmetry_mean          : num  0.242 0.181 0.207 0.26 0.181 ...\n",
      " $ fractal_dimension_mean : num  0.0787 0.0567 0.06 0.0974 0.0588 ...\n",
      " $ radius_se              : num  1.095 0.543 0.746 0.496 0.757 ...\n",
      " $ texture_se             : num  0.905 0.734 0.787 1.156 0.781 ...\n",
      " $ perimeter_se           : num  8.59 3.4 4.58 3.44 5.44 ...\n",
      " $ area_se                : num  153.4 74.1 94 27.2 94.4 ...\n",
      " $ smoothness_se          : num  0.0064 0.00522 0.00615 0.00911 0.01149 ...\n",
      " $ compactness_se         : num  0.049 0.0131 0.0401 0.0746 0.0246 ...\n",
      " $ concavity_se           : num  0.0537 0.0186 0.0383 0.0566 0.0569 ...\n",
      " $ concave.points_se      : num  0.0159 0.0134 0.0206 0.0187 0.0188 ...\n",
      " $ symmetry_se            : num  0.03 0.0139 0.0225 0.0596 0.0176 ...\n",
      " $ fractal_dimension_se   : num  0.00619 0.00353 0.00457 0.00921 0.00511 ...\n",
      " $ radius_worst           : num  25.4 25 23.6 14.9 22.5 ...\n",
      " $ texture_worst          : num  17.3 23.4 25.5 26.5 16.7 ...\n",
      " $ perimeter_worst        : num  184.6 158.8 152.5 98.9 152.2 ...\n",
      " $ area_worst             : num  2019 1956 1709 568 1575 ...\n",
      " $ smoothness_worst       : num  0.162 0.124 0.144 0.21 0.137 ...\n",
      " $ compactness_worst      : num  0.666 0.187 0.424 0.866 0.205 ...\n",
      " $ concavity_worst        : num  0.712 0.242 0.45 0.687 0.4 ...\n",
      " $ concave.points_worst   : num  0.265 0.186 0.243 0.258 0.163 ...\n",
      " $ symmetry_worst         : num  0.46 0.275 0.361 0.664 0.236 ...\n",
      " $ fractal_dimension_worst: num  0.1189 0.089 0.0876 0.173 0.0768 ...\n",
      " $ X                      : logi  NA NA NA NA NA NA ...\n"
     ]
    }
   ],
   "source": [
    "datos <- read.csv(\"breastcancer.csv\")\n",
    "str(datos)"
   ]
  },
  {
   "cell_type": "markdown",
   "metadata": {
    "slideshow": {
     "slide_type": "slide"
    }
   },
   "source": [
    "Y la preparamos la base de datos de la siguiente manera:"
   ]
  },
  {
   "cell_type": "code",
   "execution_count": 40,
   "metadata": {
    "slideshow": {
     "slide_type": "-"
    }
   },
   "outputs": [
    {
     "data": {
      "text/html": [
       "<ol class=list-inline>\n",
       "\t<li>569</li>\n",
       "\t<li>30</li>\n",
       "</ol>\n"
      ],
      "text/latex": [
       "\\begin{enumerate*}\n",
       "\\item 569\n",
       "\\item 30\n",
       "\\end{enumerate*}\n"
      ],
      "text/markdown": [
       "1. 569\n",
       "2. 30\n",
       "\n",
       "\n"
      ],
      "text/plain": [
       "[1] 569  30"
      ]
     },
     "metadata": {},
     "output_type": "display_data"
    },
    {
     "data": {
      "text/html": [
       "<table>\n",
       "<thead><tr><th scope=col>diagnosis</th><th scope=col>radius_mean</th><th scope=col>texture_mean</th><th scope=col>perimeter_mean</th><th scope=col>area_mean</th><th scope=col>smoothness_mean</th><th scope=col>compactness_mean</th><th scope=col>concavity_mean</th><th scope=col>concave.points_mean</th><th scope=col>symmetry_mean</th><th scope=col>...</th><th scope=col>fractal_dimension_se</th><th scope=col>radius_worst</th><th scope=col>texture_worst</th><th scope=col>perimeter_worst</th><th scope=col>area_worst</th><th scope=col>smoothness_worst</th><th scope=col>compactness_worst</th><th scope=col>concavity_worst</th><th scope=col>concave.points_worst</th><th scope=col>symmetry_worst</th></tr></thead>\n",
       "<tbody>\n",
       "\t<tr><td>1           </td><td> 1.0960995  </td><td>-2.0715123  </td><td> 1.2688173  </td><td> 0.9835095  </td><td> 1.5670875  </td><td> 3.2806281  </td><td> 2.65054179 </td><td>2.5302489   </td><td> 2.215565542</td><td>...         </td><td> 0.90628565 </td><td> 1.8850310  </td><td>-1.35809849 </td><td> 2.3015755  </td><td> 1.9994782  </td><td> 1.3065367  </td><td> 2.6143647  </td><td> 2.1076718  </td><td>2.2940576   </td><td> 2.7482041  </td></tr>\n",
       "\t<tr><td>1           </td><td> 1.8282120  </td><td>-0.3533215  </td><td> 1.6844726  </td><td> 1.9070303  </td><td>-0.8262354  </td><td>-0.4866435  </td><td>-0.02382489 </td><td>0.5476623   </td><td> 0.001391139</td><td>...         </td><td>-0.09935632 </td><td> 1.8043398  </td><td>-0.36887865 </td><td> 1.5337764  </td><td> 1.8888270  </td><td>-0.3752817  </td><td>-0.4300658  </td><td>-0.1466200  </td><td>1.0861286   </td><td>-0.2436753  </td></tr>\n",
       "\t<tr><td>1           </td><td> 1.5784992  </td><td> 0.4557859  </td><td> 1.5651260  </td><td> 1.5575132  </td><td> 0.9413821  </td><td> 1.0519999  </td><td> 1.36227979 </td><td>2.0354398   </td><td> 0.938858720</td><td>...         </td><td> 0.29330133 </td><td> 1.5105411  </td><td>-0.02395331 </td><td> 1.3462906  </td><td> 1.4550043  </td><td> 0.5269438  </td><td> 1.0819801  </td><td> 0.8542223  </td><td>1.9532817   </td><td> 1.1512420  </td></tr>\n",
       "\t<tr><td>1           </td><td>-0.7682333  </td><td> 0.2535091  </td><td>-0.5921661  </td><td>-0.7637917  </td><td> 3.2806668  </td><td> 3.3999174  </td><td> 1.91421287 </td><td>1.4504311   </td><td> 2.864862154</td><td>...         </td><td> 2.04571087 </td><td>-0.2812170  </td><td> 0.13386631 </td><td>-0.2497196  </td><td>-0.5495377  </td><td> 3.3912907  </td><td> 3.8899747  </td><td> 1.9878392  </td><td>2.1738732   </td><td> 6.0407261  </td></tr>\n",
       "\t<tr><td>1           </td><td> 1.7487579  </td><td>-1.1508038  </td><td> 1.7750113  </td><td> 1.8246238  </td><td> 0.2801253  </td><td> 0.5388663  </td><td> 1.36980615 </td><td>1.4272370   </td><td>-0.009552062</td><td>...         </td><td> 0.49888916 </td><td> 1.2974336  </td><td>-1.46548091 </td><td> 1.3373627  </td><td> 1.2196511  </td><td> 0.2203623  </td><td>-0.3131190  </td><td> 0.6126397  </td><td>0.7286181   </td><td>-0.8675896  </td></tr>\n",
       "\t<tr><td>1           </td><td>-0.4759559  </td><td>-0.8346009  </td><td>-0.3868077  </td><td>-0.5052059  </td><td> 2.2354545  </td><td> 1.2432416  </td><td> 0.86554001 </td><td>0.8239307   </td><td> 1.004517928</td><td>...         </td><td> 0.48641784 </td><td>-0.1653528  </td><td>-0.31356043 </td><td>-0.1149083  </td><td>-0.2441054  </td><td> 2.0467119  </td><td> 1.7201029  </td><td> 1.2621327  </td><td>0.9050914   </td><td> 1.7525273  </td></tr>\n",
       "</tbody>\n",
       "</table>\n"
      ],
      "text/latex": [
       "\\begin{tabular}{r|llllllllllllllllllllllllllllll}\n",
       " diagnosis & radius\\_mean & texture\\_mean & perimeter\\_mean & area\\_mean & smoothness\\_mean & compactness\\_mean & concavity\\_mean & concave.points\\_mean & symmetry\\_mean & ... & fractal\\_dimension\\_se & radius\\_worst & texture\\_worst & perimeter\\_worst & area\\_worst & smoothness\\_worst & compactness\\_worst & concavity\\_worst & concave.points\\_worst & symmetry\\_worst\\\\\n",
       "\\hline\n",
       "\t 1            &  1.0960995   & -2.0715123   &  1.2688173   &  0.9835095   &  1.5670875   &  3.2806281   &  2.65054179  & 2.5302489    &  2.215565542 & ...          &  0.90628565  &  1.8850310   & -1.35809849  &  2.3015755   &  1.9994782   &  1.3065367   &  2.6143647   &  2.1076718   & 2.2940576    &  2.7482041  \\\\\n",
       "\t 1            &  1.8282120   & -0.3533215   &  1.6844726   &  1.9070303   & -0.8262354   & -0.4866435   & -0.02382489  & 0.5476623    &  0.001391139 & ...          & -0.09935632  &  1.8043398   & -0.36887865  &  1.5337764   &  1.8888270   & -0.3752817   & -0.4300658   & -0.1466200   & 1.0861286    & -0.2436753  \\\\\n",
       "\t 1            &  1.5784992   &  0.4557859   &  1.5651260   &  1.5575132   &  0.9413821   &  1.0519999   &  1.36227979  & 2.0354398    &  0.938858720 & ...          &  0.29330133  &  1.5105411   & -0.02395331  &  1.3462906   &  1.4550043   &  0.5269438   &  1.0819801   &  0.8542223   & 1.9532817    &  1.1512420  \\\\\n",
       "\t 1            & -0.7682333   &  0.2535091   & -0.5921661   & -0.7637917   &  3.2806668   &  3.3999174   &  1.91421287  & 1.4504311    &  2.864862154 & ...          &  2.04571087  & -0.2812170   &  0.13386631  & -0.2497196   & -0.5495377   &  3.3912907   &  3.8899747   &  1.9878392   & 2.1738732    &  6.0407261  \\\\\n",
       "\t 1            &  1.7487579   & -1.1508038   &  1.7750113   &  1.8246238   &  0.2801253   &  0.5388663   &  1.36980615  & 1.4272370    & -0.009552062 & ...          &  0.49888916  &  1.2974336   & -1.46548091  &  1.3373627   &  1.2196511   &  0.2203623   & -0.3131190   &  0.6126397   & 0.7286181    & -0.8675896  \\\\\n",
       "\t 1            & -0.4759559   & -0.8346009   & -0.3868077   & -0.5052059   &  2.2354545   &  1.2432416   &  0.86554001  & 0.8239307    &  1.004517928 & ...          &  0.48641784  & -0.1653528   & -0.31356043  & -0.1149083   & -0.2441054   &  2.0467119   &  1.7201029   &  1.2621327   & 0.9050914    &  1.7525273  \\\\\n",
       "\\end{tabular}\n"
      ],
      "text/markdown": [
       "\n",
       "| diagnosis | radius_mean | texture_mean | perimeter_mean | area_mean | smoothness_mean | compactness_mean | concavity_mean | concave.points_mean | symmetry_mean | ... | fractal_dimension_se | radius_worst | texture_worst | perimeter_worst | area_worst | smoothness_worst | compactness_worst | concavity_worst | concave.points_worst | symmetry_worst |\n",
       "|---|---|---|---|---|---|---|---|---|---|---|---|---|---|---|---|---|---|---|---|---|\n",
       "| 1            |  1.0960995   | -2.0715123   |  1.2688173   |  0.9835095   |  1.5670875   |  3.2806281   |  2.65054179  | 2.5302489    |  2.215565542 | ...          |  0.90628565  |  1.8850310   | -1.35809849  |  2.3015755   |  1.9994782   |  1.3065367   |  2.6143647   |  2.1076718   | 2.2940576    |  2.7482041   |\n",
       "| 1            |  1.8282120   | -0.3533215   |  1.6844726   |  1.9070303   | -0.8262354   | -0.4866435   | -0.02382489  | 0.5476623    |  0.001391139 | ...          | -0.09935632  |  1.8043398   | -0.36887865  |  1.5337764   |  1.8888270   | -0.3752817   | -0.4300658   | -0.1466200   | 1.0861286    | -0.2436753   |\n",
       "| 1            |  1.5784992   |  0.4557859   |  1.5651260   |  1.5575132   |  0.9413821   |  1.0519999   |  1.36227979  | 2.0354398    |  0.938858720 | ...          |  0.29330133  |  1.5105411   | -0.02395331  |  1.3462906   |  1.4550043   |  0.5269438   |  1.0819801   |  0.8542223   | 1.9532817    |  1.1512420   |\n",
       "| 1            | -0.7682333   |  0.2535091   | -0.5921661   | -0.7637917   |  3.2806668   |  3.3999174   |  1.91421287  | 1.4504311    |  2.864862154 | ...          |  2.04571087  | -0.2812170   |  0.13386631  | -0.2497196   | -0.5495377   |  3.3912907   |  3.8899747   |  1.9878392   | 2.1738732    |  6.0407261   |\n",
       "| 1            |  1.7487579   | -1.1508038   |  1.7750113   |  1.8246238   |  0.2801253   |  0.5388663   |  1.36980615  | 1.4272370    | -0.009552062 | ...          |  0.49888916  |  1.2974336   | -1.46548091  |  1.3373627   |  1.2196511   |  0.2203623   | -0.3131190   |  0.6126397   | 0.7286181    | -0.8675896   |\n",
       "| 1            | -0.4759559   | -0.8346009   | -0.3868077   | -0.5052059   |  2.2354545   |  1.2432416   |  0.86554001  | 0.8239307    |  1.004517928 | ...          |  0.48641784  | -0.1653528   | -0.31356043  | -0.1149083   | -0.2441054   |  2.0467119   |  1.7201029   |  1.2621327   | 0.9050914    |  1.7525273   |\n",
       "\n"
      ],
      "text/plain": [
       "  diagnosis radius_mean texture_mean perimeter_mean area_mean  smoothness_mean\n",
       "1 1          1.0960995  -2.0715123    1.2688173      0.9835095  1.5670875     \n",
       "2 1          1.8282120  -0.3533215    1.6844726      1.9070303 -0.8262354     \n",
       "3 1          1.5784992   0.4557859    1.5651260      1.5575132  0.9413821     \n",
       "4 1         -0.7682333   0.2535091   -0.5921661     -0.7637917  3.2806668     \n",
       "5 1          1.7487579  -1.1508038    1.7750113      1.8246238  0.2801253     \n",
       "6 1         -0.4759559  -0.8346009   -0.3868077     -0.5052059  2.2354545     \n",
       "  compactness_mean concavity_mean concave.points_mean symmetry_mean ...\n",
       "1  3.2806281        2.65054179    2.5302489            2.215565542  ...\n",
       "2 -0.4866435       -0.02382489    0.5476623            0.001391139  ...\n",
       "3  1.0519999        1.36227979    2.0354398            0.938858720  ...\n",
       "4  3.3999174        1.91421287    1.4504311            2.864862154  ...\n",
       "5  0.5388663        1.36980615    1.4272370           -0.009552062  ...\n",
       "6  1.2432416        0.86554001    0.8239307            1.004517928  ...\n",
       "  fractal_dimension_se radius_worst texture_worst perimeter_worst area_worst\n",
       "1  0.90628565           1.8850310   -1.35809849    2.3015755       1.9994782\n",
       "2 -0.09935632           1.8043398   -0.36887865    1.5337764       1.8888270\n",
       "3  0.29330133           1.5105411   -0.02395331    1.3462906       1.4550043\n",
       "4  2.04571087          -0.2812170    0.13386631   -0.2497196      -0.5495377\n",
       "5  0.49888916           1.2974336   -1.46548091    1.3373627       1.2196511\n",
       "6  0.48641784          -0.1653528   -0.31356043   -0.1149083      -0.2441054\n",
       "  smoothness_worst compactness_worst concavity_worst concave.points_worst\n",
       "1  1.3065367        2.6143647         2.1076718      2.2940576           \n",
       "2 -0.3752817       -0.4300658        -0.1466200      1.0861286           \n",
       "3  0.5269438        1.0819801         0.8542223      1.9532817           \n",
       "4  3.3912907        3.8899747         1.9878392      2.1738732           \n",
       "5  0.2203623       -0.3131190         0.6126397      0.7286181           \n",
       "6  2.0467119        1.7201029         1.2621327      0.9050914           \n",
       "  symmetry_worst\n",
       "1  2.7482041    \n",
       "2 -0.2436753    \n",
       "3  1.1512420    \n",
       "4  6.0407261    \n",
       "5 -0.8675896    \n",
       "6  1.7525273    "
      ]
     },
     "metadata": {},
     "output_type": "display_data"
    }
   ],
   "source": [
    "# Eliminar no predictores (id y última columna vacía)\n",
    "df <- datos[, -c(1, ncol(datos)-1, ncol(datos))]\n",
    "# Convertir el factor diagnosis (B y M) a los valores numéricos 0 y 1, respectivamente.\n",
    "df$diagnosis <- as.numeric(df$diagnosis)-1\n",
    "# Normalizar los datos (predictores o features) para evitar problemas de diferente variabilidad\n",
    "df[-1] <- apply(df[-1], MARGIN = 2, scale)\n",
    "rm(datos)\n",
    "dim(df)\n",
    "head(df)"
   ]
  },
  {
   "cell_type": "markdown",
   "metadata": {
    "slideshow": {
     "slide_type": "slide"
    }
   },
   "source": [
    "Podemos comprobar que hay colinealidades en los datos"
   ]
  },
  {
   "cell_type": "code",
   "execution_count": 41,
   "metadata": {
    "slideshow": {
     "slide_type": "-"
    }
   },
   "outputs": [
    {
     "data": {
      "image/png": "[encoded data removed]",
      "text/plain": [
       "plot without title"
      ]
     },
     "metadata": {
      "image/png": {
       "height": 420,
       "width": 420
      }
     },
     "output_type": "display_data"
    }
   ],
   "source": [
    "library(RColorBrewer) # brewer.pal\n",
    "library(lattice) # levelplot\n",
    "colores <- brewer.pal(10,\"RdBu\")\n",
    "levelplot(cor(df), # ó simplemente image(cor(df))\n",
    "  at = seq(-1, 1, 0.2), col.regions = colores,\n",
    "  scale = list(x = list(rot = 90)) # gira 90º las etiquetas del eje X\n",
    ")"
   ]
  },
  {
   "cell_type": "markdown",
   "metadata": {
    "slideshow": {
     "slide_type": "slide"
    }
   },
   "source": [
    "## Modelo lineal completo"
   ]
  },
  {
   "cell_type": "markdown",
   "metadata": {},
   "source": [
    "Construyamos el modelo lineal mediante la función `glm`. Como la variable respuesta sigue una distribución de Bernouilli lo más apropiado es realizar una regresión logística, es decir: familia binomial, link _logit_ (por defecto para esta familia)."
   ]
  },
  {
   "cell_type": "code",
   "execution_count": 121,
   "metadata": {},
   "outputs": [
    {
     "name": "stderr",
     "output_type": "stream",
     "text": [
      "Warning message:\n",
      "“glm.fit: fitted probabilities numerically 0 or 1 occurred”\n"
     ]
    }
   ],
   "source": [
    "model <- glm(diagnosis ~ ., data = df, family = \"binomial\") # ídem family =  binomial(link = \"logit\"), ver ?family\n",
    "pred  <- predict(model, type = \"response\") # type = \"response\" devuelve las probabilidades predichas entre 0 y 1."
   ]
  },
  {
   "cell_type": "markdown",
   "metadata": {
    "slideshow": {
     "slide_type": "fragment"
    }
   },
   "source": [
    "Vemos que surgen algunas alertas sobre la convergencia del algoritmo (probablemente debidas a las colinealidades en nuestros predictores) y de sobreajuste (predicciones deterministas de 0 o 1)."
   ]
  },
  {
   "cell_type": "markdown",
   "metadata": {
    "slideshow": {
     "slide_type": "slide"
    }
   },
   "source": [
    "Para comprobar la capacidad predictiva de nuestro modelo en la clasificación del cáncer de mama, utilizaremos el índice Área bajo la curva ROC (AUC, por sus siglas en inglés) disponible en las librerías `verification` y `pROC`."
   ]
  },
  {
   "cell_type": "code",
   "execution_count": 126,
   "metadata": {},
   "outputs": [
    {
     "data": {
      "image/png": "[encoded data removed]",
      "text/plain": [
       "Plot with title “Curva ROC (AUC=0.999511)”"
      ]
     },
     "metadata": {
      "image/png": {
       "height": 420,
       "width": 420
      }
     },
     "output_type": "display_data"
    }
   ],
   "source": [
    "# Paquete verification para ROC y roc area\n",
    "# options(download.file.method=\"wget\") # esta línea es necesaria en el HUB para instalar paquetes a través de una url\n",
    " #install.packages(\"verification\")\n",
    "library(verification, quietly = TRUE) # roc.area\n",
    "auc <- roc.area(obs = df$diagnosis,pred)$A\n",
    "roc.plot(df$diagnosis, pred, main=sprintf(\"Curva ROC (AUC=%g)\", auc))"
   ]
  },
  {
   "cell_type": "code",
   "execution_count": 124,
   "metadata": {},
   "outputs": [
    {
     "name": "stderr",
     "output_type": "stream",
     "text": [
      "Updating HTML index of packages in '.Library'\n",
      "\n",
      "Making 'packages.html' ...\n",
      " done\n",
      "\n",
      "Setting levels: control = 0, case = 1\n",
      "\n",
      "Setting direction: controls < cases\n",
      "\n"
     ]
    },
    {
     "ename": "ERROR",
     "evalue": "Error in rank(prob): el argumento \"prob\" está ausente, sin valor por omisión\n",
     "output_type": "error",
     "traceback": [
      "Error in rank(prob): el argumento \"prob\" está ausente, sin valor por omisión\nTraceback:\n",
      "1. auc(roc_obj)",
      "2. rank(prob)"
     ]
    }
   ],
   "source": [
    "# Análogamente con el paquete pROC\n",
    "install.packages(\"pROC\")\n",
    "library(pROC)\n",
    "roc_obj <- roc(df$diagnosis, pred)\n",
    "auc(roc_obj)\n",
    "plot.roc(roc_obj,print.auc=T, print.thres = \"best\")"
   ]
  },
  {
   "cell_type": "markdown",
   "metadata": {
    "slideshow": {
     "slide_type": "slide"
    }
   },
   "source": [
    "También podríamos comprobar los resultados del modelo en una tabla de contingencia (_confusion matrix_), pero en este caso necesitamos convertir las predicciones probabilistas del modelo en valores cualitativos (factores) deterministas. Para ello usamos un umbral de decisión. En este ejemplo usamos 0.5 como umbral; prueba a modificarlo para ver el efecto sobre los aciertos del modelo (esto es lo que hace la curva ROC)."
   ]
  },
  {
   "cell_type": "code",
   "execution_count": 125,
   "metadata": {},
   "outputs": [
    {
     "data": {
      "text/plain": [
       "Confusion Matrix and Statistics\n",
       "\n",
       "          Reference\n",
       "Prediction   0   1\n",
       "         0 355   4\n",
       "         1   2 208\n",
       "                                          \n",
       "               Accuracy : 0.9895          \n",
       "                 95% CI : (0.9772, 0.9961)\n",
       "    No Information Rate : 0.6274          \n",
       "    P-Value [Acc > NIR] : <2e-16          \n",
       "                                          \n",
       "                  Kappa : 0.9774          \n",
       "                                          \n",
       " Mcnemar's Test P-Value : 0.6831          \n",
       "                                          \n",
       "            Sensitivity : 0.9811          \n",
       "            Specificity : 0.9944          \n",
       "         Pos Pred Value : 0.9905          \n",
       "         Neg Pred Value : 0.9889          \n",
       "             Prevalence : 0.3726          \n",
       "         Detection Rate : 0.3656          \n",
       "   Detection Prevalence : 0.3691          \n",
       "      Balanced Accuracy : 0.9878          \n",
       "                                          \n",
       "       'Positive' Class : 1               \n",
       "                                          "
      ]
     },
     "metadata": {},
     "output_type": "display_data"
    },
    {
     "data": {
      "text/plain": [
       "    Pred.\n",
       "Ref.   0   1\n",
       "   0 355   2\n",
       "   1   4 208"
      ]
     },
     "metadata": {},
     "output_type": "display_data"
    },
    {
     "data": {
      "text/html": [
       "98.9455184534271"
      ],
      "text/latex": [
       "98.9455184534271"
      ],
      "text/markdown": [
       "98.9455184534271"
      ],
      "text/plain": [
       "[1] 98.94552"
      ]
     },
     "metadata": {},
     "output_type": "display_data"
    }
   ],
   "source": [
    "#install.packages(\"caret\")\n",
    "library(caret, quietly = TRUE) # confusionMatrix\n",
    "confusionMatrix(as.factor(as.numeric(pred>0.5)), as.factor(df$diagnosis), positive=\"1\")\n",
    "\n",
    "\n",
    "# Alternativa sin usar caret\n",
    "outbin <- as.double(pred > 0.5)\n",
    "table(df$diagnosis, outbin, dnn=c(\"Ref.\",\"Pred.\"))\n",
    "# Accuracy\n",
    "100*sum(diag(table(df$diagnosis, outbin))) / length(outbin)"
   ]
  },
  {
   "cell_type": "markdown",
   "metadata": {
    "slideshow": {
     "slide_type": "slide"
    }
   },
   "source": [
    "**TAREA 1:** Estudiar la capacidad de generalización del modelo completo mediante una validacion cruzada de tipo *hold out*, es decir, utilizando una parte de los datos para entrenar el modelo y reservando otra para probarlo."
   ]
  },
  {
   "cell_type": "markdown",
   "metadata": {},
   "source": [
    "Separamos en dos conjuntos disjutos: uno de train (70% del total) y uno de test (30% del total):"
   ]
  },
  {
   "cell_type": "code",
   "execution_count": 97,
   "metadata": {},
   "outputs": [],
   "source": [
    "idx.train <- sample(1:nrow(df), ceiling(0.7 * nrow(df)))\n",
    "idx.test <- setdiff(1:nrow(df), idx.train)"
   ]
  },
  {
   "cell_type": "code",
   "execution_count": 99,
   "metadata": {},
   "outputs": [
    {
     "name": "stderr",
     "output_type": "stream",
     "text": [
      "Warning message:\n",
      "“glm.fit: algorithm did not converge”\n",
      "Warning message:\n",
      "“glm.fit: fitted probabilities numerically 0 or 1 occurred”\n"
     ]
    }
   ],
   "source": [
    "model.cv <- glm(diagnosis ~ ., data = df, subset = idx.train, family = \"binomial\") \n",
    "pred.cv  <- predict(model.cv, df[idx.test, -1], type = \"response\") # type = \"response\" devuelve las probabilidades predichas entre 0 y 1."
   ]
  },
  {
   "cell_type": "code",
   "execution_count": 100,
   "metadata": {},
   "outputs": [
    {
     "data": {
      "text/html": [
       "<dl class=dl-horizontal>\n",
       "\t<dt>2</dt>\n",
       "\t\t<dd>1</dd>\n",
       "\t<dt>3</dt>\n",
       "\t\t<dd>1</dd>\n",
       "\t<dt>5</dt>\n",
       "\t\t<dd>1</dd>\n",
       "\t<dt>9</dt>\n",
       "\t\t<dd>1</dd>\n",
       "\t<dt>13</dt>\n",
       "\t\t<dd>2.22044604925031e-16</dd>\n",
       "\t<dt>18</dt>\n",
       "\t\t<dd>1</dd>\n",
       "\t<dt>20</dt>\n",
       "\t\t<dd>2.22044604925031e-16</dd>\n",
       "\t<dt>23</dt>\n",
       "\t\t<dd>1</dd>\n",
       "\t<dt>27</dt>\n",
       "\t\t<dd>1</dd>\n",
       "\t<dt>30</dt>\n",
       "\t\t<dd>1</dd>\n",
       "\t<dt>33</dt>\n",
       "\t\t<dd>1</dd>\n",
       "\t<dt>34</dt>\n",
       "\t\t<dd>1</dd>\n",
       "\t<dt>47</dt>\n",
       "\t\t<dd>2.22044604925031e-16</dd>\n",
       "\t<dt>53</dt>\n",
       "\t\t<dd>2.22044604925031e-16</dd>\n",
       "\t<dt>58</dt>\n",
       "\t\t<dd>1</dd>\n",
       "\t<dt>62</dt>\n",
       "\t\t<dd>2.22044604925031e-16</dd>\n",
       "\t<dt>63</dt>\n",
       "\t\t<dd>1</dd>\n",
       "\t<dt>64</dt>\n",
       "\t\t<dd>2.22044604925031e-16</dd>\n",
       "\t<dt>65</dt>\n",
       "\t\t<dd>1</dd>\n",
       "\t<dt>69</dt>\n",
       "\t\t<dd>2.22044604925031e-16</dd>\n",
       "\t<dt>79</dt>\n",
       "\t\t<dd>1</dd>\n",
       "\t<dt>80</dt>\n",
       "\t\t<dd>2.22044604925031e-16</dd>\n",
       "\t<dt>82</dt>\n",
       "\t\t<dd>1</dd>\n",
       "\t<dt>83</dt>\n",
       "\t\t<dd>1</dd>\n",
       "\t<dt>84</dt>\n",
       "\t\t<dd>1</dd>\n",
       "\t<dt>88</dt>\n",
       "\t\t<dd>1</dd>\n",
       "\t<dt>91</dt>\n",
       "\t\t<dd>2.22044604925031e-16</dd>\n",
       "\t<dt>92</dt>\n",
       "\t\t<dd>1</dd>\n",
       "\t<dt>94</dt>\n",
       "\t\t<dd>2.22044604925031e-16</dd>\n",
       "\t<dt>95</dt>\n",
       "\t\t<dd>1</dd>\n",
       "\t<dt>99</dt>\n",
       "\t\t<dd>2.22044604925031e-16</dd>\n",
       "\t<dt>102</dt>\n",
       "\t\t<dd>2.22044604925031e-16</dd>\n",
       "\t<dt>104</dt>\n",
       "\t\t<dd>2.22044604925031e-16</dd>\n",
       "\t<dt>106</dt>\n",
       "\t\t<dd>1</dd>\n",
       "\t<dt>110</dt>\n",
       "\t\t<dd>2.22044604925031e-16</dd>\n",
       "\t<dt>115</dt>\n",
       "\t\t<dd>2.22044604925031e-16</dd>\n",
       "\t<dt>116</dt>\n",
       "\t\t<dd>2.22044604925031e-16</dd>\n",
       "\t<dt>118</dt>\n",
       "\t\t<dd>1</dd>\n",
       "\t<dt>121</dt>\n",
       "\t\t<dd>2.22044604925031e-16</dd>\n",
       "\t<dt>123</dt>\n",
       "\t\t<dd>1</dd>\n",
       "\t<dt>125</dt>\n",
       "\t\t<dd>2.22044604925031e-16</dd>\n",
       "\t<dt>128</dt>\n",
       "\t\t<dd>1</dd>\n",
       "\t<dt>130</dt>\n",
       "\t\t<dd>1</dd>\n",
       "\t<dt>131</dt>\n",
       "\t\t<dd>2.22044604925031e-16</dd>\n",
       "\t<dt>135</dt>\n",
       "\t\t<dd>1</dd>\n",
       "\t<dt>136</dt>\n",
       "\t\t<dd>2.22044604925031e-16</dd>\n",
       "\t<dt>137</dt>\n",
       "\t\t<dd>2.22044604925031e-16</dd>\n",
       "\t<dt>142</dt>\n",
       "\t\t<dd>1</dd>\n",
       "\t<dt>161</dt>\n",
       "\t\t<dd>2.22044604925031e-16</dd>\n",
       "\t<dt>163</dt>\n",
       "\t\t<dd>1</dd>\n",
       "\t<dt>164</dt>\n",
       "\t\t<dd>2.22044604925031e-16</dd>\n",
       "\t<dt>165</dt>\n",
       "\t\t<dd>1</dd>\n",
       "\t<dt>168</dt>\n",
       "\t\t<dd>1</dd>\n",
       "\t<dt>171</dt>\n",
       "\t\t<dd>2.22044604925031e-16</dd>\n",
       "\t<dt>174</dt>\n",
       "\t\t<dd>2.22044604925031e-16</dd>\n",
       "\t<dt>176</dt>\n",
       "\t\t<dd>2.22044604925031e-16</dd>\n",
       "\t<dt>181</dt>\n",
       "\t\t<dd>1</dd>\n",
       "\t<dt>182</dt>\n",
       "\t\t<dd>1</dd>\n",
       "\t<dt>184</dt>\n",
       "\t\t<dd>2.22044604925031e-16</dd>\n",
       "\t<dt>187</dt>\n",
       "\t\t<dd>1</dd>\n",
       "\t<dt>190</dt>\n",
       "\t\t<dd>2.22044604925031e-16</dd>\n",
       "\t<dt>202</dt>\n",
       "\t\t<dd>1</dd>\n",
       "\t<dt>208</dt>\n",
       "\t\t<dd>1</dd>\n",
       "\t<dt>210</dt>\n",
       "\t\t<dd>2.22044604925031e-16</dd>\n",
       "\t<dt>211</dt>\n",
       "\t\t<dd>1</dd>\n",
       "\t<dt>213</dt>\n",
       "\t\t<dd>1</dd>\n",
       "\t<dt>216</dt>\n",
       "\t\t<dd>0.999991197215869</dd>\n",
       "\t<dt>221</dt>\n",
       "\t\t<dd>2.22044604925031e-16</dd>\n",
       "\t<dt>224</dt>\n",
       "\t\t<dd>1</dd>\n",
       "\t<dt>228</dt>\n",
       "\t\t<dd>2.22044604925031e-16</dd>\n",
       "\t<dt>229</dt>\n",
       "\t\t<dd>0.456778662647079</dd>\n",
       "\t<dt>233</dt>\n",
       "\t\t<dd>2.22044604925031e-16</dd>\n",
       "\t<dt>236</dt>\n",
       "\t\t<dd>2.22044604925031e-16</dd>\n",
       "\t<dt>238</dt>\n",
       "\t\t<dd>1</dd>\n",
       "\t<dt>241</dt>\n",
       "\t\t<dd>2.22044604925031e-16</dd>\n",
       "\t<dt>253</dt>\n",
       "\t\t<dd>1</dd>\n",
       "\t<dt>256</dt>\n",
       "\t\t<dd>1</dd>\n",
       "\t<dt>257</dt>\n",
       "\t\t<dd>1</dd>\n",
       "\t<dt>258</dt>\n",
       "\t\t<dd>1</dd>\n",
       "\t<dt>262</dt>\n",
       "\t\t<dd>1</dd>\n",
       "\t<dt>265</dt>\n",
       "\t\t<dd>1</dd>\n",
       "\t<dt>270</dt>\n",
       "\t\t<dd>2.22044604925031e-16</dd>\n",
       "\t<dt>273</dt>\n",
       "\t\t<dd>1</dd>\n",
       "\t<dt>276</dt>\n",
       "\t\t<dd>1</dd>\n",
       "\t<dt>277</dt>\n",
       "\t\t<dd>2.22044604925031e-16</dd>\n",
       "\t<dt>278</dt>\n",
       "\t\t<dd>1</dd>\n",
       "\t<dt>279</dt>\n",
       "\t\t<dd>2.22044604925031e-16</dd>\n",
       "\t<dt>286</dt>\n",
       "\t\t<dd>2.22044604925031e-16</dd>\n",
       "\t<dt>289</dt>\n",
       "\t\t<dd>1</dd>\n",
       "\t<dt>290</dt>\n",
       "\t\t<dd>2.22044604925031e-16</dd>\n",
       "\t<dt>292</dt>\n",
       "\t\t<dd>2.22044604925031e-16</dd>\n",
       "\t<dt>301</dt>\n",
       "\t\t<dd>1</dd>\n",
       "\t<dt>302</dt>\n",
       "\t\t<dd>2.22044604925031e-16</dd>\n",
       "\t<dt>304</dt>\n",
       "\t\t<dd>2.22044604925031e-16</dd>\n",
       "\t<dt>305</dt>\n",
       "\t\t<dd>2.22044604925031e-16</dd>\n",
       "\t<dt>308</dt>\n",
       "\t\t<dd>2.22044604925031e-16</dd>\n",
       "\t<dt>316</dt>\n",
       "\t\t<dd>2.22044604925031e-16</dd>\n",
       "\t<dt>317</dt>\n",
       "\t\t<dd>2.22044604925031e-16</dd>\n",
       "\t<dt>319</dt>\n",
       "\t\t<dd>2.22044604925031e-16</dd>\n",
       "\t<dt>323</dt>\n",
       "\t\t<dd>2.22044604925031e-16</dd>\n",
       "\t<dt>324</dt>\n",
       "\t\t<dd>1</dd>\n",
       "\t<dt>328</dt>\n",
       "\t\t<dd>2.22044604925031e-16</dd>\n",
       "\t<dt>330</dt>\n",
       "\t\t<dd>1</dd>\n",
       "\t<dt>338</dt>\n",
       "\t\t<dd>1</dd>\n",
       "\t<dt>342</dt>\n",
       "\t\t<dd>2.22044604925031e-16</dd>\n",
       "\t<dt>348</dt>\n",
       "\t\t<dd>2.22044604925031e-16</dd>\n",
       "\t<dt>353</dt>\n",
       "\t\t<dd>1</dd>\n",
       "\t<dt>355</dt>\n",
       "\t\t<dd>2.22044604925031e-16</dd>\n",
       "\t<dt>361</dt>\n",
       "\t\t<dd>2.22044604925031e-16</dd>\n",
       "\t<dt>367</dt>\n",
       "\t\t<dd>1</dd>\n",
       "\t<dt>372</dt>\n",
       "\t\t<dd>2.22044604925031e-16</dd>\n",
       "\t<dt>373</dt>\n",
       "\t\t<dd>1</dd>\n",
       "\t<dt>382</dt>\n",
       "\t\t<dd>2.22044604925031e-16</dd>\n",
       "\t<dt>385</dt>\n",
       "\t\t<dd>2.22044604925031e-16</dd>\n",
       "\t<dt>388</dt>\n",
       "\t\t<dd>2.22044604925031e-16</dd>\n",
       "\t<dt>391</dt>\n",
       "\t\t<dd>2.22044604925031e-16</dd>\n",
       "\t<dt>392</dt>\n",
       "\t\t<dd>2.22044604925031e-16</dd>\n",
       "\t<dt>393</dt>\n",
       "\t\t<dd>1</dd>\n",
       "\t<dt>398</dt>\n",
       "\t\t<dd>2.22044604925031e-16</dd>\n",
       "\t<dt>402</dt>\n",
       "\t\t<dd>2.22044604925031e-16</dd>\n",
       "\t<dt>405</dt>\n",
       "\t\t<dd>2.22044604925031e-16</dd>\n",
       "\t<dt>406</dt>\n",
       "\t\t<dd>2.22044604925031e-16</dd>\n",
       "\t<dt>408</dt>\n",
       "\t\t<dd>2.22044604925031e-16</dd>\n",
       "\t<dt>413</dt>\n",
       "\t\t<dd>2.22044604925031e-16</dd>\n",
       "\t<dt>426</dt>\n",
       "\t\t<dd>2.22044604925031e-16</dd>\n",
       "\t<dt>432</dt>\n",
       "\t\t<dd>2.22044604925031e-16</dd>\n",
       "\t<dt>440</dt>\n",
       "\t\t<dd>2.22044604925031e-16</dd>\n",
       "\t<dt>442</dt>\n",
       "\t\t<dd>1</dd>\n",
       "\t<dt>445</dt>\n",
       "\t\t<dd>1</dd>\n",
       "\t<dt>446</dt>\n",
       "\t\t<dd>3.78696488351301e-07</dd>\n",
       "\t<dt>447</dt>\n",
       "\t\t<dd>1</dd>\n",
       "\t<dt>450</dt>\n",
       "\t\t<dd>1</dd>\n",
       "\t<dt>452</dt>\n",
       "\t\t<dd>1</dd>\n",
       "\t<dt>453</dt>\n",
       "\t\t<dd>2.22044604925031e-16</dd>\n",
       "\t<dt>454</dt>\n",
       "\t\t<dd>2.22044604925031e-16</dd>\n",
       "\t<dt>457</dt>\n",
       "\t\t<dd>2.22044604925031e-16</dd>\n",
       "\t<dt>459</dt>\n",
       "\t\t<dd>2.22044604925031e-16</dd>\n",
       "\t<dt>463</dt>\n",
       "\t\t<dd>2.22044604925031e-16</dd>\n",
       "\t<dt>470</dt>\n",
       "\t\t<dd>2.22044604925031e-16</dd>\n",
       "\t<dt>477</dt>\n",
       "\t\t<dd>6.5092798275825e-12</dd>\n",
       "\t<dt>485</dt>\n",
       "\t\t<dd>2.22044604925031e-16</dd>\n",
       "\t<dt>488</dt>\n",
       "\t\t<dd>1</dd>\n",
       "\t<dt>497</dt>\n",
       "\t\t<dd>2.22044604925031e-16</dd>\n",
       "\t<dt>498</dt>\n",
       "\t\t<dd>2.22044604925031e-16</dd>\n",
       "\t<dt>499</dt>\n",
       "\t\t<dd>1</dd>\n",
       "\t<dt>500</dt>\n",
       "\t\t<dd>1</dd>\n",
       "\t<dt>508</dt>\n",
       "\t\t<dd>2.22044604925031e-16</dd>\n",
       "\t<dt>515</dt>\n",
       "\t\t<dd>1</dd>\n",
       "\t<dt>520</dt>\n",
       "\t\t<dd>2.22044604925031e-16</dd>\n",
       "\t<dt>525</dt>\n",
       "\t\t<dd>2.22044604925031e-16</dd>\n",
       "\t<dt>526</dt>\n",
       "\t\t<dd>2.22044604925031e-16</dd>\n",
       "\t<dt>530</dt>\n",
       "\t\t<dd>2.22044604925031e-16</dd>\n",
       "\t<dt>531</dt>\n",
       "\t\t<dd>8.5277105454572e-09</dd>\n",
       "\t<dt>534</dt>\n",
       "\t\t<dd>1</dd>\n",
       "\t<dt>536</dt>\n",
       "\t\t<dd>1</dd>\n",
       "\t<dt>539</dt>\n",
       "\t\t<dd>2.22044604925031e-16</dd>\n",
       "\t<dt>540</dt>\n",
       "\t\t<dd>2.22044604925031e-16</dd>\n",
       "\t<dt>541</dt>\n",
       "\t\t<dd>2.22044604925031e-16</dd>\n",
       "\t<dt>544</dt>\n",
       "\t\t<dd>2.22044604925031e-16</dd>\n",
       "\t<dt>546</dt>\n",
       "\t\t<dd>2.22044604925031e-16</dd>\n",
       "\t<dt>547</dt>\n",
       "\t\t<dd>2.22044604925031e-16</dd>\n",
       "\t<dt>554</dt>\n",
       "\t\t<dd>2.22044604925031e-16</dd>\n",
       "\t<dt>555</dt>\n",
       "\t\t<dd>2.22044604925031e-16</dd>\n",
       "\t<dt>558</dt>\n",
       "\t\t<dd>2.22044604925031e-16</dd>\n",
       "\t<dt>559</dt>\n",
       "\t\t<dd>2.22044604925031e-16</dd>\n",
       "\t<dt>562</dt>\n",
       "\t\t<dd>2.22044604925031e-16</dd>\n",
       "\t<dt>563</dt>\n",
       "\t\t<dd>1</dd>\n",
       "\t<dt>565</dt>\n",
       "\t\t<dd>1</dd>\n",
       "\t<dt>566</dt>\n",
       "\t\t<dd>1</dd>\n",
       "\t<dt>568</dt>\n",
       "\t\t<dd>1</dd>\n",
       "</dl>\n"
      ],
      "text/latex": [
       "\\begin{description*}\n",
       "\\item[2] 1\n",
       "\\item[3] 1\n",
       "\\item[5] 1\n",
       "\\item[9] 1\n",
       "\\item[13] 2.22044604925031e-16\n",
       "\\item[18] 1\n",
       "\\item[20] 2.22044604925031e-16\n",
       "\\item[23] 1\n",
       "\\item[27] 1\n",
       "\\item[30] 1\n",
       "\\item[33] 1\n",
       "\\item[34] 1\n",
       "\\item[47] 2.22044604925031e-16\n",
       "\\item[53] 2.22044604925031e-16\n",
       "\\item[58] 1\n",
       "\\item[62] 2.22044604925031e-16\n",
       "\\item[63] 1\n",
       "\\item[64] 2.22044604925031e-16\n",
       "\\item[65] 1\n",
       "\\item[69] 2.22044604925031e-16\n",
       "\\item[79] 1\n",
       "\\item[80] 2.22044604925031e-16\n",
       "\\item[82] 1\n",
       "\\item[83] 1\n",
       "\\item[84] 1\n",
       "\\item[88] 1\n",
       "\\item[91] 2.22044604925031e-16\n",
       "\\item[92] 1\n",
       "\\item[94] 2.22044604925031e-16\n",
       "\\item[95] 1\n",
       "\\item[99] 2.22044604925031e-16\n",
       "\\item[102] 2.22044604925031e-16\n",
       "\\item[104] 2.22044604925031e-16\n",
       "\\item[106] 1\n",
       "\\item[110] 2.22044604925031e-16\n",
       "\\item[115] 2.22044604925031e-16\n",
       "\\item[116] 2.22044604925031e-16\n",
       "\\item[118] 1\n",
       "\\item[121] 2.22044604925031e-16\n",
       "\\item[123] 1\n",
       "\\item[125] 2.22044604925031e-16\n",
       "\\item[128] 1\n",
       "\\item[130] 1\n",
       "\\item[131] 2.22044604925031e-16\n",
       "\\item[135] 1\n",
       "\\item[136] 2.22044604925031e-16\n",
       "\\item[137] 2.22044604925031e-16\n",
       "\\item[142] 1\n",
       "\\item[161] 2.22044604925031e-16\n",
       "\\item[163] 1\n",
       "\\item[164] 2.22044604925031e-16\n",
       "\\item[165] 1\n",
       "\\item[168] 1\n",
       "\\item[171] 2.22044604925031e-16\n",
       "\\item[174] 2.22044604925031e-16\n",
       "\\item[176] 2.22044604925031e-16\n",
       "\\item[181] 1\n",
       "\\item[182] 1\n",
       "\\item[184] 2.22044604925031e-16\n",
       "\\item[187] 1\n",
       "\\item[190] 2.22044604925031e-16\n",
       "\\item[202] 1\n",
       "\\item[208] 1\n",
       "\\item[210] 2.22044604925031e-16\n",
       "\\item[211] 1\n",
       "\\item[213] 1\n",
       "\\item[216] 0.999991197215869\n",
       "\\item[221] 2.22044604925031e-16\n",
       "\\item[224] 1\n",
       "\\item[228] 2.22044604925031e-16\n",
       "\\item[229] 0.456778662647079\n",
       "\\item[233] 2.22044604925031e-16\n",
       "\\item[236] 2.22044604925031e-16\n",
       "\\item[238] 1\n",
       "\\item[241] 2.22044604925031e-16\n",
       "\\item[253] 1\n",
       "\\item[256] 1\n",
       "\\item[257] 1\n",
       "\\item[258] 1\n",
       "\\item[262] 1\n",
       "\\item[265] 1\n",
       "\\item[270] 2.22044604925031e-16\n",
       "\\item[273] 1\n",
       "\\item[276] 1\n",
       "\\item[277] 2.22044604925031e-16\n",
       "\\item[278] 1\n",
       "\\item[279] 2.22044604925031e-16\n",
       "\\item[286] 2.22044604925031e-16\n",
       "\\item[289] 1\n",
       "\\item[290] 2.22044604925031e-16\n",
       "\\item[292] 2.22044604925031e-16\n",
       "\\item[301] 1\n",
       "\\item[302] 2.22044604925031e-16\n",
       "\\item[304] 2.22044604925031e-16\n",
       "\\item[305] 2.22044604925031e-16\n",
       "\\item[308] 2.22044604925031e-16\n",
       "\\item[316] 2.22044604925031e-16\n",
       "\\item[317] 2.22044604925031e-16\n",
       "\\item[319] 2.22044604925031e-16\n",
       "\\item[323] 2.22044604925031e-16\n",
       "\\item[324] 1\n",
       "\\item[328] 2.22044604925031e-16\n",
       "\\item[330] 1\n",
       "\\item[338] 1\n",
       "\\item[342] 2.22044604925031e-16\n",
       "\\item[348] 2.22044604925031e-16\n",
       "\\item[353] 1\n",
       "\\item[355] 2.22044604925031e-16\n",
       "\\item[361] 2.22044604925031e-16\n",
       "\\item[367] 1\n",
       "\\item[372] 2.22044604925031e-16\n",
       "\\item[373] 1\n",
       "\\item[382] 2.22044604925031e-16\n",
       "\\item[385] 2.22044604925031e-16\n",
       "\\item[388] 2.22044604925031e-16\n",
       "\\item[391] 2.22044604925031e-16\n",
       "\\item[392] 2.22044604925031e-16\n",
       "\\item[393] 1\n",
       "\\item[398] 2.22044604925031e-16\n",
       "\\item[402] 2.22044604925031e-16\n",
       "\\item[405] 2.22044604925031e-16\n",
       "\\item[406] 2.22044604925031e-16\n",
       "\\item[408] 2.22044604925031e-16\n",
       "\\item[413] 2.22044604925031e-16\n",
       "\\item[426] 2.22044604925031e-16\n",
       "\\item[432] 2.22044604925031e-16\n",
       "\\item[440] 2.22044604925031e-16\n",
       "\\item[442] 1\n",
       "\\item[445] 1\n",
       "\\item[446] 3.78696488351301e-07\n",
       "\\item[447] 1\n",
       "\\item[450] 1\n",
       "\\item[452] 1\n",
       "\\item[453] 2.22044604925031e-16\n",
       "\\item[454] 2.22044604925031e-16\n",
       "\\item[457] 2.22044604925031e-16\n",
       "\\item[459] 2.22044604925031e-16\n",
       "\\item[463] 2.22044604925031e-16\n",
       "\\item[470] 2.22044604925031e-16\n",
       "\\item[477] 6.5092798275825e-12\n",
       "\\item[485] 2.22044604925031e-16\n",
       "\\item[488] 1\n",
       "\\item[497] 2.22044604925031e-16\n",
       "\\item[498] 2.22044604925031e-16\n",
       "\\item[499] 1\n",
       "\\item[500] 1\n",
       "\\item[508] 2.22044604925031e-16\n",
       "\\item[515] 1\n",
       "\\item[520] 2.22044604925031e-16\n",
       "\\item[525] 2.22044604925031e-16\n",
       "\\item[526] 2.22044604925031e-16\n",
       "\\item[530] 2.22044604925031e-16\n",
       "\\item[531] 8.5277105454572e-09\n",
       "\\item[534] 1\n",
       "\\item[536] 1\n",
       "\\item[539] 2.22044604925031e-16\n",
       "\\item[540] 2.22044604925031e-16\n",
       "\\item[541] 2.22044604925031e-16\n",
       "\\item[544] 2.22044604925031e-16\n",
       "\\item[546] 2.22044604925031e-16\n",
       "\\item[547] 2.22044604925031e-16\n",
       "\\item[554] 2.22044604925031e-16\n",
       "\\item[555] 2.22044604925031e-16\n",
       "\\item[558] 2.22044604925031e-16\n",
       "\\item[559] 2.22044604925031e-16\n",
       "\\item[562] 2.22044604925031e-16\n",
       "\\item[563] 1\n",
       "\\item[565] 1\n",
       "\\item[566] 1\n",
       "\\item[568] 1\n",
       "\\end{description*}\n"
      ],
      "text/markdown": [
       "2\n",
       ":   13\n",
       ":   15\n",
       ":   19\n",
       ":   113\n",
       ":   2.22044604925031e-1618\n",
       ":   120\n",
       ":   2.22044604925031e-1623\n",
       ":   127\n",
       ":   130\n",
       ":   133\n",
       ":   134\n",
       ":   147\n",
       ":   2.22044604925031e-1653\n",
       ":   2.22044604925031e-1658\n",
       ":   162\n",
       ":   2.22044604925031e-1663\n",
       ":   164\n",
       ":   2.22044604925031e-1665\n",
       ":   169\n",
       ":   2.22044604925031e-1679\n",
       ":   180\n",
       ":   2.22044604925031e-1682\n",
       ":   183\n",
       ":   184\n",
       ":   188\n",
       ":   191\n",
       ":   2.22044604925031e-1692\n",
       ":   194\n",
       ":   2.22044604925031e-1695\n",
       ":   199\n",
       ":   2.22044604925031e-16102\n",
       ":   2.22044604925031e-16104\n",
       ":   2.22044604925031e-16106\n",
       ":   1110\n",
       ":   2.22044604925031e-16115\n",
       ":   2.22044604925031e-16116\n",
       ":   2.22044604925031e-16118\n",
       ":   1121\n",
       ":   2.22044604925031e-16123\n",
       ":   1125\n",
       ":   2.22044604925031e-16128\n",
       ":   1130\n",
       ":   1131\n",
       ":   2.22044604925031e-16135\n",
       ":   1136\n",
       ":   2.22044604925031e-16137\n",
       ":   2.22044604925031e-16142\n",
       ":   1161\n",
       ":   2.22044604925031e-16163\n",
       ":   1164\n",
       ":   2.22044604925031e-16165\n",
       ":   1168\n",
       ":   1171\n",
       ":   2.22044604925031e-16174\n",
       ":   2.22044604925031e-16176\n",
       ":   2.22044604925031e-16181\n",
       ":   1182\n",
       ":   1184\n",
       ":   2.22044604925031e-16187\n",
       ":   1190\n",
       ":   2.22044604925031e-16202\n",
       ":   1208\n",
       ":   1210\n",
       ":   2.22044604925031e-16211\n",
       ":   1213\n",
       ":   1216\n",
       ":   0.999991197215869221\n",
       ":   2.22044604925031e-16224\n",
       ":   1228\n",
       ":   2.22044604925031e-16229\n",
       ":   0.456778662647079233\n",
       ":   2.22044604925031e-16236\n",
       ":   2.22044604925031e-16238\n",
       ":   1241\n",
       ":   2.22044604925031e-16253\n",
       ":   1256\n",
       ":   1257\n",
       ":   1258\n",
       ":   1262\n",
       ":   1265\n",
       ":   1270\n",
       ":   2.22044604925031e-16273\n",
       ":   1276\n",
       ":   1277\n",
       ":   2.22044604925031e-16278\n",
       ":   1279\n",
       ":   2.22044604925031e-16286\n",
       ":   2.22044604925031e-16289\n",
       ":   1290\n",
       ":   2.22044604925031e-16292\n",
       ":   2.22044604925031e-16301\n",
       ":   1302\n",
       ":   2.22044604925031e-16304\n",
       ":   2.22044604925031e-16305\n",
       ":   2.22044604925031e-16308\n",
       ":   2.22044604925031e-16316\n",
       ":   2.22044604925031e-16317\n",
       ":   2.22044604925031e-16319\n",
       ":   2.22044604925031e-16323\n",
       ":   2.22044604925031e-16324\n",
       ":   1328\n",
       ":   2.22044604925031e-16330\n",
       ":   1338\n",
       ":   1342\n",
       ":   2.22044604925031e-16348\n",
       ":   2.22044604925031e-16353\n",
       ":   1355\n",
       ":   2.22044604925031e-16361\n",
       ":   2.22044604925031e-16367\n",
       ":   1372\n",
       ":   2.22044604925031e-16373\n",
       ":   1382\n",
       ":   2.22044604925031e-16385\n",
       ":   2.22044604925031e-16388\n",
       ":   2.22044604925031e-16391\n",
       ":   2.22044604925031e-16392\n",
       ":   2.22044604925031e-16393\n",
       ":   1398\n",
       ":   2.22044604925031e-16402\n",
       ":   2.22044604925031e-16405\n",
       ":   2.22044604925031e-16406\n",
       ":   2.22044604925031e-16408\n",
       ":   2.22044604925031e-16413\n",
       ":   2.22044604925031e-16426\n",
       ":   2.22044604925031e-16432\n",
       ":   2.22044604925031e-16440\n",
       ":   2.22044604925031e-16442\n",
       ":   1445\n",
       ":   1446\n",
       ":   3.78696488351301e-07447\n",
       ":   1450\n",
       ":   1452\n",
       ":   1453\n",
       ":   2.22044604925031e-16454\n",
       ":   2.22044604925031e-16457\n",
       ":   2.22044604925031e-16459\n",
       ":   2.22044604925031e-16463\n",
       ":   2.22044604925031e-16470\n",
       ":   2.22044604925031e-16477\n",
       ":   6.5092798275825e-12485\n",
       ":   2.22044604925031e-16488\n",
       ":   1497\n",
       ":   2.22044604925031e-16498\n",
       ":   2.22044604925031e-16499\n",
       ":   1500\n",
       ":   1508\n",
       ":   2.22044604925031e-16515\n",
       ":   1520\n",
       ":   2.22044604925031e-16525\n",
       ":   2.22044604925031e-16526\n",
       ":   2.22044604925031e-16530\n",
       ":   2.22044604925031e-16531\n",
       ":   8.5277105454572e-09534\n",
       ":   1536\n",
       ":   1539\n",
       ":   2.22044604925031e-16540\n",
       ":   2.22044604925031e-16541\n",
       ":   2.22044604925031e-16544\n",
       ":   2.22044604925031e-16546\n",
       ":   2.22044604925031e-16547\n",
       ":   2.22044604925031e-16554\n",
       ":   2.22044604925031e-16555\n",
       ":   2.22044604925031e-16558\n",
       ":   2.22044604925031e-16559\n",
       ":   2.22044604925031e-16562\n",
       ":   2.22044604925031e-16563\n",
       ":   1565\n",
       ":   1566\n",
       ":   1568\n",
       ":   1\n",
       "\n"
      ],
      "text/plain": [
       "           2            3            5            9           13           18 \n",
       "1.000000e+00 1.000000e+00 1.000000e+00 1.000000e+00 2.220446e-16 1.000000e+00 \n",
       "          20           23           27           30           33           34 \n",
       "2.220446e-16 1.000000e+00 1.000000e+00 1.000000e+00 1.000000e+00 1.000000e+00 \n",
       "          47           53           58           62           63           64 \n",
       "2.220446e-16 2.220446e-16 1.000000e+00 2.220446e-16 1.000000e+00 2.220446e-16 \n",
       "          65           69           79           80           82           83 \n",
       "1.000000e+00 2.220446e-16 1.000000e+00 2.220446e-16 1.000000e+00 1.000000e+00 \n",
       "          84           88           91           92           94           95 \n",
       "1.000000e+00 1.000000e+00 2.220446e-16 1.000000e+00 2.220446e-16 1.000000e+00 \n",
       "          99          102          104          106          110          115 \n",
       "2.220446e-16 2.220446e-16 2.220446e-16 1.000000e+00 2.220446e-16 2.220446e-16 \n",
       "         116          118          121          123          125          128 \n",
       "2.220446e-16 1.000000e+00 2.220446e-16 1.000000e+00 2.220446e-16 1.000000e+00 \n",
       "         130          131          135          136          137          142 \n",
       "1.000000e+00 2.220446e-16 1.000000e+00 2.220446e-16 2.220446e-16 1.000000e+00 \n",
       "         161          163          164          165          168          171 \n",
       "2.220446e-16 1.000000e+00 2.220446e-16 1.000000e+00 1.000000e+00 2.220446e-16 \n",
       "         174          176          181          182          184          187 \n",
       "2.220446e-16 2.220446e-16 1.000000e+00 1.000000e+00 2.220446e-16 1.000000e+00 \n",
       "         190          202          208          210          211          213 \n",
       "2.220446e-16 1.000000e+00 1.000000e+00 2.220446e-16 1.000000e+00 1.000000e+00 \n",
       "         216          221          224          228          229          233 \n",
       "9.999912e-01 2.220446e-16 1.000000e+00 2.220446e-16 4.567787e-01 2.220446e-16 \n",
       "         236          238          241          253          256          257 \n",
       "2.220446e-16 1.000000e+00 2.220446e-16 1.000000e+00 1.000000e+00 1.000000e+00 \n",
       "         258          262          265          270          273          276 \n",
       "1.000000e+00 1.000000e+00 1.000000e+00 2.220446e-16 1.000000e+00 1.000000e+00 \n",
       "         277          278          279          286          289          290 \n",
       "2.220446e-16 1.000000e+00 2.220446e-16 2.220446e-16 1.000000e+00 2.220446e-16 \n",
       "         292          301          302          304          305          308 \n",
       "2.220446e-16 1.000000e+00 2.220446e-16 2.220446e-16 2.220446e-16 2.220446e-16 \n",
       "         316          317          319          323          324          328 \n",
       "2.220446e-16 2.220446e-16 2.220446e-16 2.220446e-16 1.000000e+00 2.220446e-16 \n",
       "         330          338          342          348          353          355 \n",
       "1.000000e+00 1.000000e+00 2.220446e-16 2.220446e-16 1.000000e+00 2.220446e-16 \n",
       "         361          367          372          373          382          385 \n",
       "2.220446e-16 1.000000e+00 2.220446e-16 1.000000e+00 2.220446e-16 2.220446e-16 \n",
       "         388          391          392          393          398          402 \n",
       "2.220446e-16 2.220446e-16 2.220446e-16 1.000000e+00 2.220446e-16 2.220446e-16 \n",
       "         405          406          408          413          426          432 \n",
       "2.220446e-16 2.220446e-16 2.220446e-16 2.220446e-16 2.220446e-16 2.220446e-16 \n",
       "         440          442          445          446          447          450 \n",
       "2.220446e-16 1.000000e+00 1.000000e+00 3.786965e-07 1.000000e+00 1.000000e+00 \n",
       "         452          453          454          457          459          463 \n",
       "1.000000e+00 2.220446e-16 2.220446e-16 2.220446e-16 2.220446e-16 2.220446e-16 \n",
       "         470          477          485          488          497          498 \n",
       "2.220446e-16 6.509280e-12 2.220446e-16 1.000000e+00 2.220446e-16 2.220446e-16 \n",
       "         499          500          508          515          520          525 \n",
       "1.000000e+00 1.000000e+00 2.220446e-16 1.000000e+00 2.220446e-16 2.220446e-16 \n",
       "         526          530          531          534          536          539 \n",
       "2.220446e-16 2.220446e-16 8.527711e-09 1.000000e+00 1.000000e+00 2.220446e-16 \n",
       "         540          541          544          546          547          554 \n",
       "2.220446e-16 2.220446e-16 2.220446e-16 2.220446e-16 2.220446e-16 2.220446e-16 \n",
       "         555          558          559          562          563          565 \n",
       "2.220446e-16 2.220446e-16 2.220446e-16 2.220446e-16 1.000000e+00 1.000000e+00 \n",
       "         566          568 \n",
       "1.000000e+00 1.000000e+00 "
      ]
     },
     "metadata": {},
     "output_type": "display_data"
    }
   ],
   "source": [
    "pred.cv"
   ]
  },
  {
   "cell_type": "markdown",
   "metadata": {},
   "source": [
    "Empleamos ROC como métrica de validación:"
   ]
  },
  {
   "cell_type": "code",
   "execution_count": 132,
   "metadata": {},
   "outputs": [
    {
     "data": {
      "image/png": "[encoded data removed]",
      "text/plain": [
       "Plot with title “Curva ROC (AUC=0.970026)”"
      ]
     },
     "metadata": {
      "image/png": {
       "height": 420,
       "width": 420
      }
     },
     "output_type": "display_data"
    }
   ],
   "source": [
    "auc.cv <- roc.area(obs = df$diagnosis[idx.test], pred.cv)$A\n",
    "roc.plot(df$diagnosis[idx.test], pred.cv, main=sprintf(\"Curva ROC (AUC=%g)\", auc.cv))"
   ]
  },
  {
   "cell_type": "markdown",
   "metadata": {},
   "source": [
    "Empleamos el accuracy como métrica de validación. Para ello, necesitamos pasar nuestra salida a binaria. EMpleamos un umbral de probabilidad de 0.5:"
   ]
  },
  {
   "cell_type": "code",
   "execution_count": 133,
   "metadata": {},
   "outputs": [
    {
     "data": {
      "text/plain": [
       "Confusion Matrix and Statistics\n",
       "\n",
       "          Reference\n",
       "Prediction  0  1\n",
       "         0 95  2\n",
       "         1  3 70\n",
       "                                          \n",
       "               Accuracy : 0.9706          \n",
       "                 95% CI : (0.9327, 0.9904)\n",
       "    No Information Rate : 0.5765          \n",
       "    P-Value [Acc > NIR] : <2e-16          \n",
       "                                          \n",
       "                  Kappa : 0.9399          \n",
       "                                          \n",
       " Mcnemar's Test P-Value : 1               \n",
       "                                          \n",
       "            Sensitivity : 0.9722          \n",
       "            Specificity : 0.9694          \n",
       "         Pos Pred Value : 0.9589          \n",
       "         Neg Pred Value : 0.9794          \n",
       "             Prevalence : 0.4235          \n",
       "         Detection Rate : 0.4118          \n",
       "   Detection Prevalence : 0.4294          \n",
       "      Balanced Accuracy : 0.9708          \n",
       "                                          \n",
       "       'Positive' Class : 1               \n",
       "                                          "
      ]
     },
     "metadata": {},
     "output_type": "display_data"
    }
   ],
   "source": [
    "confusionMatrix(as.factor(as.numeric(pred.cv > 0.5)), as.factor(df$diagnosis[idx.test]), positive=\"1\")"
   ]
  },
  {
   "cell_type": "code",
   "execution_count": 139,
   "metadata": {},
   "outputs": [
    {
     "data": {
      "text/plain": [
       "    Pred.\n",
       "Ref.  0  1\n",
       "   0 95  3\n",
       "   1  2 70"
      ]
     },
     "metadata": {},
     "output_type": "display_data"
    },
    {
     "name": "stdout",
     "output_type": "stream",
     "text": [
      "Accuracy: 97.05882"
     ]
    }
   ],
   "source": [
    "# Alternativa sin usar caret\n",
    "outbin.cv <- as.double(pred.cv > 0.5)\n",
    "table(df$diagnosis[idx.test], outbin.cv, dnn=c(\"Ref.\",\"Pred.\"))\n",
    "# Accuracy\n",
    "cat(\"Accuracy: \")\n",
    "cat(100*sum(diag(table(df$diagnosis[idx.test], outbin.cv))) / length(outbin.cv))"
   ]
  },
  {
   "cell_type": "markdown",
   "metadata": {
    "slideshow": {
     "slide_type": "slide"
    }
   },
   "source": [
    "## Selección de variables\n",
    "\n"
   ]
  },
  {
   "cell_type": "markdown",
   "metadata": {
    "slideshow": {
     "slide_type": "fragment"
    }
   },
   "source": [
    "### Selección del mejor subconjunto"
   ]
  },
  {
   "cell_type": "markdown",
   "metadata": {},
   "source": [
    "La función `regsubsets` (`?regsubsets`) de la librería `leaps` nos permite realizar la selección del mejor subconjunto con un número dado de predictores. La sintaxis es similar a la usada para el modelo lineal (`lm`) y, del mismo modo, el comando `summary` nos permite explorar los resultados. Utilizamos el argumento `nvmax` para forzar la utilización de todas las variables (30), ya que por defecto la función regsubsets solo utiliza las 8 primeras."
   ]
  },
  {
   "cell_type": "code",
   "execution_count": 8,
   "metadata": {},
   "outputs": [],
   "source": [
    "library(leaps)\n",
    "regfit.full <- regsubsets(diagnosis ~., df, nvmax = 30) # por defecto method=\"exhaustive\"\n",
    "# nvmax numero maximos de variables. Por defecto 8"
   ]
  },
  {
   "cell_type": "markdown",
   "metadata": {
    "slideshow": {
     "slide_type": "slide"
    }
   },
   "source": [
    "La función `summary` devuelve medidas del ajuste que se pueden usar para seleccionar el mejor modelo."
   ]
  },
  {
   "cell_type": "code",
   "execution_count": 9,
   "metadata": {
    "scrolled": false,
    "slideshow": {
     "slide_type": "-"
    }
   },
   "outputs": [
    {
     "data": {
      "text/html": [
       "<ol class=list-inline>\n",
       "\t<li>'which'</li>\n",
       "\t<li>'rsq'</li>\n",
       "\t<li>'rss'</li>\n",
       "\t<li>'adjr2'</li>\n",
       "\t<li>'cp'</li>\n",
       "\t<li>'bic'</li>\n",
       "\t<li>'outmat'</li>\n",
       "\t<li>'obj'</li>\n",
       "</ol>\n"
      ],
      "text/latex": [
       "\\begin{enumerate*}\n",
       "\\item 'which'\n",
       "\\item 'rsq'\n",
       "\\item 'rss'\n",
       "\\item 'adjr2'\n",
       "\\item 'cp'\n",
       "\\item 'bic'\n",
       "\\item 'outmat'\n",
       "\\item 'obj'\n",
       "\\end{enumerate*}\n"
      ],
      "text/markdown": [
       "1. 'which'\n",
       "2. 'rsq'\n",
       "3. 'rss'\n",
       "4. 'adjr2'\n",
       "5. 'cp'\n",
       "6. 'bic'\n",
       "7. 'outmat'\n",
       "8. 'obj'\n",
       "\n",
       "\n"
      ],
      "text/plain": [
       "[1] \"which\"  \"rsq\"    \"rss\"    \"adjr2\"  \"cp\"     \"bic\"    \"outmat\" \"obj\"   "
      ]
     },
     "metadata": {},
     "output_type": "display_data"
    }
   ],
   "source": [
    "full.summary <- summary(regfit.full)\n",
    "names(full.summary)\n",
    "# cuando el bic e smínimo, entonces el número de varianles es óptimo"
   ]
  },
  {
   "cell_type": "markdown",
   "metadata": {
    "slideshow": {
     "slide_type": "slide"
    }
   },
   "source": [
    "En particular, si revisamos los valores del ajuste, en este caso rsq ($R^2$, el coeficiente de determinación), se observa que el estadístico va mejorando a medida que aumentamos el número de variables en el modelo. No puede ser de otra manera, ya que este estadístico está relacionado con la varianza explicada por nuestro modelo, que aumenta monótonamente al incluir variables adicionales. Sin embargo, si nos fijamos en el estadístico BIC (*Bayesian information criterion*), que penaliza la complejidad del modelo (el número de variables predictoras), se observa que los valores óptimos se encuentran considerando 11 variables."
   ]
  },
  {
   "cell_type": "code",
   "execution_count": 26,
   "metadata": {},
   "outputs": [
    {
     "data": {
      "image/png": "[encoded data removed]",
      "text/plain": [
       "plot without title"
      ]
     },
     "metadata": {
      "image/png": {
       "height": 420,
       "width": 420
      }
     },
     "output_type": "display_data"
    }
   ],
   "source": [
    "scores <- c(\"rsq\", \"bic\")\n",
    "par(mfrow=c(length(scores),1), mar=c(4,4,1,1))\n",
    "for (score in scores){\n",
    "  plot(full.summary[[score]], xlab=\"Number of Variables\", ylab=score, type=\"l\")\n",
    "}"
   ]
  },
  {
   "cell_type": "code",
   "execution_count": 11,
   "metadata": {},
   "outputs": [
    {
     "data": {
      "text/html": [
       "11"
      ],
      "text/latex": [
       "11"
      ],
      "text/markdown": [
       "11"
      ],
      "text/plain": [
       "[1] 11"
      ]
     },
     "metadata": {},
     "output_type": "display_data"
    }
   ],
   "source": [
    "which.min(full.summary$bic)"
   ]
  },
  {
   "cell_type": "markdown",
   "metadata": {
    "slideshow": {
     "slide_type": "slide"
    }
   },
   "source": [
    "La propia función `regsubsets` incorpora un método para dibujar los resultados clasificados según los diferentes estadísticos (`? plot.regsubsets`)"
   ]
  },
  {
   "cell_type": "code",
   "execution_count": 12,
   "metadata": {},
   "outputs": [
    {
     "data": {
      "image/png": "[encoded data removed]",
      "text/plain": [
       "plot without title"
      ]
     },
     "metadata": {
      "image/png": {
       "height": 420,
       "width": 420
      }
     },
     "output_type": "display_data"
    }
   ],
   "source": [
    "plot(regfit.full, scale =\"r2\")\n",
    "#plot(regfit.full, scale =\"bic\")"
   ]
  },
  {
   "cell_type": "markdown",
   "metadata": {
    "slideshow": {
     "slide_type": "-"
    }
   },
   "source": [
    "Cada fila de este gráfico representa el mejor modelo ajustado para un número dado de variables. Cada cuadrado de color representa que la variable entra en ese modelo, mientras que la intensidad del color se asocia con la escala del eje Y."
   ]
  },
  {
   "cell_type": "markdown",
   "metadata": {
    "slideshow": {
     "slide_type": "slide"
    }
   },
   "source": [
    "Una vez localizado el modelo óptimo (en nuestro caso, el de 11 variables), si queremos conocer los coeficientes del modelo, podemos usar la función `coef` con un segundo argumento:"
   ]
  },
  {
   "cell_type": "code",
   "execution_count": 27,
   "metadata": {},
   "outputs": [
    {
     "data": {
      "text/html": [
       "<dl class=dl-horizontal>\n",
       "\t<dt>(Intercept)</dt>\n",
       "\t\t<dd>0.372583479789104</dd>\n",
       "\t<dt>radius_mean</dt>\n",
       "\t\t<dd>-0.17840168622488</dd>\n",
       "\t<dt>compactness_mean</dt>\n",
       "\t\t<dd>-0.129332282502137</dd>\n",
       "\t<dt>concave.points_mean</dt>\n",
       "\t\t<dd>0.196644687579789</dd>\n",
       "\t<dt>radius_se</dt>\n",
       "\t\t<dd>0.0580387760431747</dd>\n",
       "\t<dt>smoothness_se</dt>\n",
       "\t\t<dd>0.0656697156808529</dd>\n",
       "\t<dt>concavity_se</dt>\n",
       "\t\t<dd>-0.0667961085058052</dd>\n",
       "\t<dt>radius_worst</dt>\n",
       "\t\t<dd>0.873519264685047</dd>\n",
       "\t<dt>texture_worst</dt>\n",
       "\t\t<dd>0.0618908682342928</dd>\n",
       "\t<dt>area_worst</dt>\n",
       "\t\t<dd>-0.563902190729326</dd>\n",
       "\t<dt>concavity_worst</dt>\n",
       "\t\t<dd>0.154467115714464</dd>\n",
       "\t<dt>symmetry_worst</dt>\n",
       "\t\t<dd>0.0461066464355399</dd>\n",
       "</dl>\n"
      ],
      "text/latex": [
       "\\begin{description*}\n",
       "\\item[(Intercept)] 0.372583479789104\n",
       "\\item[radius\\textbackslash{}\\_mean] -0.17840168622488\n",
       "\\item[compactness\\textbackslash{}\\_mean] -0.129332282502137\n",
       "\\item[concave.points\\textbackslash{}\\_mean] 0.196644687579789\n",
       "\\item[radius\\textbackslash{}\\_se] 0.0580387760431747\n",
       "\\item[smoothness\\textbackslash{}\\_se] 0.0656697156808529\n",
       "\\item[concavity\\textbackslash{}\\_se] -0.0667961085058052\n",
       "\\item[radius\\textbackslash{}\\_worst] 0.873519264685047\n",
       "\\item[texture\\textbackslash{}\\_worst] 0.0618908682342928\n",
       "\\item[area\\textbackslash{}\\_worst] -0.563902190729326\n",
       "\\item[concavity\\textbackslash{}\\_worst] 0.154467115714464\n",
       "\\item[symmetry\\textbackslash{}\\_worst] 0.0461066464355399\n",
       "\\end{description*}\n"
      ],
      "text/markdown": [
       "(Intercept)\n",
       ":   0.372583479789104radius_mean\n",
       ":   -0.17840168622488compactness_mean\n",
       ":   -0.129332282502137concave.points_mean\n",
       ":   0.196644687579789radius_se\n",
       ":   0.0580387760431747smoothness_se\n",
       ":   0.0656697156808529concavity_se\n",
       ":   -0.0667961085058052radius_worst\n",
       ":   0.873519264685047texture_worst\n",
       ":   0.0618908682342928area_worst\n",
       ":   -0.563902190729326concavity_worst\n",
       ":   0.154467115714464symmetry_worst\n",
       ":   0.0461066464355399\n",
       "\n"
      ],
      "text/plain": [
       "        (Intercept)         radius_mean    compactness_mean concave.points_mean \n",
       "         0.37258348         -0.17840169         -0.12933228          0.19664469 \n",
       "          radius_se       smoothness_se        concavity_se        radius_worst \n",
       "         0.05803878          0.06566972         -0.06679611          0.87351926 \n",
       "      texture_worst          area_worst     concavity_worst      symmetry_worst \n",
       "         0.06189087         -0.56390219          0.15446712          0.04610665 "
      ]
     },
     "metadata": {},
     "output_type": "display_data"
    }
   ],
   "source": [
    "coef(regfit.full, 11)"
   ]
  },
  {
   "cell_type": "markdown",
   "metadata": {
    "slideshow": {
     "slide_type": "slide"
    }
   },
   "source": [
    "### Selección stepwise\n",
    "Al no haber especificado método de selección, la búsqueda del mejor modelo de la sección anterior ha sido exhaustiva. Con un leve cambio en los argumentos de la función podemos realizar la selección _stepwise_, ya sea “forward” o “backward”:"
   ]
  },
  {
   "cell_type": "code",
   "execution_count": 28,
   "metadata": {},
   "outputs": [],
   "source": [
    "regfit.fwd <- regsubsets(diagnosis~., data = df, nvmax = 30 , method =\"forward\")\n",
    "fwd.summary <- summary(regfit.fwd)"
   ]
  },
  {
   "cell_type": "markdown",
   "metadata": {
    "slideshow": {
     "slide_type": "slide"
    }
   },
   "source": [
    "**TAREA 2:** Estudiar los predictores seleccionados en este caso. ¿cuál es su número óptimo? ¿coinciden con los anteriores?"
   ]
  },
  {
   "cell_type": "code",
   "execution_count": null,
   "metadata": {},
   "outputs": [],
   "source": []
  },
  {
   "cell_type": "markdown",
   "metadata": {
    "slideshow": {
     "slide_type": "slide"
    }
   },
   "source": [
    "**TAREA 3:** Comparar la selección realizada por el método _backward_ con los métodos exhaustivo y _forward stepwise_."
   ]
  },
  {
   "cell_type": "code",
   "execution_count": null,
   "metadata": {},
   "outputs": [],
   "source": []
  },
  {
   "cell_type": "markdown",
   "metadata": {
    "slideshow": {
     "slide_type": "slide"
    }
   },
   "source": [
    "### Selección mediante la función step\n",
    "Otra opción para realizar la selección _stepwise_ es usar la función `step`, que forma parte del paquete básico `stats` de R:"
   ]
  },
  {
   "cell_type": "code",
   "execution_count": 29,
   "metadata": {},
   "outputs": [
    {
     "name": "stderr",
     "output_type": "stream",
     "text": [
      "Warning message:\n",
      "“glm.fit: fitted probabilities numerically 0 or 1 occurred”\n"
     ]
    },
    {
     "name": "stdout",
     "output_type": "stream",
     "text": [
      "Start:  AIC=753.44\n",
      "diagnosis ~ 1\n",
      "\n"
     ]
    },
    {
     "name": "stderr",
     "output_type": "stream",
     "text": [
      "Warning message:\n",
      "“glm.fit: fitted probabilities numerically 0 or 1 occurred”\n",
      "Warning message:\n",
      "“glm.fit: fitted probabilities numerically 0 or 1 occurred”\n"
     ]
    },
    {
     "name": "stdout",
     "output_type": "stream",
     "text": [
      "                         Df Deviance    AIC\n",
      "+ perimeter_worst         1   209.48 213.48\n",
      "+ radius_worst            1   229.11 233.11\n",
      "+ area_worst              1   230.64 234.64\n",
      "+ concave.points_worst    1   250.45 254.45\n",
      "+ concave.points_mean     1   258.92 262.92\n",
      "+ perimeter_mean          1   304.48 308.48\n",
      "+ area_mean               1   325.66 329.66\n",
      "+ radius_mean             1   330.01 334.01\n",
      "+ area_se                 1   359.50 363.50\n",
      "+ concavity_mean          1   383.23 387.23\n",
      "+ concavity_worst         1   437.70 441.70\n",
      "+ perimeter_se            1   472.83 476.83\n",
      "+ radius_se               1   480.65 484.65\n",
      "+ compactness_worst       1   505.55 509.55\n",
      "+ compactness_mean        1   508.79 512.79\n",
      "+ texture_worst           1   622.07 626.07\n",
      "+ symmetry_worst          1   641.42 645.42\n",
      "+ smoothness_worst        1   641.42 645.42\n",
      "+ concave.points_se       1   646.01 650.01\n",
      "+ texture_mean            1   646.52 650.52\n",
      "+ smoothness_mean         1   673.95 677.95\n",
      "+ symmetry_mean           1   686.80 690.80\n",
      "+ compactness_se          1   701.77 705.77\n",
      "+ concavity_se            1   707.09 711.09\n",
      "+ fractal_dimension_se    1   748.06 752.06\n",
      "+ smoothness_se           1   748.79 752.79\n",
      "<none>                        751.44 753.44\n",
      "+ fractal_dimension_mean  1   751.35 755.35\n",
      "+ texture_se              1   751.40 755.40\n",
      "+ symmetry_se             1   751.42 755.42\n",
      "\n",
      "Step:  AIC=213.48\n",
      "diagnosis ~ perimeter_worst\n",
      "\n"
     ]
    },
    {
     "name": "stderr",
     "output_type": "stream",
     "text": [
      "Warning message:\n",
      "“glm.fit: fitted probabilities numerically 0 or 1 occurred”\n",
      "Warning message:\n",
      "“glm.fit: fitted probabilities numerically 0 or 1 occurred”\n",
      "Warning message:\n",
      "“glm.fit: fitted probabilities numerically 0 or 1 occurred”\n"
     ]
    },
    {
     "name": "stdout",
     "output_type": "stream",
     "text": [
      "                         Df Deviance    AIC\n",
      "+ smoothness_worst        1   139.18 145.18\n",
      "+ concave.points_worst    1   149.59 155.59\n",
      "+ texture_worst           1   159.68 165.68\n",
      "+ concave.points_mean     1   162.47 168.47\n",
      "+ smoothness_mean         1   165.18 171.18\n",
      "+ symmetry_worst          1   167.85 173.85\n",
      "+ concavity_worst         1   168.55 174.55\n",
      "+ concavity_mean          1   169.78 175.78\n",
      "+ radius_mean             1   173.15 179.15\n",
      "+ compactness_worst       1   175.42 181.42\n",
      "+ symmetry_mean           1   177.18 183.18\n",
      "+ fractal_dimension_mean  1   177.62 183.62\n",
      "+ texture_mean            1   178.63 184.63\n",
      "+ area_mean               1   180.70 186.70\n",
      "+ compactness_mean        1   181.84 187.84\n",
      "+ perimeter_mean          1   183.59 189.59\n",
      "+ smoothness_se           1   191.06 197.06\n",
      "+ texture_se              1   195.30 201.30\n",
      "+ concave.points_se       1   198.67 204.67\n",
      "+ radius_se               1   199.25 205.25\n",
      "+ area_se                 1   201.45 207.45\n",
      "+ symmetry_se             1   201.51 207.51\n",
      "+ perimeter_se            1   202.50 208.50\n",
      "+ compactness_se          1   203.30 209.30\n",
      "+ concavity_se            1   203.93 209.93\n",
      "+ fractal_dimension_se    1   205.07 211.07\n",
      "<none>                        209.48 213.48\n",
      "+ radius_worst            1   208.72 214.72\n",
      "+ area_worst              1   209.14 215.14\n",
      "\n",
      "Step:  AIC=145.18\n",
      "diagnosis ~ perimeter_worst + smoothness_worst\n",
      "\n"
     ]
    },
    {
     "name": "stderr",
     "output_type": "stream",
     "text": [
      "Warning message:\n",
      "“glm.fit: fitted probabilities numerically 0 or 1 occurred”\n",
      "Warning message:\n",
      "“glm.fit: fitted probabilities numerically 0 or 1 occurred”\n",
      "Warning message:\n",
      "“glm.fit: fitted probabilities numerically 0 or 1 occurred”\n",
      "Warning message:\n",
      "“glm.fit: fitted probabilities numerically 0 or 1 occurred”\n",
      "Warning message:\n",
      "“glm.fit: fitted probabilities numerically 0 or 1 occurred”\n",
      "Warning message:\n",
      "“glm.fit: fitted probabilities numerically 0 or 1 occurred”\n",
      "Warning message:\n",
      "“glm.fit: fitted probabilities numerically 0 or 1 occurred”\n",
      "Warning message:\n",
      "“glm.fit: fitted probabilities numerically 0 or 1 occurred”\n"
     ]
    },
    {
     "name": "stdout",
     "output_type": "stream",
     "text": [
      "                         Df Deviance    AIC\n",
      "+ texture_worst           1   103.61 111.61\n",
      "+ texture_mean            1   106.84 114.84\n",
      "+ texture_se              1   122.51 130.51\n",
      "+ area_se                 1   123.42 131.42\n",
      "+ radius_se               1   124.89 132.90\n",
      "+ perimeter_se            1   130.42 138.42\n",
      "+ concavity_mean          1   133.31 141.31\n",
      "+ symmetry_worst          1   134.45 142.45\n",
      "+ area_worst              1   134.65 142.65\n",
      "+ symmetry_se             1   135.31 143.31\n",
      "+ concave.points_mean     1   135.35 143.35\n",
      "+ concave.points_worst    1   135.57 143.57\n",
      "+ concavity_worst         1   135.97 143.97\n",
      "+ symmetry_mean           1   136.21 144.21\n",
      "+ concave.points_se       1   136.32 144.32\n",
      "<none>                        139.18 145.18\n",
      "+ concavity_se            1   137.42 145.42\n",
      "+ radius_worst            1   137.53 145.53\n",
      "+ radius_mean             1   137.66 145.66\n",
      "+ perimeter_mean          1   137.81 145.81\n",
      "+ smoothness_se           1   138.54 146.54\n",
      "+ area_mean               1   138.78 146.78\n",
      "+ fractal_dimension_mean  1   138.97 146.97\n",
      "+ smoothness_mean         1   138.98 146.98\n",
      "+ compactness_mean        1   139.06 147.06\n",
      "+ compactness_worst       1   139.06 147.06\n",
      "+ compactness_se          1   139.11 147.11\n",
      "+ fractal_dimension_se    1   139.18 147.18\n"
     ]
    },
    {
     "name": "stderr",
     "output_type": "stream",
     "text": [
      "Warning message:\n",
      "“glm.fit: fitted probabilities numerically 0 or 1 occurred”\n"
     ]
    },
    {
     "name": "stdout",
     "output_type": "stream",
     "text": [
      "\n",
      "Step:  AIC=111.61\n",
      "diagnosis ~ perimeter_worst + smoothness_worst + texture_worst\n",
      "\n"
     ]
    },
    {
     "name": "stderr",
     "output_type": "stream",
     "text": [
      "Warning message:\n",
      "“glm.fit: fitted probabilities numerically 0 or 1 occurred”\n",
      "Warning message:\n",
      "“glm.fit: fitted probabilities numerically 0 or 1 occurred”\n",
      "Warning message:\n",
      "“glm.fit: fitted probabilities numerically 0 or 1 occurred”\n",
      "Warning message:\n",
      "“glm.fit: fitted probabilities numerically 0 or 1 occurred”\n",
      "Warning message:\n",
      "“glm.fit: fitted probabilities numerically 0 or 1 occurred”\n",
      "Warning message:\n",
      "“glm.fit: fitted probabilities numerically 0 or 1 occurred”\n",
      "Warning message:\n",
      "“glm.fit: fitted probabilities numerically 0 or 1 occurred”\n",
      "Warning message:\n",
      "“glm.fit: fitted probabilities numerically 0 or 1 occurred”\n",
      "Warning message:\n",
      "“glm.fit: fitted probabilities numerically 0 or 1 occurred”\n",
      "Warning message:\n",
      "“glm.fit: fitted probabilities numerically 0 or 1 occurred”\n",
      "Warning message:\n",
      "“glm.fit: fitted probabilities numerically 0 or 1 occurred”\n",
      "Warning message:\n",
      "“glm.fit: fitted probabilities numerically 0 or 1 occurred”\n",
      "Warning message:\n",
      "“glm.fit: fitted probabilities numerically 0 or 1 occurred”\n",
      "Warning message:\n",
      "“glm.fit: fitted probabilities numerically 0 or 1 occurred”\n",
      "Warning message:\n",
      "“glm.fit: fitted probabilities numerically 0 or 1 occurred”\n",
      "Warning message:\n",
      "“glm.fit: fitted probabilities numerically 0 or 1 occurred”\n",
      "Warning message:\n",
      "“glm.fit: fitted probabilities numerically 0 or 1 occurred”\n",
      "Warning message:\n",
      "“glm.fit: fitted probabilities numerically 0 or 1 occurred”\n",
      "Warning message:\n",
      "“glm.fit: fitted probabilities numerically 0 or 1 occurred”\n",
      "Warning message:\n",
      "“glm.fit: fitted probabilities numerically 0 or 1 occurred”\n",
      "Warning message:\n",
      "“glm.fit: fitted probabilities numerically 0 or 1 occurred”\n",
      "Warning message:\n",
      "“glm.fit: fitted probabilities numerically 0 or 1 occurred”\n",
      "Warning message:\n",
      "“glm.fit: fitted probabilities numerically 0 or 1 occurred”\n",
      "Warning message:\n",
      "“glm.fit: fitted probabilities numerically 0 or 1 occurred”\n",
      "Warning message:\n",
      "“glm.fit: fitted probabilities numerically 0 or 1 occurred”\n",
      "Warning message:\n",
      "“glm.fit: fitted probabilities numerically 0 or 1 occurred”\n",
      "Warning message:\n",
      "“glm.fit: fitted probabilities numerically 0 or 1 occurred”\n"
     ]
    },
    {
     "name": "stdout",
     "output_type": "stream",
     "text": [
      "                         Df Deviance     AIC\n",
      "+ radius_se               1   87.205  97.205\n",
      "+ area_se                 1   87.437  97.437\n",
      "+ perimeter_se            1   94.237 104.237\n",
      "+ concave.points_mean     1   94.884 104.884\n",
      "+ concave.points_se       1   98.633 108.633\n",
      "+ symmetry_mean           1   98.669 108.669\n",
      "+ concavity_mean          1   98.727 108.727\n",
      "+ symmetry_se             1   98.826 108.826\n",
      "+ concave.points_worst    1   99.349 109.349\n",
      "+ symmetry_worst          1  100.170 110.170\n",
      "+ area_worst              1  100.526 110.526\n",
      "+ radius_worst            1  101.505 111.505\n",
      "<none>                       103.612 111.612\n",
      "+ smoothness_mean         1  101.830 111.830\n",
      "+ concavity_worst         1  102.514 112.514\n",
      "+ concavity_se            1  102.560 112.560\n",
      "+ texture_mean            1  103.218 113.218\n",
      "+ fractal_dimension_se    1  103.224 113.224\n",
      "+ texture_se              1  103.237 113.237\n",
      "+ smoothness_se           1  103.285 113.285\n",
      "+ compactness_worst       1  103.360 113.360\n",
      "+ compactness_se          1  103.369 113.369\n",
      "+ radius_mean             1  103.583 113.583\n",
      "+ area_mean               1  103.589 113.589\n",
      "+ perimeter_mean          1  103.604 113.604\n",
      "+ fractal_dimension_mean  1  103.605 113.605\n",
      "+ compactness_mean        1  103.610 113.610\n"
     ]
    },
    {
     "name": "stderr",
     "output_type": "stream",
     "text": [
      "Warning message:\n",
      "“glm.fit: fitted probabilities numerically 0 or 1 occurred”\n"
     ]
    },
    {
     "name": "stdout",
     "output_type": "stream",
     "text": [
      "\n",
      "Step:  AIC=97.2\n",
      "diagnosis ~ perimeter_worst + smoothness_worst + texture_worst + \n",
      "    radius_se\n",
      "\n"
     ]
    },
    {
     "name": "stderr",
     "output_type": "stream",
     "text": [
      "Warning message:\n",
      "“glm.fit: fitted probabilities numerically 0 or 1 occurred”\n",
      "Warning message:\n",
      "“glm.fit: fitted probabilities numerically 0 or 1 occurred”\n",
      "Warning message:\n",
      "“glm.fit: fitted probabilities numerically 0 or 1 occurred”\n",
      "Warning message:\n",
      "“glm.fit: fitted probabilities numerically 0 or 1 occurred”\n",
      "Warning message:\n",
      "“glm.fit: fitted probabilities numerically 0 or 1 occurred”\n",
      "Warning message:\n",
      "“glm.fit: fitted probabilities numerically 0 or 1 occurred”\n",
      "Warning message:\n",
      "“glm.fit: fitted probabilities numerically 0 or 1 occurred”\n",
      "Warning message:\n",
      "“glm.fit: fitted probabilities numerically 0 or 1 occurred”\n",
      "Warning message:\n",
      "“glm.fit: fitted probabilities numerically 0 or 1 occurred”\n",
      "Warning message:\n",
      "“glm.fit: fitted probabilities numerically 0 or 1 occurred”\n",
      "Warning message:\n",
      "“glm.fit: fitted probabilities numerically 0 or 1 occurred”\n",
      "Warning message:\n",
      "“glm.fit: fitted probabilities numerically 0 or 1 occurred”\n",
      "Warning message:\n",
      "“glm.fit: fitted probabilities numerically 0 or 1 occurred”\n",
      "Warning message:\n",
      "“glm.fit: fitted probabilities numerically 0 or 1 occurred”\n",
      "Warning message:\n",
      "“glm.fit: fitted probabilities numerically 0 or 1 occurred”\n",
      "Warning message:\n",
      "“glm.fit: fitted probabilities numerically 0 or 1 occurred”\n",
      "Warning message:\n",
      "“glm.fit: fitted probabilities numerically 0 or 1 occurred”\n",
      "Warning message:\n",
      "“glm.fit: fitted probabilities numerically 0 or 1 occurred”\n",
      "Warning message:\n",
      "“glm.fit: fitted probabilities numerically 0 or 1 occurred”\n",
      "Warning message:\n",
      "“glm.fit: fitted probabilities numerically 0 or 1 occurred”\n",
      "Warning message:\n",
      "“glm.fit: fitted probabilities numerically 0 or 1 occurred”\n",
      "Warning message:\n",
      "“glm.fit: fitted probabilities numerically 0 or 1 occurred”\n",
      "Warning message:\n",
      "“glm.fit: fitted probabilities numerically 0 or 1 occurred”\n",
      "Warning message:\n",
      "“glm.fit: fitted probabilities numerically 0 or 1 occurred”\n",
      "Warning message:\n",
      "“glm.fit: fitted probabilities numerically 0 or 1 occurred”\n",
      "Warning message:\n",
      "“glm.fit: fitted probabilities numerically 0 or 1 occurred”\n"
     ]
    },
    {
     "name": "stdout",
     "output_type": "stream",
     "text": [
      "                         Df Deviance    AIC\n",
      "+ symmetry_worst          1   79.073 91.073\n",
      "+ concave.points_worst    1   79.196 91.196\n",
      "+ texture_se              1   82.558 94.558\n",
      "+ concave.points_mean     1   84.004 96.004\n",
      "+ concavity_worst         1   84.146 96.146\n",
      "+ fractal_dimension_se    1   84.287 96.287\n",
      "+ symmetry_mean           1   84.542 96.542\n",
      "+ compactness_se          1   84.888 96.888\n",
      "+ perimeter_se            1   85.151 97.151\n",
      "+ concavity_mean          1   85.159 97.159\n",
      "<none>                        87.205 97.205\n",
      "+ area_worst              1   85.805 97.805\n",
      "+ smoothness_se           1   85.810 97.810\n",
      "+ symmetry_se             1   86.025 98.025\n",
      "+ radius_worst            1   86.030 98.030\n",
      "+ compactness_mean        1   86.597 98.597\n",
      "+ fractal_dimension_mean  1   86.729 98.729\n",
      "+ perimeter_mean          1   86.780 98.780\n",
      "+ radius_mean             1   86.873 98.873\n",
      "+ area_mean               1   87.043 99.043\n",
      "+ texture_mean            1   87.050 99.050\n",
      "+ smoothness_mean         1   87.075 99.075\n",
      "+ concave.points_se       1   87.081 99.081\n",
      "+ area_se                 1   87.170 99.170\n",
      "+ compactness_worst       1   87.194 99.194\n",
      "+ concavity_se            1   87.205 99.205\n"
     ]
    },
    {
     "name": "stderr",
     "output_type": "stream",
     "text": [
      "Warning message:\n",
      "“glm.fit: fitted probabilities numerically 0 or 1 occurred”\n"
     ]
    },
    {
     "name": "stdout",
     "output_type": "stream",
     "text": [
      "\n",
      "Step:  AIC=91.07\n",
      "diagnosis ~ perimeter_worst + smoothness_worst + texture_worst + \n",
      "    radius_se + symmetry_worst\n",
      "\n"
     ]
    },
    {
     "name": "stderr",
     "output_type": "stream",
     "text": [
      "Warning message:\n",
      "“glm.fit: fitted probabilities numerically 0 or 1 occurred”\n",
      "Warning message:\n",
      "“glm.fit: fitted probabilities numerically 0 or 1 occurred”\n",
      "Warning message:\n",
      "“glm.fit: fitted probabilities numerically 0 or 1 occurred”\n",
      "Warning message:\n",
      "“glm.fit: fitted probabilities numerically 0 or 1 occurred”\n",
      "Warning message:\n",
      "“glm.fit: fitted probabilities numerically 0 or 1 occurred”\n",
      "Warning message:\n",
      "“glm.fit: fitted probabilities numerically 0 or 1 occurred”\n",
      "Warning message:\n",
      "“glm.fit: fitted probabilities numerically 0 or 1 occurred”\n",
      "Warning message:\n",
      "“glm.fit: fitted probabilities numerically 0 or 1 occurred”\n",
      "Warning message:\n",
      "“glm.fit: fitted probabilities numerically 0 or 1 occurred”\n",
      "Warning message:\n",
      "“glm.fit: fitted probabilities numerically 0 or 1 occurred”\n",
      "Warning message:\n",
      "“glm.fit: fitted probabilities numerically 0 or 1 occurred”\n",
      "Warning message:\n",
      "“glm.fit: fitted probabilities numerically 0 or 1 occurred”\n",
      "Warning message:\n",
      "“glm.fit: fitted probabilities numerically 0 or 1 occurred”\n",
      "Warning message:\n",
      "“glm.fit: fitted probabilities numerically 0 or 1 occurred”\n",
      "Warning message:\n",
      "“glm.fit: fitted probabilities numerically 0 or 1 occurred”\n",
      "Warning message:\n",
      "“glm.fit: fitted probabilities numerically 0 or 1 occurred”\n",
      "Warning message:\n",
      "“glm.fit: fitted probabilities numerically 0 or 1 occurred”\n",
      "Warning message:\n",
      "“glm.fit: fitted probabilities numerically 0 or 1 occurred”\n",
      "Warning message:\n",
      "“glm.fit: fitted probabilities numerically 0 or 1 occurred”\n",
      "Warning message:\n",
      "“glm.fit: fitted probabilities numerically 0 or 1 occurred”\n",
      "Warning message:\n",
      "“glm.fit: fitted probabilities numerically 0 or 1 occurred”\n",
      "Warning message:\n",
      "“glm.fit: fitted probabilities numerically 0 or 1 occurred”\n",
      "Warning message:\n",
      "“glm.fit: fitted probabilities numerically 0 or 1 occurred”\n",
      "Warning message:\n",
      "“glm.fit: fitted probabilities numerically 0 or 1 occurred”\n",
      "Warning message:\n",
      "“glm.fit: fitted probabilities numerically 0 or 1 occurred”\n"
     ]
    },
    {
     "name": "stdout",
     "output_type": "stream",
     "text": [
      "                         Df Deviance    AIC\n",
      "+ compactness_se          1   74.511 88.511\n",
      "+ concave.points_worst    1   74.850 88.850\n",
      "+ fractal_dimension_se    1   75.551 89.551\n",
      "+ texture_se              1   75.869 89.869\n",
      "+ area_worst              1   76.196 90.196\n",
      "+ compactness_mean        1   76.436 90.436\n",
      "+ perimeter_se            1   76.737 90.737\n",
      "+ radius_worst            1   76.821 90.821\n",
      "+ fractal_dimension_mean  1   76.900 90.900\n",
      "+ concave.points_mean     1   76.974 90.974\n",
      "<none>                        79.073 91.073\n",
      "+ compactness_worst       1   77.638 91.638\n",
      "+ concavity_worst         1   78.142 92.142\n",
      "+ symmetry_se             1   78.211 92.211\n",
      "+ concavity_mean          1   78.438 92.438\n",
      "+ area_se                 1   78.494 92.494\n",
      "+ smoothness_mean         1   78.730 92.730\n",
      "+ smoothness_se           1   78.772 92.772\n",
      "+ symmetry_mean           1   78.803 92.803\n",
      "+ area_mean               1   78.899 92.899\n",
      "+ concavity_se            1   78.973 92.973\n",
      "+ radius_mean             1   78.999 92.999\n",
      "+ concave.points_se       1   79.005 93.005\n",
      "+ texture_mean            1   79.034 93.034\n",
      "+ perimeter_mean          1   79.072 93.072\n"
     ]
    },
    {
     "name": "stderr",
     "output_type": "stream",
     "text": [
      "Warning message:\n",
      "“glm.fit: fitted probabilities numerically 0 or 1 occurred”\n"
     ]
    },
    {
     "name": "stdout",
     "output_type": "stream",
     "text": [
      "\n",
      "Step:  AIC=88.51\n",
      "diagnosis ~ perimeter_worst + smoothness_worst + texture_worst + \n",
      "    radius_se + symmetry_worst + compactness_se\n",
      "\n"
     ]
    },
    {
     "name": "stderr",
     "output_type": "stream",
     "text": [
      "Warning message:\n",
      "“glm.fit: fitted probabilities numerically 0 or 1 occurred”\n",
      "Warning message:\n",
      "“glm.fit: fitted probabilities numerically 0 or 1 occurred”\n",
      "Warning message:\n",
      "“glm.fit: fitted probabilities numerically 0 or 1 occurred”\n",
      "Warning message:\n",
      "“glm.fit: fitted probabilities numerically 0 or 1 occurred”\n",
      "Warning message:\n",
      "“glm.fit: fitted probabilities numerically 0 or 1 occurred”\n",
      "Warning message:\n",
      "“glm.fit: fitted probabilities numerically 0 or 1 occurred”\n",
      "Warning message:\n",
      "“glm.fit: fitted probabilities numerically 0 or 1 occurred”\n",
      "Warning message:\n",
      "“glm.fit: fitted probabilities numerically 0 or 1 occurred”\n",
      "Warning message:\n",
      "“glm.fit: fitted probabilities numerically 0 or 1 occurred”\n",
      "Warning message:\n",
      "“glm.fit: fitted probabilities numerically 0 or 1 occurred”\n",
      "Warning message:\n",
      "“glm.fit: fitted probabilities numerically 0 or 1 occurred”\n",
      "Warning message:\n",
      "“glm.fit: fitted probabilities numerically 0 or 1 occurred”\n",
      "Warning message:\n",
      "“glm.fit: fitted probabilities numerically 0 or 1 occurred”\n",
      "Warning message:\n",
      "“glm.fit: fitted probabilities numerically 0 or 1 occurred”\n",
      "Warning message:\n",
      "“glm.fit: fitted probabilities numerically 0 or 1 occurred”\n",
      "Warning message:\n",
      "“glm.fit: fitted probabilities numerically 0 or 1 occurred”\n",
      "Warning message:\n",
      "“glm.fit: fitted probabilities numerically 0 or 1 occurred”\n",
      "Warning message:\n",
      "“glm.fit: fitted probabilities numerically 0 or 1 occurred”\n",
      "Warning message:\n",
      "“glm.fit: fitted probabilities numerically 0 or 1 occurred”\n",
      "Warning message:\n",
      "“glm.fit: fitted probabilities numerically 0 or 1 occurred”\n",
      "Warning message:\n",
      "“glm.fit: fitted probabilities numerically 0 or 1 occurred”\n",
      "Warning message:\n",
      "“glm.fit: fitted probabilities numerically 0 or 1 occurred”\n",
      "Warning message:\n",
      "“glm.fit: fitted probabilities numerically 0 or 1 occurred”\n",
      "Warning message:\n",
      "“glm.fit: fitted probabilities numerically 0 or 1 occurred”\n"
     ]
    },
    {
     "name": "stdout",
     "output_type": "stream",
     "text": [
      "                         Df Deviance    AIC\n",
      "+ concavity_mean          1   65.529 81.529\n",
      "+ concave.points_worst    1   65.593 81.593\n",
      "+ concave.points_mean     1   67.066 83.066\n",
      "+ concavity_worst         1   67.234 83.234\n",
      "+ concave.points_se       1   68.551 84.551\n",
      "+ concavity_se            1   69.777 85.777\n",
      "<none>                        74.511 88.511\n",
      "+ texture_se              1   72.725 88.725\n",
      "+ perimeter_se            1   73.232 89.232\n",
      "+ smoothness_se           1   73.614 89.614\n",
      "+ area_se                 1   73.733 89.733\n",
      "+ area_worst              1   74.085 90.085\n",
      "+ radius_worst            1   74.330 90.330\n",
      "+ symmetry_se             1   74.406 90.406\n",
      "+ fractal_dimension_mean  1   74.408 90.408\n",
      "+ texture_mean            1   74.443 90.443\n",
      "+ compactness_mean        1   74.471 90.471\n",
      "+ smoothness_mean         1   74.491 90.491\n",
      "+ perimeter_mean          1   74.498 90.498\n",
      "+ compactness_worst       1   74.501 90.501\n",
      "+ fractal_dimension_se    1   74.502 90.502\n",
      "+ radius_mean             1   74.505 90.505\n",
      "+ area_mean               1   74.505 90.505\n",
      "+ symmetry_mean           1   74.508 90.508\n"
     ]
    },
    {
     "name": "stderr",
     "output_type": "stream",
     "text": [
      "Warning message:\n",
      "“glm.fit: fitted probabilities numerically 0 or 1 occurred”\n"
     ]
    },
    {
     "name": "stdout",
     "output_type": "stream",
     "text": [
      "\n",
      "Step:  AIC=81.53\n",
      "diagnosis ~ perimeter_worst + smoothness_worst + texture_worst + \n",
      "    radius_se + symmetry_worst + compactness_se + concavity_mean\n",
      "\n"
     ]
    },
    {
     "name": "stderr",
     "output_type": "stream",
     "text": [
      "Warning message:\n",
      "“glm.fit: fitted probabilities numerically 0 or 1 occurred”\n",
      "Warning message:\n",
      "“glm.fit: fitted probabilities numerically 0 or 1 occurred”\n",
      "Warning message:\n",
      "“glm.fit: fitted probabilities numerically 0 or 1 occurred”\n",
      "Warning message:\n",
      "“glm.fit: fitted probabilities numerically 0 or 1 occurred”\n",
      "Warning message:\n",
      "“glm.fit: fitted probabilities numerically 0 or 1 occurred”\n",
      "Warning message:\n",
      "“glm.fit: fitted probabilities numerically 0 or 1 occurred”\n",
      "Warning message:\n",
      "“glm.fit: fitted probabilities numerically 0 or 1 occurred”\n",
      "Warning message:\n",
      "“glm.fit: fitted probabilities numerically 0 or 1 occurred”\n",
      "Warning message:\n",
      "“glm.fit: fitted probabilities numerically 0 or 1 occurred”\n",
      "Warning message:\n",
      "“glm.fit: fitted probabilities numerically 0 or 1 occurred”\n",
      "Warning message:\n",
      "“glm.fit: fitted probabilities numerically 0 or 1 occurred”\n",
      "Warning message:\n",
      "“glm.fit: fitted probabilities numerically 0 or 1 occurred”\n",
      "Warning message:\n",
      "“glm.fit: fitted probabilities numerically 0 or 1 occurred”\n",
      "Warning message:\n",
      "“glm.fit: fitted probabilities numerically 0 or 1 occurred”\n",
      "Warning message:\n",
      "“glm.fit: fitted probabilities numerically 0 or 1 occurred”\n",
      "Warning message:\n",
      "“glm.fit: fitted probabilities numerically 0 or 1 occurred”\n",
      "Warning message:\n",
      "“glm.fit: fitted probabilities numerically 0 or 1 occurred”\n",
      "Warning message:\n",
      "“glm.fit: fitted probabilities numerically 0 or 1 occurred”\n",
      "Warning message:\n",
      "“glm.fit: fitted probabilities numerically 0 or 1 occurred”\n",
      "Warning message:\n",
      "“glm.fit: fitted probabilities numerically 0 or 1 occurred”\n",
      "Warning message:\n",
      "“glm.fit: fitted probabilities numerically 0 or 1 occurred”\n",
      "Warning message:\n",
      "“glm.fit: fitted probabilities numerically 0 or 1 occurred”\n",
      "Warning message:\n",
      "“glm.fit: fitted probabilities numerically 0 or 1 occurred”\n"
     ]
    },
    {
     "name": "stdout",
     "output_type": "stream",
     "text": [
      "                         Df Deviance    AIC\n",
      "+ texture_se              1   61.258 79.258\n",
      "+ concave.points_worst    1   61.850 79.850\n",
      "+ area_se                 1   63.217 81.217\n",
      "<none>                        65.529 81.529\n",
      "+ perimeter_se            1   63.661 81.661\n",
      "+ area_worst              1   63.951 81.951\n",
      "+ concave.points_se       1   63.965 81.965\n",
      "+ radius_worst            1   64.003 82.003\n",
      "+ compactness_mean        1   64.078 82.078\n",
      "+ concavity_worst         1   64.328 82.328\n",
      "+ concave.points_mean     1   64.438 82.438\n",
      "+ fractal_dimension_mean  1   64.621 82.621\n",
      "+ smoothness_se           1   64.905 82.905\n",
      "+ symmetry_mean           1   64.943 82.943\n",
      "+ fractal_dimension_se    1   65.196 83.196\n",
      "+ texture_mean            1   65.351 83.351\n",
      "+ smoothness_mean         1   65.353 83.353\n",
      "+ symmetry_se             1   65.399 83.399\n",
      "+ area_mean               1   65.487 83.487\n",
      "+ concavity_se            1   65.506 83.506\n",
      "+ radius_mean             1   65.513 83.513\n",
      "+ perimeter_mean          1   65.523 83.523\n",
      "+ compactness_worst       1   65.527 83.527\n"
     ]
    },
    {
     "name": "stderr",
     "output_type": "stream",
     "text": [
      "Warning message:\n",
      "“glm.fit: fitted probabilities numerically 0 or 1 occurred”\n"
     ]
    },
    {
     "name": "stdout",
     "output_type": "stream",
     "text": [
      "\n",
      "Step:  AIC=79.26\n",
      "diagnosis ~ perimeter_worst + smoothness_worst + texture_worst + \n",
      "    radius_se + symmetry_worst + compactness_se + concavity_mean + \n",
      "    texture_se\n",
      "\n"
     ]
    },
    {
     "name": "stderr",
     "output_type": "stream",
     "text": [
      "Warning message:\n",
      "“glm.fit: fitted probabilities numerically 0 or 1 occurred”\n",
      "Warning message:\n",
      "“glm.fit: fitted probabilities numerically 0 or 1 occurred”\n",
      "Warning message:\n",
      "“glm.fit: fitted probabilities numerically 0 or 1 occurred”\n",
      "Warning message:\n",
      "“glm.fit: fitted probabilities numerically 0 or 1 occurred”\n",
      "Warning message:\n",
      "“glm.fit: fitted probabilities numerically 0 or 1 occurred”\n",
      "Warning message:\n",
      "“glm.fit: fitted probabilities numerically 0 or 1 occurred”\n",
      "Warning message:\n",
      "“glm.fit: fitted probabilities numerically 0 or 1 occurred”\n",
      "Warning message:\n",
      "“glm.fit: fitted probabilities numerically 0 or 1 occurred”\n",
      "Warning message:\n",
      "“glm.fit: fitted probabilities numerically 0 or 1 occurred”\n",
      "Warning message:\n",
      "“glm.fit: fitted probabilities numerically 0 or 1 occurred”\n",
      "Warning message:\n",
      "“glm.fit: fitted probabilities numerically 0 or 1 occurred”\n",
      "Warning message:\n",
      "“glm.fit: fitted probabilities numerically 0 or 1 occurred”\n",
      "Warning message:\n",
      "“glm.fit: fitted probabilities numerically 0 or 1 occurred”\n",
      "Warning message:\n",
      "“glm.fit: fitted probabilities numerically 0 or 1 occurred”\n",
      "Warning message:\n",
      "“glm.fit: fitted probabilities numerically 0 or 1 occurred”\n",
      "Warning message:\n",
      "“glm.fit: fitted probabilities numerically 0 or 1 occurred”\n",
      "Warning message:\n",
      "“glm.fit: fitted probabilities numerically 0 or 1 occurred”\n",
      "Warning message:\n",
      "“glm.fit: fitted probabilities numerically 0 or 1 occurred”\n",
      "Warning message:\n",
      "“glm.fit: fitted probabilities numerically 0 or 1 occurred”\n",
      "Warning message:\n",
      "“glm.fit: fitted probabilities numerically 0 or 1 occurred”\n",
      "Warning message:\n",
      "“glm.fit: fitted probabilities numerically 0 or 1 occurred”\n",
      "Warning message:\n",
      "“glm.fit: fitted probabilities numerically 0 or 1 occurred”\n"
     ]
    },
    {
     "name": "stdout",
     "output_type": "stream",
     "text": [
      "                         Df Deviance    AIC\n",
      "+ area_se                 1   58.643 78.643\n",
      "+ concave.points_worst    1   58.739 78.739\n",
      "+ area_worst              1   59.167 79.167\n",
      "<none>                        61.258 79.258\n",
      "+ radius_worst            1   59.387 79.387\n",
      "+ perimeter_se            1   59.954 79.954\n",
      "+ compactness_mean        1   60.049 80.049\n",
      "+ concave.points_se       1   60.277 80.277\n",
      "+ concave.points_mean     1   60.323 80.323\n",
      "+ texture_mean            1   60.489 80.489\n",
      "+ fractal_dimension_mean  1   60.498 80.498\n",
      "+ fractal_dimension_se    1   60.500 80.500\n",
      "+ concavity_worst         1   60.579 80.579\n",
      "+ smoothness_se           1   60.674 80.674\n",
      "+ area_mean               1   61.103 81.103\n",
      "+ radius_mean             1   61.162 81.162\n",
      "+ compactness_worst       1   61.166 81.166\n",
      "+ smoothness_mean         1   61.214 81.214\n",
      "+ symmetry_mean           1   61.254 81.254\n",
      "+ perimeter_mean          1   61.254 81.254\n",
      "+ concavity_se            1   61.255 81.255\n",
      "+ symmetry_se             1   61.257 81.257\n"
     ]
    },
    {
     "name": "stderr",
     "output_type": "stream",
     "text": [
      "Warning message:\n",
      "“glm.fit: fitted probabilities numerically 0 or 1 occurred”\n"
     ]
    },
    {
     "name": "stdout",
     "output_type": "stream",
     "text": [
      "\n",
      "Step:  AIC=78.64\n",
      "diagnosis ~ perimeter_worst + smoothness_worst + texture_worst + \n",
      "    radius_se + symmetry_worst + compactness_se + concavity_mean + \n",
      "    texture_se + area_se\n",
      "\n"
     ]
    },
    {
     "name": "stderr",
     "output_type": "stream",
     "text": [
      "Warning message:\n",
      "“glm.fit: fitted probabilities numerically 0 or 1 occurred”\n",
      "Warning message:\n",
      "“glm.fit: fitted probabilities numerically 0 or 1 occurred”\n",
      "Warning message:\n",
      "“glm.fit: fitted probabilities numerically 0 or 1 occurred”\n",
      "Warning message:\n",
      "“glm.fit: fitted probabilities numerically 0 or 1 occurred”\n",
      "Warning message:\n",
      "“glm.fit: fitted probabilities numerically 0 or 1 occurred”\n",
      "Warning message:\n",
      "“glm.fit: fitted probabilities numerically 0 or 1 occurred”\n",
      "Warning message:\n",
      "“glm.fit: fitted probabilities numerically 0 or 1 occurred”\n",
      "Warning message:\n",
      "“glm.fit: fitted probabilities numerically 0 or 1 occurred”\n",
      "Warning message:\n",
      "“glm.fit: fitted probabilities numerically 0 or 1 occurred”\n",
      "Warning message:\n",
      "“glm.fit: fitted probabilities numerically 0 or 1 occurred”\n",
      "Warning message:\n",
      "“glm.fit: fitted probabilities numerically 0 or 1 occurred”\n",
      "Warning message:\n",
      "“glm.fit: fitted probabilities numerically 0 or 1 occurred”\n",
      "Warning message:\n",
      "“glm.fit: fitted probabilities numerically 0 or 1 occurred”\n",
      "Warning message:\n",
      "“glm.fit: fitted probabilities numerically 0 or 1 occurred”\n",
      "Warning message:\n",
      "“glm.fit: fitted probabilities numerically 0 or 1 occurred”\n",
      "Warning message:\n",
      "“glm.fit: fitted probabilities numerically 0 or 1 occurred”\n",
      "Warning message:\n",
      "“glm.fit: fitted probabilities numerically 0 or 1 occurred”\n",
      "Warning message:\n",
      "“glm.fit: fitted probabilities numerically 0 or 1 occurred”\n",
      "Warning message:\n",
      "“glm.fit: fitted probabilities numerically 0 or 1 occurred”\n",
      "Warning message:\n",
      "“glm.fit: fitted probabilities numerically 0 or 1 occurred”\n",
      "Warning message:\n",
      "“glm.fit: fitted probabilities numerically 0 or 1 occurred”\n"
     ]
    },
    {
     "name": "stdout",
     "output_type": "stream",
     "text": [
      "                         Df Deviance    AIC\n",
      "+ concave.points_worst    1   54.713 76.713\n",
      "<none>                        58.643 78.643\n",
      "+ radius_worst            1   57.113 79.113\n",
      "+ concave.points_se       1   57.485 79.485\n",
      "+ concavity_worst         1   57.520 79.520\n",
      "+ perimeter_se            1   57.525 79.525\n",
      "+ texture_mean            1   57.593 79.593\n",
      "+ concave.points_mean     1   57.669 79.669\n",
      "+ area_worst              1   57.684 79.684\n",
      "+ compactness_mean        1   58.146 80.146\n",
      "+ symmetry_se             1   58.236 80.236\n",
      "+ perimeter_mean          1   58.374 80.374\n",
      "+ fractal_dimension_se    1   58.503 80.503\n",
      "+ compactness_worst       1   58.538 80.538\n",
      "+ fractal_dimension_mean  1   58.549 80.549\n",
      "+ radius_mean             1   58.590 80.590\n",
      "+ area_mean               1   58.590 80.590\n",
      "+ smoothness_se           1   58.599 80.599\n",
      "+ symmetry_mean           1   58.609 80.609\n",
      "+ concavity_se            1   58.616 80.616\n",
      "+ smoothness_mean         1   58.640 80.640\n"
     ]
    },
    {
     "name": "stderr",
     "output_type": "stream",
     "text": [
      "Warning message:\n",
      "“glm.fit: fitted probabilities numerically 0 or 1 occurred”\n"
     ]
    },
    {
     "name": "stdout",
     "output_type": "stream",
     "text": [
      "\n",
      "Step:  AIC=76.71\n",
      "diagnosis ~ perimeter_worst + smoothness_worst + texture_worst + \n",
      "    radius_se + symmetry_worst + compactness_se + concavity_mean + \n",
      "    texture_se + area_se + concave.points_worst\n",
      "\n"
     ]
    },
    {
     "name": "stderr",
     "output_type": "stream",
     "text": [
      "Warning message:\n",
      "“glm.fit: fitted probabilities numerically 0 or 1 occurred”\n",
      "Warning message:\n",
      "“glm.fit: fitted probabilities numerically 0 or 1 occurred”\n",
      "Warning message:\n",
      "“glm.fit: fitted probabilities numerically 0 or 1 occurred”\n",
      "Warning message:\n",
      "“glm.fit: fitted probabilities numerically 0 or 1 occurred”\n",
      "Warning message:\n",
      "“glm.fit: fitted probabilities numerically 0 or 1 occurred”\n",
      "Warning message:\n",
      "“glm.fit: fitted probabilities numerically 0 or 1 occurred”\n",
      "Warning message:\n",
      "“glm.fit: fitted probabilities numerically 0 or 1 occurred”\n",
      "Warning message:\n",
      "“glm.fit: fitted probabilities numerically 0 or 1 occurred”\n",
      "Warning message:\n",
      "“glm.fit: fitted probabilities numerically 0 or 1 occurred”\n",
      "Warning message:\n",
      "“glm.fit: fitted probabilities numerically 0 or 1 occurred”\n",
      "Warning message:\n",
      "“glm.fit: fitted probabilities numerically 0 or 1 occurred”\n",
      "Warning message:\n",
      "“glm.fit: fitted probabilities numerically 0 or 1 occurred”\n",
      "Warning message:\n",
      "“glm.fit: fitted probabilities numerically 0 or 1 occurred”\n",
      "Warning message:\n",
      "“glm.fit: fitted probabilities numerically 0 or 1 occurred”\n",
      "Warning message:\n",
      "“glm.fit: fitted probabilities numerically 0 or 1 occurred”\n",
      "Warning message:\n",
      "“glm.fit: fitted probabilities numerically 0 or 1 occurred”\n",
      "Warning message:\n",
      "“glm.fit: fitted probabilities numerically 0 or 1 occurred”\n",
      "Warning message:\n",
      "“glm.fit: fitted probabilities numerically 0 or 1 occurred”\n",
      "Warning message:\n",
      "“glm.fit: fitted probabilities numerically 0 or 1 occurred”\n",
      "Warning message:\n",
      "“glm.fit: fitted probabilities numerically 0 or 1 occurred”\n"
     ]
    },
    {
     "name": "stdout",
     "output_type": "stream",
     "text": [
      "                         Df Deviance    AIC\n",
      "<none>                        54.713 76.713\n",
      "+ radius_worst            1   52.749 76.749\n",
      "+ area_worst              1   52.828 76.828\n",
      "+ compactness_mean        1   52.833 76.833\n",
      "+ perimeter_se            1   53.106 77.106\n",
      "+ symmetry_mean           1   53.896 77.896\n",
      "+ texture_mean            1   53.934 77.934\n",
      "+ symmetry_se             1   54.209 78.209\n",
      "+ concavity_worst         1   54.216 78.216\n",
      "+ smoothness_se           1   54.233 78.233\n",
      "+ perimeter_mean          1   54.240 78.240\n",
      "+ smoothness_mean         1   54.399 78.399\n",
      "+ concavity_se            1   54.555 78.555\n",
      "+ concave.points_se       1   54.569 78.569\n",
      "+ radius_mean             1   54.594 78.594\n",
      "+ compactness_worst       1   54.605 78.605\n",
      "+ fractal_dimension_mean  1   54.611 78.611\n",
      "+ fractal_dimension_se    1   54.705 78.705\n",
      "+ concave.points_mean     1   54.709 78.709\n",
      "+ area_mean               1   54.710 78.710\n"
     ]
    },
    {
     "data": {
      "text/plain": [
       "\n",
       "Call:\n",
       "glm(formula = diagnosis ~ perimeter_worst + smoothness_worst + \n",
       "    texture_worst + radius_se + symmetry_worst + compactness_se + \n",
       "    concavity_mean + texture_se + area_se + concave.points_worst, \n",
       "    family = binomial(link = \"logit\"), data = df)\n",
       "\n",
       "Deviance Residuals: \n",
       "    Min       1Q   Median       3Q      Max  \n",
       "-1.3573  -0.0201  -0.0013   0.0000   3.8553  \n",
       "\n",
       "Coefficients:\n",
       "                     Estimate Std. Error z value Pr(>|z|)    \n",
       "(Intercept)            1.9809     1.1241   1.762 0.078040 .  \n",
       "perimeter_worst        2.8181     2.4980   1.128 0.259268    \n",
       "smoothness_worst       1.2907     0.6868   1.879 0.060215 .  \n",
       "texture_worst          3.2584     0.8392   3.883 0.000103 ***\n",
       "radius_se             -2.7572     4.6621  -0.591 0.554248    \n",
       "symmetry_worst         1.0500     0.4957   2.118 0.034164 *  \n",
       "compactness_se        -2.3356     0.7304  -3.198 0.001384 ** \n",
       "concavity_mean         3.1787     1.2999   2.445 0.014472 *  \n",
       "texture_se            -1.4802     0.8361  -1.770 0.076657 .  \n",
       "area_se               15.9526     9.1089   1.751 0.079892 .  \n",
       "concave.points_worst   2.4000     1.2766   1.880 0.060117 .  \n",
       "---\n",
       "Signif. codes:  0 ‘***’ 0.001 ‘**’ 0.01 ‘*’ 0.05 ‘.’ 0.1 ‘ ’ 1\n",
       "\n",
       "(Dispersion parameter for binomial family taken to be 1)\n",
       "\n",
       "    Null deviance: 751.440  on 568  degrees of freedom\n",
       "Residual deviance:  54.713  on 558  degrees of freedom\n",
       "AIC: 76.713\n",
       "\n",
       "Number of Fisher Scoring iterations: 11\n"
      ]
     },
     "metadata": {},
     "output_type": "display_data"
    }
   ],
   "source": [
    "initialModel_0 <- glm(diagnosis ~ 1, data = df, family=binomial(link=\"logit\"))\n",
    "initialModel_p <- glm(diagnosis ~ ., data = df, family=binomial(link=\"logit\"))\n",
    "\n",
    "fw <- step(initialModel_0,\n",
    "  scope = list(lower = formula(initialModel_0), upper = formula(initialModel_p)),\n",
    "  direction = \"forward\"\n",
    ")\n",
    "summary(fw)"
   ]
  },
  {
   "cell_type": "markdown",
   "metadata": {
    "slideshow": {
     "slide_type": "slide"
    }
   },
   "source": [
    "El objeto de salida es una lista que contiene múltiples elementos. Entre ellos, ilustramos el resultado anova, que muestra las variables seleccionadas (10 en este caso) en orden de adición y el AIC correspondiente (similar al estadístico BIC) ."
   ]
  },
  {
   "cell_type": "code",
   "execution_count": 16,
   "metadata": {},
   "outputs": [
    {
     "data": {
      "text/html": [
       "<table>\n",
       "<thead><tr><th scope=col>Step</th><th scope=col>Df</th><th scope=col>Deviance</th><th scope=col>Resid. Df</th><th scope=col>Resid. Dev</th><th scope=col>AIC</th></tr></thead>\n",
       "<tbody>\n",
       "\t<tr><td>                      </td><td>NA                    </td><td>        NA            </td><td>568                   </td><td>751.44001             </td><td>753.44001             </td></tr>\n",
       "\t<tr><td>+ perimeter_worst     </td><td>-1                    </td><td>541.960065            </td><td>567                   </td><td>209.47994             </td><td>213.47994             </td></tr>\n",
       "\t<tr><td>+ smoothness_worst    </td><td>-1                    </td><td> 70.299730            </td><td>566                   </td><td>139.18021             </td><td>145.18021             </td></tr>\n",
       "\t<tr><td>+ texture_worst       </td><td>-1                    </td><td> 35.568566            </td><td>565                   </td><td>103.61164             </td><td>111.61164             </td></tr>\n",
       "\t<tr><td>+ radius_se           </td><td>-1                    </td><td> 16.406692            </td><td>564                   </td><td> 87.20495             </td><td> 97.20495             </td></tr>\n",
       "\t<tr><td>+ symmetry_worst      </td><td>-1                    </td><td>  8.132333            </td><td>563                   </td><td> 79.07262             </td><td> 91.07262             </td></tr>\n",
       "\t<tr><td>+ compactness_se      </td><td>-1                    </td><td>  4.561664            </td><td>562                   </td><td> 74.51095             </td><td> 88.51095             </td></tr>\n",
       "\t<tr><td>+ concavity_mean      </td><td>-1                    </td><td>  8.982248            </td><td>561                   </td><td> 65.52871             </td><td> 81.52871             </td></tr>\n",
       "\t<tr><td>+ texture_se          </td><td>-1                    </td><td>  4.270508            </td><td>560                   </td><td> 61.25820             </td><td> 79.25820             </td></tr>\n",
       "\t<tr><td>+ area_se             </td><td>-1                    </td><td>  2.614785            </td><td>559                   </td><td> 58.64341             </td><td> 78.64341             </td></tr>\n",
       "\t<tr><td>+ concave.points_worst</td><td>-1                    </td><td>  3.930719            </td><td>558                   </td><td> 54.71269             </td><td> 76.71269             </td></tr>\n",
       "</tbody>\n",
       "</table>\n"
      ],
      "text/latex": [
       "\\begin{tabular}{r|llllll}\n",
       " Step & Df & Deviance & Resid. Df & Resid. Dev & AIC\\\\\n",
       "\\hline\n",
       "\t                        & NA                     &         NA             & 568                    & 751.44001              & 753.44001             \\\\\n",
       "\t + perimeter\\_worst      & -1                       & 541.960065               & 567                      & 209.47994                & 213.47994               \\\\\n",
       "\t + smoothness\\_worst     & -1                       &  70.299730               & 566                      & 139.18021                & 145.18021               \\\\\n",
       "\t + texture\\_worst        & -1                       &  35.568566               & 565                      & 103.61164                & 111.61164               \\\\\n",
       "\t + radius\\_se            & -1                       &  16.406692               & 564                      &  87.20495                &  97.20495               \\\\\n",
       "\t + symmetry\\_worst       & -1                       &   8.132333               & 563                      &  79.07262                &  91.07262               \\\\\n",
       "\t + compactness\\_se       & -1                       &   4.561664               & 562                      &  74.51095                &  88.51095               \\\\\n",
       "\t + concavity\\_mean       & -1                       &   8.982248               & 561                      &  65.52871                &  81.52871               \\\\\n",
       "\t + texture\\_se           & -1                       &   4.270508               & 560                      &  61.25820                &  79.25820               \\\\\n",
       "\t + area\\_se              & -1                       &   2.614785               & 559                      &  58.64341                &  78.64341               \\\\\n",
       "\t + concave.points\\_worst & -1                       &   3.930719               & 558                      &  54.71269                &  76.71269               \\\\\n",
       "\\end{tabular}\n"
      ],
      "text/markdown": [
       "\n",
       "| Step | Df | Deviance | Resid. Df | Resid. Dev | AIC |\n",
       "|---|---|---|---|---|---|\n",
       "|                        | NA                     |         NA             | 568                    | 751.44001              | 753.44001              |\n",
       "| + perimeter_worst      | -1                     | 541.960065             | 567                    | 209.47994              | 213.47994              |\n",
       "| + smoothness_worst     | -1                     |  70.299730             | 566                    | 139.18021              | 145.18021              |\n",
       "| + texture_worst        | -1                     |  35.568566             | 565                    | 103.61164              | 111.61164              |\n",
       "| + radius_se            | -1                     |  16.406692             | 564                    |  87.20495              |  97.20495              |\n",
       "| + symmetry_worst       | -1                     |   8.132333             | 563                    |  79.07262              |  91.07262              |\n",
       "| + compactness_se       | -1                     |   4.561664             | 562                    |  74.51095              |  88.51095              |\n",
       "| + concavity_mean       | -1                     |   8.982248             | 561                    |  65.52871              |  81.52871              |\n",
       "| + texture_se           | -1                     |   4.270508             | 560                    |  61.25820              |  79.25820              |\n",
       "| + area_se              | -1                     |   2.614785             | 559                    |  58.64341              |  78.64341              |\n",
       "| + concave.points_worst | -1                     |   3.930719             | 558                    |  54.71269              |  76.71269              |\n",
       "\n"
      ],
      "text/plain": [
       "   Step                   Df Deviance   Resid. Df Resid. Dev AIC      \n",
       "1                         NA         NA 568       751.44001  753.44001\n",
       "2  + perimeter_worst      -1 541.960065 567       209.47994  213.47994\n",
       "3  + smoothness_worst     -1  70.299730 566       139.18021  145.18021\n",
       "4  + texture_worst        -1  35.568566 565       103.61164  111.61164\n",
       "5  + radius_se            -1  16.406692 564        87.20495   97.20495\n",
       "6  + symmetry_worst       -1   8.132333 563        79.07262   91.07262\n",
       "7  + compactness_se       -1   4.561664 562        74.51095   88.51095\n",
       "8  + concavity_mean       -1   8.982248 561        65.52871   81.52871\n",
       "9  + texture_se           -1   4.270508 560        61.25820   79.25820\n",
       "10 + area_se              -1   2.614785 559        58.64341   78.64341\n",
       "11 + concave.points_worst -1   3.930719 558        54.71269   76.71269"
      ]
     },
     "metadata": {},
     "output_type": "display_data"
    }
   ],
   "source": [
    "fw$anova # a cada variable que añada, disminuye el AIC. Es similar al BIC. Con 10 variables. se queda estable."
   ]
  },
  {
   "cell_type": "markdown",
   "metadata": {
    "slideshow": {
     "slide_type": "slide"
    }
   },
   "source": [
    "## Regularización\n",
    "La regularización consiste en añadir un término a la función objetivo que elimine predictores (regularización L1) o disminuya notablemente su influencia (regularización L2) de tal manera que su capacidad de generalización mejore. El coeficiente estimado estará sesgado, debido al término extra que se ha añadido a la función objetivo, sin embargo su varianza puede disminuir. Este equilibrio entre el sesgo y la varianza es lo que se conoce como _bias-variance tradeoff_. Si el modelo está demasiado sesgado entonces no se capturarán correctamente las relaciones entre predictando y predictor, sin embargo si está muy poco sesgado, la varianza del coeficiente estimado puede ser alta y no generalizar bien.\n",
    "\n",
    "En R, para regularizar modelos lineales generalizados se utiliza el paquete `glmnet`. El tipo de regularización viene dado por el valor del parámetro `alpha`: para una regularización L1, `alpha = 1`, para una regularización L2, `alpha = 0`. Ambos tipos de regularización penalizan la norma (1 ó 2, en función de si la regularización es L1 o L2) del vector de coeficientes estimados. Una consecuencia de la regularización L1 es que indirectamente selecciona variables al hacer estrictamente 0 algunos coeficientes. El número de coeficientes que se hacen 0 viene determinado por el valor de `lambda`. El valor de lambda óptimo se obtiene mediante validación cruzada a través de la función `cv.glmnet`."
   ]
  },
  {
   "cell_type": "markdown",
   "metadata": {
    "slideshow": {
     "slide_type": "slide"
    }
   },
   "source": [
    "En primer lugar, debemos instalar y cargar las librerías que utilizaremos en los ejemplos:"
   ]
  },
  {
   "cell_type": "code",
   "execution_count": 30,
   "metadata": {},
   "outputs": [],
   "source": [
    "#install.packages(\"glmnet\")\n",
    "library(glmnet, quiet = TRUE)"
   ]
  },
  {
   "cell_type": "markdown",
   "metadata": {
    "slideshow": {
     "slide_type": "slide"
    }
   },
   "source": [
    "### Regularización L1 (LASSO)\n",
    "Veamos qué nos puede aportar una regularización L1 en este caso. La función `glmnet`nos permite representar directamente la evolución de los coeficientes del modelo para un rango de valores de $\\lambda$."
   ]
  },
  {
   "cell_type": "code",
   "execution_count": 31,
   "metadata": {},
   "outputs": [
    {
     "data": {
      "image/png": "[encoded data removed]",
      "text/plain": [
       "plot without title"
      ]
     },
     "metadata": {
      "image/png": {
       "height": 420,
       "width": 420
      }
     },
     "output_type": "display_data"
    }
   ],
   "source": [
    "fit <- glmnet(as.matrix(df[-1]),df$diagnosis,family = \"binomial\",alpha = 1) \n",
    "# valores de lambda por defecto, nlambda=100\n",
    "plot(fit, label=TRUE, xvar = \"lambda\") \n",
    "# representa los coeficientes frente al log neperiano de lambda"
   ]
  },
  {
   "cell_type": "markdown",
   "metadata": {},
   "source": [
    "En la parte superior se muestra el número de coeficientes no nulos para cada valor de $\\lambda$. Vemos como muchos se hacen 0 al ir aumentando $\\lambda$."
   ]
  },
  {
   "cell_type": "markdown",
   "metadata": {
    "slideshow": {
     "slide_type": "slide"
    }
   },
   "source": [
    "Para estimar el valor óptimo de $\\lambda$ recurrimos a una validación cruzada mediante la función `cv.glmnet`:"
   ]
  },
  {
   "cell_type": "code",
   "execution_count": 32,
   "metadata": {
    "scrolled": false
   },
   "outputs": [
    {
     "name": "stdout",
     "output_type": "stream",
     "text": [
      "$lambda\n",
      " [1] 3.836832e-01 3.495979e-01 3.185406e-01 2.902423e-01 2.644580e-01\n",
      " [6] 2.409643e-01 2.195577e-01 2.000528e-01 1.822806e-01 1.660873e-01\n",
      "[11] 1.513326e-01 1.378886e-01 1.256390e-01 1.144775e-01 1.043077e-01\n",
      "[16] 9.504127e-02 8.659807e-02 7.890493e-02 7.189523e-02 6.550826e-02\n",
      "[21] 5.968869e-02 5.438611e-02 4.955460e-02 4.515230e-02 4.114110e-02\n",
      "[26] 3.748624e-02 3.415606e-02 3.112173e-02 2.835696e-02 2.583781e-02\n",
      "[31] 2.354245e-02 2.145100e-02 1.954535e-02 1.780900e-02 1.622690e-02\n",
      "[36] 1.478534e-02 1.347185e-02 1.227505e-02 1.118457e-02 1.019096e-02\n",
      "[41] 9.285627e-03 8.460717e-03 7.709090e-03 7.024236e-03 6.400222e-03\n",
      "[46] 5.831644e-03 5.313577e-03 4.841533e-03 4.411425e-03 4.019526e-03\n",
      "[51] 3.662443e-03 3.337081e-03 3.040624e-03 2.770503e-03 2.524380e-03\n",
      "[56] 2.300121e-03 2.095784e-03 1.909601e-03 1.739957e-03 1.585384e-03\n",
      "[61] 1.444543e-03 1.316214e-03 1.199285e-03 1.092744e-03 9.956673e-04\n",
      "[66] 9.072150e-04 8.266205e-04 7.531858e-04 6.862749e-04 6.253081e-04\n",
      "[71] 5.697574e-04 5.191418e-04 4.730226e-04 4.310006e-04 3.927117e-04\n",
      "[76] 3.578243e-04 3.260362e-04 2.970720e-04 2.706809e-04 2.466344e-04\n",
      "[81] 2.247241e-04 2.047602e-04 1.865699e-04 1.699955e-04 1.548936e-04\n",
      "[86] 1.411333e-04 1.285954e-04 1.171713e-04 1.067621e-04 9.727769e-05\n",
      "[91] 8.863581e-05 8.076165e-05 7.358700e-05 6.704974e-05 6.109322e-05\n",
      "[96] 5.566587e-05 5.072067e-05 4.621478e-05 4.210919e-05\n",
      "\n",
      "$cvm\n",
      " [1] 1.3227550 1.2160270 1.1198171 1.0365308 0.9643258 0.9007116 0.8435896\n",
      " [8] 0.7920302 0.7454276 0.7031814 0.6648026 0.6297944 0.5977447 0.5683676\n",
      "[15] 0.5411937 0.5138145 0.4869343 0.4621258 0.4391022 0.4177979 0.3980621\n",
      "[22] 0.3797686 0.3628159 0.3470867 0.3324479 0.3190196 0.3065750 0.2947661\n",
      "[29] 0.2838405 0.2735202 0.2637702 0.2547041 0.2462548 0.2383089 0.2309980\n",
      "[36] 0.2242845 0.2181290 0.2124879 0.2072261 0.2024625 0.1979383 0.1933719\n",
      "[43] 0.1890699 0.1848777 0.1812505 0.1781039 0.1753755 0.1728811 0.1698193\n",
      "[50] 0.1668991 0.1639617 0.1608982 0.1577228 0.1549292 0.1524493 0.1502975\n",
      "[57] 0.1483672 0.1469504 0.1462386 0.1462950 0.1468591 0.1477550 0.1490374\n",
      "[64] 0.1504224 0.1521273 0.1540363 0.1563215 0.1588671 0.1617486 0.1649967\n",
      "[71] 0.1693432 0.1762154 0.1838454 0.1914944 0.1988425 0.2058268 0.2125382\n",
      "[78] 0.2194299 0.2261958 0.2328572 0.2398310 0.2467901 0.2538698 0.2602384\n",
      "[85] 0.2675318 0.2758401 0.2848890 0.2939681 0.3035961 0.3138781 0.3249844\n",
      "[92] 0.3371248 0.3508498 0.3663241 0.3832217 0.4022913 0.4246869 0.4507570\n",
      "[99] 0.4848120\n",
      "\n",
      "$cvsd\n",
      " [1] 0.02300072 0.01992018 0.01713070 0.01524366 0.01415190 0.01354007\n",
      " [7] 0.01317963 0.01296543 0.01281629 0.01269841 0.01258051 0.01247614\n",
      "[13] 0.01237787 0.01229044 0.01222709 0.01227563 0.01208882 0.01195484\n",
      "[19] 0.01183647 0.01177134 0.01175842 0.01179630 0.01188589 0.01202199\n",
      "[25] 0.01219766 0.01237705 0.01253004 0.01281360 0.01313203 0.01350953\n",
      "[31] 0.01393654 0.01439737 0.01489567 0.01535198 0.01583356 0.01633324\n",
      "[37] 0.01684778 0.01737413 0.01772060 0.01795864 0.01819374 0.01833700\n",
      "[43] 0.01846270 0.01855404 0.01862878 0.01872022 0.01885087 0.01901269\n",
      "[49] 0.01880653 0.01860510 0.01843391 0.01825468 0.01807868 0.01805842\n",
      "[55] 0.01817546 0.01838534 0.01870289 0.01908122 0.01957884 0.02013985\n",
      "[61] 0.02088835 0.02180796 0.02278048 0.02393585 0.02517537 0.02634028\n",
      "[67] 0.02749306 0.02867530 0.02997988 0.03132766 0.03281800 0.03480471\n",
      "[73] 0.03698342 0.03910339 0.04124618 0.04342997 0.04570502 0.04791056\n",
      "[79] 0.05026050 0.05254097 0.05477363 0.05657408 0.05802545 0.05824829\n",
      "[85] 0.05861678 0.05925501 0.06020729 0.06137664 0.06289006 0.06472925\n",
      "[91] 0.06704172 0.06981458 0.07309010 0.07709328 0.08176947 0.08707804\n",
      "[97] 0.09284108 0.09844886 0.10359697\n",
      "\n",
      "$cvup\n",
      " [1] 1.3457557 1.2359472 1.1369478 1.0517744 0.9784777 0.9142517 0.8567692\n",
      " [8] 0.8049957 0.7582439 0.7158798 0.6773832 0.6422705 0.6101226 0.5806581\n",
      "[15] 0.5534208 0.5260901 0.4990231 0.4740806 0.4509387 0.4295692 0.4098205\n",
      "[22] 0.3915649 0.3747018 0.3591087 0.3446456 0.3313967 0.3191051 0.3075797\n",
      "[29] 0.2969726 0.2870297 0.2777067 0.2691015 0.2611505 0.2536609 0.2468315\n",
      "[36] 0.2406178 0.2349767 0.2298620 0.2249467 0.2204211 0.2161320 0.2117089\n",
      "[43] 0.2075326 0.2034317 0.1998793 0.1968241 0.1942264 0.1918938 0.1886259\n",
      "[50] 0.1855042 0.1823956 0.1791529 0.1758015 0.1729876 0.1706248 0.1686829\n",
      "[57] 0.1670701 0.1660316 0.1658174 0.1664349 0.1677475 0.1695629 0.1718179\n",
      "[64] 0.1743583 0.1773027 0.1803766 0.1838145 0.1875424 0.1917285 0.1963243\n",
      "[71] 0.2021612 0.2110201 0.2208288 0.2305978 0.2400887 0.2492568 0.2582433\n",
      "[78] 0.2673404 0.2764563 0.2853982 0.2946047 0.3033641 0.3118952 0.3184867\n",
      "[85] 0.3261486 0.3350951 0.3450963 0.3553447 0.3664862 0.3786074 0.3920261\n",
      "[92] 0.4069394 0.4239399 0.4434174 0.4649911 0.4893694 0.5175280 0.5492059\n",
      "[99] 0.5884090\n",
      "\n",
      "$cvlo\n",
      " [1] 1.2997543 1.1961068 1.1026864 1.0212871 0.9501739 0.8871716 0.8304099\n",
      " [8] 0.7790648 0.7326113 0.6904830 0.6522221 0.6173183 0.5853668 0.5560772\n",
      "[15] 0.5289666 0.5015388 0.4748455 0.4501709 0.4272657 0.4060265 0.3863037\n",
      "[22] 0.3679723 0.3509300 0.3350647 0.3202502 0.3066426 0.2940450 0.2819525\n",
      "[29] 0.2707085 0.2600107 0.2498336 0.2403067 0.2313592 0.2229569 0.2151644\n",
      "[36] 0.2079513 0.2012812 0.1951137 0.1895055 0.1845038 0.1797446 0.1750349\n",
      "[43] 0.1706072 0.1663236 0.1626217 0.1593837 0.1565246 0.1538684 0.1510128\n",
      "[50] 0.1482940 0.1455278 0.1426435 0.1396442 0.1368708 0.1342739 0.1319122\n",
      "[57] 0.1296643 0.1278692 0.1266597 0.1261552 0.1259708 0.1259470 0.1262570\n",
      "[64] 0.1264866 0.1269520 0.1276960 0.1288284 0.1301919 0.1317687 0.1336690\n",
      "[71] 0.1365252 0.1414106 0.1468620 0.1523910 0.1575963 0.1623968 0.1668332\n",
      "[78] 0.1715193 0.1759353 0.1803162 0.1850574 0.1902160 0.1958443 0.2019901\n",
      "[85] 0.2089150 0.2165851 0.2246817 0.2325914 0.2407061 0.2491489 0.2579427\n",
      "[92] 0.2673103 0.2777597 0.2892308 0.3014522 0.3152133 0.3318458 0.3523082\n",
      "[99] 0.3812150\n",
      "\n",
      "$nzero\n",
      " s0  s1  s2  s3  s4  s5  s6  s7  s8  s9 s10 s11 s12 s13 s14 s15 s16 s17 s18 s19 \n",
      "  0   2   2   2   2   3   3   3   3   2   2   2   2   3   3   4   4   4   4   4 \n",
      "s20 s21 s22 s23 s24 s25 s26 s27 s28 s29 s30 s31 s32 s33 s34 s35 s36 s37 s38 s39 \n",
      "  4   4   4   4   5   5   6   6   7   7   7   7   8   8   8   8   8   9   9   9 \n",
      "s40 s41 s42 s43 s44 s45 s46 s47 s48 s49 s50 s51 s52 s53 s54 s55 s56 s57 s58 s59 \n",
      " 10  10  10  10  10  10  10  11  12  13  13  13  15  15  17  17  17  16  16  17 \n",
      "s60 s61 s62 s63 s64 s65 s66 s67 s68 s69 s70 s71 s72 s73 s74 s75 s76 s77 s78 s79 \n",
      " 17  16  17  16  15  15  16  17  17  18  18  19  19  20  21  21  21  22  22  21 \n",
      "s80 s81 s82 s83 s84 s85 s86 s87 s88 s89 s90 s91 s92 s93 s94 s95 s96 s97 s98 \n",
      " 21  21  23  23  23  23  23  25  25  25  24  24  24  24  25  25  26  26  26 \n",
      "\n",
      "$name\n",
      "           deviance \n",
      "\"Binomial Deviance\" \n",
      "\n",
      "$glmnet.fit\n",
      "\n",
      "Call:  glmnet(x = as.matrix(df[-1]), y = df$diagnosis, family = \"binomial\",      alpha = 1) \n",
      "\n",
      "       Df       %Dev    Lambda\n",
      "  [1,]  0 -5.044e-15 3.837e-01\n",
      "  [2,]  2  8.186e-02 3.496e-01\n",
      "  [3,]  2  1.554e-01 3.185e-01\n",
      "  [4,]  2  2.180e-01 2.902e-01\n",
      "  [5,]  2  2.724e-01 2.645e-01\n",
      "  [6,]  3  3.205e-01 2.410e-01\n",
      "  [7,]  3  3.636e-01 2.196e-01\n",
      "  [8,]  3  4.027e-01 2.001e-01\n",
      "  [9,]  3  4.380e-01 1.823e-01\n",
      " [10,]  2  4.700e-01 1.661e-01\n",
      " [11,]  2  4.989e-01 1.513e-01\n",
      " [12,]  2  5.253e-01 1.379e-01\n",
      " [13,]  2  5.495e-01 1.256e-01\n",
      " [14,]  3  5.718e-01 1.145e-01\n",
      " [15,]  3  5.922e-01 1.043e-01\n",
      " [16,]  4  6.138e-01 9.504e-02\n",
      " [17,]  4  6.343e-01 8.660e-02\n",
      " [18,]  4  6.531e-01 7.890e-02\n",
      " [19,]  4  6.706e-01 7.190e-02\n",
      " [20,]  4  6.867e-01 6.551e-02\n",
      " [21,]  4  7.017e-01 5.969e-02\n",
      " [22,]  4  7.155e-01 5.439e-02\n",
      " [23,]  4  7.284e-01 4.955e-02\n",
      " [24,]  4  7.403e-01 4.515e-02\n",
      " [25,]  5  7.515e-01 4.114e-02\n",
      " [26,]  5  7.622e-01 3.749e-02\n",
      " [27,]  6  7.722e-01 3.416e-02\n",
      " [28,]  6  7.818e-01 3.112e-02\n",
      " [29,]  7  7.911e-01 2.836e-02\n",
      " [30,]  7  8.000e-01 2.584e-02\n",
      " [31,]  7  8.083e-01 2.354e-02\n",
      " [32,]  7  8.160e-01 2.145e-02\n",
      " [33,]  8  8.232e-01 1.955e-02\n",
      " [34,]  8  8.299e-01 1.781e-02\n",
      " [35,]  8  8.362e-01 1.623e-02\n",
      " [36,]  8  8.421e-01 1.479e-02\n",
      " [37,]  8  8.476e-01 1.347e-02\n",
      " [38,]  9  8.527e-01 1.228e-02\n",
      " [39,]  9  8.575e-01 1.118e-02\n",
      " [40,]  9  8.619e-01 1.019e-02\n",
      " [41,] 10  8.667e-01 9.286e-03\n",
      " [42,] 10  8.713e-01 8.461e-03\n",
      " [43,] 10  8.756e-01 7.709e-03\n",
      " [44,] 10  8.796e-01 7.024e-03\n",
      " [45,] 10  8.832e-01 6.400e-03\n",
      " [46,] 10  8.865e-01 5.832e-03\n",
      " [47,] 10  8.895e-01 5.314e-03\n",
      " [48,] 11  8.925e-01 4.842e-03\n",
      " [49,] 12  8.955e-01 4.411e-03\n",
      " [50,] 13  8.984e-01 4.020e-03\n",
      " [51,] 13  9.011e-01 3.662e-03\n",
      " [52,] 13  9.037e-01 3.337e-03\n",
      " [53,] 15  9.061e-01 3.041e-03\n",
      " [54,] 15  9.086e-01 2.771e-03\n",
      " [55,] 17  9.109e-01 2.524e-03\n",
      " [56,] 17  9.133e-01 2.300e-03\n",
      " [57,] 17  9.154e-01 2.096e-03\n",
      " [58,] 16  9.172e-01 1.910e-03\n",
      " [59,] 16  9.188e-01 1.740e-03\n",
      " [60,] 17  9.204e-01 1.585e-03\n",
      " [61,] 17  9.219e-01 1.445e-03\n",
      " [62,] 16  9.232e-01 1.316e-03\n",
      " [63,] 17  9.245e-01 1.199e-03\n",
      " [64,] 16  9.258e-01 1.093e-03\n",
      " [65,] 15  9.268e-01 9.957e-04\n",
      " [66,] 15  9.277e-01 9.072e-04\n",
      " [67,] 16  9.285e-01 8.266e-04\n",
      " [68,] 17  9.293e-01 7.532e-04\n",
      " [69,] 17  9.301e-01 6.863e-04\n",
      " [70,] 18  9.308e-01 6.253e-04\n",
      " [71,] 18  9.315e-01 5.698e-04\n",
      " [72,] 19  9.322e-01 5.191e-04\n",
      " [73,] 19  9.328e-01 4.730e-04\n",
      " [74,] 20  9.335e-01 4.310e-04\n",
      " [75,] 21  9.348e-01 3.927e-04\n",
      " [76,] 21  9.364e-01 3.578e-04\n",
      " [77,] 21  9.380e-01 3.260e-04\n",
      " [78,] 22  9.394e-01 2.971e-04\n",
      " [79,] 22  9.407e-01 2.707e-04\n",
      " [80,] 21  9.419e-01 2.466e-04\n",
      " [81,] 21  9.427e-01 2.247e-04\n",
      " [82,] 21  9.436e-01 2.048e-04\n",
      " [83,] 23  9.445e-01 1.866e-04\n",
      " [84,] 23  9.454e-01 1.700e-04\n",
      " [85,] 23  9.462e-01 1.549e-04\n",
      " [86,] 23  9.469e-01 1.411e-04\n",
      " [87,] 23  9.476e-01 1.286e-04\n",
      " [88,] 25  9.481e-01 1.172e-04\n",
      " [89,] 25  9.488e-01 1.068e-04\n",
      " [90,] 25  9.493e-01 9.728e-05\n",
      " [91,] 24  9.498e-01 8.864e-05\n",
      " [92,] 24  9.502e-01 8.076e-05\n",
      " [93,] 24  9.506e-01 7.359e-05\n",
      " [94,] 24  9.509e-01 6.705e-05\n",
      " [95,] 25  9.512e-01 6.109e-05\n",
      " [96,] 25  9.515e-01 5.567e-05\n",
      " [97,] 26  9.517e-01 5.072e-05\n",
      " [98,] 26  9.520e-01 4.621e-05\n",
      " [99,] 26  9.522e-01 4.211e-05\n",
      "[100,] 25  9.524e-01 3.837e-05\n",
      "\n",
      "$lambda.min\n",
      "[1] 0.001739957\n",
      "\n",
      "$lambda.1se\n",
      "[1] 0.003662443\n",
      "\n",
      "attr(,\"class\")\n",
      "[1] \"cv.glmnet\"\n"
     ]
    },
    {
     "data": {
      "image/png": "[encoded data removed]",
      "text/plain": [
       "plot without title"
      ]
     },
     "metadata": {
      "image/png": {
       "height": 420,
       "width": 420
      }
     },
     "output_type": "display_data"
    }
   ],
   "source": [
    "cvfit <- cv.glmnet(as.matrix(df[-1]),df$diagnosis,family = \"binomial\",alpha = 1)\n",
    "print(cvfit)\n",
    "plot(cvfit)"
   ]
  },
  {
   "cell_type": "code",
   "execution_count": 34,
   "metadata": {},
   "outputs": [],
   "source": [
    "# la de la izquierda es el lambda minimo y la de la derecha con un criterio."
   ]
  },
  {
   "cell_type": "markdown",
   "metadata": {
    "slideshow": {
     "slide_type": "slide"
    }
   },
   "source": [
    "Con este valor de lambda estimado, podemos entrenar el modelo regularizado mediante la función `glmnet`:"
   ]
  },
  {
   "cell_type": "code",
   "execution_count": 33,
   "metadata": {},
   "outputs": [
    {
     "data": {
      "text/plain": [
       "30 x 1 sparse Matrix of class \"dgCMatrix\"\n",
       "                                s0\n",
       "(Intercept)            -0.43027037\n",
       "radius_mean             .         \n",
       "texture_mean            0.21869701\n",
       "perimeter_mean          .         \n",
       "area_mean               .         \n",
       "smoothness_mean         .         \n",
       "compactness_mean        .         \n",
       "concavity_mean          .         \n",
       "concave.points_mean     0.73284103\n",
       "symmetry_mean           .         \n",
       "fractal_dimension_mean -0.07772632\n",
       "radius_se               1.80435665\n",
       "texture_se              .         \n",
       "perimeter_se            .         \n",
       "area_se                 .         \n",
       "smoothness_se           0.05041533\n",
       "compactness_se         -0.29726794\n",
       "concavity_se            .         \n",
       "concave.points_se       .         \n",
       "symmetry_se             .         \n",
       "fractal_dimension_se   -0.22934831\n",
       "radius_worst            3.67085698\n",
       "texture_worst           1.10683653\n",
       "perimeter_worst         .         \n",
       "area_worst              .         \n",
       "smoothness_worst        0.58743687\n",
       "compactness_worst       .         \n",
       "concavity_worst         0.70563022\n",
       "concave.points_worst    1.13635989\n",
       "symmetry_worst          0.39589535"
      ]
     },
     "metadata": {},
     "output_type": "display_data"
    },
    {
     "data": {
      "text/html": [
       "<ol class=list-inline>\n",
       "\t<li>'diagnosis'</li>\n",
       "\t<li>'texture_mean'</li>\n",
       "\t<li>'concave.points_mean'</li>\n",
       "\t<li>'fractal_dimension_mean'</li>\n",
       "\t<li>'radius_se'</li>\n",
       "\t<li>'smoothness_se'</li>\n",
       "\t<li>'compactness_se'</li>\n",
       "\t<li>'fractal_dimension_se'</li>\n",
       "\t<li>'radius_worst'</li>\n",
       "\t<li>'texture_worst'</li>\n",
       "\t<li>'smoothness_worst'</li>\n",
       "\t<li>'concavity_worst'</li>\n",
       "\t<li>'concave.points_worst'</li>\n",
       "\t<li>'symmetry_worst'</li>\n",
       "</ol>\n"
      ],
      "text/latex": [
       "\\begin{enumerate*}\n",
       "\\item 'diagnosis'\n",
       "\\item 'texture\\_mean'\n",
       "\\item 'concave.points\\_mean'\n",
       "\\item 'fractal\\_dimension\\_mean'\n",
       "\\item 'radius\\_se'\n",
       "\\item 'smoothness\\_se'\n",
       "\\item 'compactness\\_se'\n",
       "\\item 'fractal\\_dimension\\_se'\n",
       "\\item 'radius\\_worst'\n",
       "\\item 'texture\\_worst'\n",
       "\\item 'smoothness\\_worst'\n",
       "\\item 'concavity\\_worst'\n",
       "\\item 'concave.points\\_worst'\n",
       "\\item 'symmetry\\_worst'\n",
       "\\end{enumerate*}\n"
      ],
      "text/markdown": [
       "1. 'diagnosis'\n",
       "2. 'texture_mean'\n",
       "3. 'concave.points_mean'\n",
       "4. 'fractal_dimension_mean'\n",
       "5. 'radius_se'\n",
       "6. 'smoothness_se'\n",
       "7. 'compactness_se'\n",
       "8. 'fractal_dimension_se'\n",
       "9. 'radius_worst'\n",
       "10. 'texture_worst'\n",
       "11. 'smoothness_worst'\n",
       "12. 'concavity_worst'\n",
       "13. 'concave.points_worst'\n",
       "14. 'symmetry_worst'\n",
       "\n",
       "\n"
      ],
      "text/plain": [
       " [1] \"diagnosis\"              \"texture_mean\"           \"concave.points_mean\"   \n",
       " [4] \"fractal_dimension_mean\" \"radius_se\"              \"smoothness_se\"         \n",
       " [7] \"compactness_se\"         \"fractal_dimension_se\"   \"radius_worst\"          \n",
       "[10] \"texture_worst\"          \"smoothness_worst\"       \"concavity_worst\"       \n",
       "[13] \"concave.points_worst\"   \"symmetry_worst\"        "
      ]
     },
     "metadata": {},
     "output_type": "display_data"
    },
    {
     "name": "stdout",
     "output_type": "stream",
     "text": [
      "Number of variables selected: 14"
     ]
    }
   ],
   "source": [
    "model.l1 <- glmnet(as.matrix(df[,-1]), df$diagnosis, family = \"binomial\", alpha = 1, lambda = cvfit$lambda.1se)\n",
    "coef(model.l1) # coeficientes del modelo\n",
    "ind.coef.no.nulos <- which(as.numeric(coef(model.l1)) != 0)\n",
    "names(df)[ind.coef.no.nulos] # coeficientes no nulos\n",
    "cat(paste(\"Number of variables selected:\", length(ind.coef.no.nulos)))"
   ]
  },
  {
   "cell_type": "markdown",
   "metadata": {},
   "source": [
    "Vemos que efectivamente la regularización L1 ha hecho 0 muchos coeficientes eliminando grados de libertad del sistema, salvo las características que se observan en la salida anterior."
   ]
  },
  {
   "cell_type": "markdown",
   "metadata": {
    "slideshow": {
     "slide_type": "slide"
    }
   },
   "source": [
    "En realidad, no es necesario invocar de nuevo glmnet. El objeto que devuelve la validación cruzada también contiene los coeficientes correspondientes al $\\lambda$ óptimo."
   ]
  },
  {
   "cell_type": "code",
   "execution_count": 35,
   "metadata": {
    "slideshow": {
     "slide_type": "-"
    }
   },
   "outputs": [
    {
     "data": {
      "text/plain": [
       "30 x 1 sparse Matrix of class \"dgCMatrix\"\n",
       "                                 1\n",
       "(Intercept)            -0.43063144\n",
       "radius_mean             .         \n",
       "texture_mean            0.22253834\n",
       "perimeter_mean          .         \n",
       "area_mean               .         \n",
       "smoothness_mean         .         \n",
       "compactness_mean        .         \n",
       "concavity_mean          .         \n",
       "concave.points_mean     0.73166442\n",
       "symmetry_mean           .         \n",
       "fractal_dimension_mean -0.07866767\n",
       "radius_se               1.80412973\n",
       "texture_se              .         \n",
       "perimeter_se            .         \n",
       "area_se                 .         \n",
       "smoothness_se           0.05010458\n",
       "compactness_se         -0.29820051\n",
       "concavity_se            .         \n",
       "concave.points_se       .         \n",
       "symmetry_se             .         \n",
       "fractal_dimension_se   -0.22878909\n",
       "radius_worst            3.67069840\n",
       "texture_worst           1.10329791\n",
       "perimeter_worst         .         \n",
       "area_worst              .         \n",
       "smoothness_worst        0.58825423\n",
       "compactness_worst       .         \n",
       "concavity_worst         0.70696689\n",
       "concave.points_worst    1.13686865\n",
       "symmetry_worst          0.39595555"
      ]
     },
     "metadata": {},
     "output_type": "display_data"
    }
   ],
   "source": [
    "coef(cvfit)"
   ]
  },
  {
   "cell_type": "markdown",
   "metadata": {},
   "source": [
    "Y podemos solicitar también los del $\\lambda$ que minimiza la validación cruzada:"
   ]
  },
  {
   "cell_type": "code",
   "execution_count": 36,
   "metadata": {
    "slideshow": {
     "slide_type": "-"
    }
   },
   "outputs": [
    {
     "data": {
      "text/plain": [
       "30 x 1 sparse Matrix of class \"dgCMatrix\"\n",
       "                                1\n",
       "(Intercept)            -0.0363535\n",
       "radius_mean             .        \n",
       "texture_mean            .        \n",
       "perimeter_mean          .        \n",
       "area_mean               .        \n",
       "smoothness_mean         .        \n",
       "compactness_mean        .        \n",
       "concavity_mean          0.1100713\n",
       "concave.points_mean     1.0920061\n",
       "symmetry_mean           .        \n",
       "fractal_dimension_mean -0.1389311\n",
       "radius_se               2.7141862\n",
       "texture_se             -0.3953014\n",
       "perimeter_se            .        \n",
       "area_se                 .        \n",
       "smoothness_se           0.3217076\n",
       "compactness_se         -0.8719843\n",
       "concavity_se            .        \n",
       "concave.points_se       .        \n",
       "symmetry_se             .        \n",
       "fractal_dimension_se   -0.2405319\n",
       "radius_worst            1.9869199\n",
       "texture_worst           1.7887423\n",
       "perimeter_worst         0.1447052\n",
       "area_worst              2.3130296\n",
       "smoothness_worst        0.5431543\n",
       "compactness_worst       .        \n",
       "concavity_worst         1.1143750\n",
       "concave.points_worst    1.2731199\n",
       "symmetry_worst          0.5516843"
      ]
     },
     "metadata": {},
     "output_type": "display_data"
    }
   ],
   "source": [
    "coef(cvfit, s=\"lambda.min\")"
   ]
  },
  {
   "cell_type": "markdown",
   "metadata": {
    "slideshow": {
     "slide_type": "slide"
    }
   },
   "source": [
    "Podemos ver el sobreajuste de forma cualitativa con la curva ROC:"
   ]
  },
  {
   "cell_type": "code",
   "execution_count": 37,
   "metadata": {},
   "outputs": [
    {
     "data": {
      "image/png": "[encoded data removed]",
      "text/plain": [
       "Plot with title “Curva ROC Regularización L1 (AUC = 0.997318)”"
      ]
     },
     "metadata": {
      "image/png": {
       "height": 420,
       "width": 420
      }
     },
     "output_type": "display_data"
    }
   ],
   "source": [
    "pred.l1 <- predict(cvfit, as.matrix(df[-1]), type = \"response\")\n",
    "auc.l1 <- roc.area(df$diagnosis,pred.l1)$A\n",
    "roc.plot(df$diagnosis, pred.l1, main=sprintf(\"Curva ROC Regularización L1 (AUC = %g)\", auc.l1))"
   ]
  },
  {
   "cell_type": "markdown",
   "metadata": {},
   "source": [
    "Observamos como, aún con solo 11 variables, el AUC es todavía bastante alto. Por ello se propone la siguiente tarea."
   ]
  },
  {
   "cell_type": "markdown",
   "metadata": {
    "slideshow": {
     "slide_type": "slide"
    }
   },
   "source": [
    "**TAREA 4:** Utilizar una validación cruzada tipo _hold out_ para comprobar si la capacidad de generalización del modelo ha mejorado con la regularización L1."
   ]
  },
  {
   "cell_type": "code",
   "execution_count": null,
   "metadata": {},
   "outputs": [],
   "source": []
  },
  {
   "cell_type": "markdown",
   "metadata": {
    "slideshow": {
     "slide_type": "slide"
    }
   },
   "source": [
    "### Regularización L2 (ridge)\n",
    "Si probásemos con la regularización L2 (parámetro `alpha = 0`), la norma-2 (norma euclídea) del vector de coeficientes se limita pero en este caso ningún coeficiente llega a anularse."
   ]
  },
  {
   "cell_type": "code",
   "execution_count": 38,
   "metadata": {},
   "outputs": [
    {
     "name": "stdout",
     "output_type": "stream",
     "text": [
      "Number of variables selected: 30"
     ]
    }
   ],
   "source": [
    "cvfit2 <- cv.glmnet(as.matrix(df[-1]), df$diagnosis, family = \"binomial\",alpha = 0)\n",
    "ind.coef.no.nulos.l2 <- which(as.numeric(coef(cvfit2)) != 0)\n",
    "cat(paste(\"Number of variables selected:\", length(ind.coef.no.nulos.l2)))"
   ]
  },
  {
   "cell_type": "code",
   "execution_count": null,
   "metadata": {},
   "outputs": [],
   "source": [
    "# en r2 se aproximan a 0 pero no siempre llegan"
   ]
  },
  {
   "cell_type": "markdown",
   "metadata": {
    "slideshow": {
     "slide_type": "slide"
    }
   },
   "source": [
    "Calculamos el AUC para el modelo regularizado con el penalty L2."
   ]
  },
  {
   "cell_type": "code",
   "execution_count": 25,
   "metadata": {
    "scrolled": false
   },
   "outputs": [
    {
     "data": {
      "image/png": "[encoded data removed]",
      "text/plain": [
       "Plot with title “Curva ROC Regularización L2 (AUC = 0.995402)”"
      ]
     },
     "metadata": {
      "image/png": {
       "height": 420,
       "width": 420
      }
     },
     "output_type": "display_data"
    }
   ],
   "source": [
    "pred.l2 <- predict(cvfit2, as.matrix(df[-1]), type = \"response\")\n",
    "auc.l2 <- roc.area(df$diagnosis, pred.l2)$A\n",
    "roc.plot(df$diagnosis, pred.l2, main=sprintf(\"Curva ROC Regularización L2 (AUC = %g)\", auc.l2))"
   ]
  },
  {
   "cell_type": "markdown",
   "metadata": {
    "slideshow": {
     "slide_type": "slide"
    }
   },
   "source": [
    "**TAREA 5:** Comprobar la capacidad de generalización del modelo regularizado mediante _ridge regression_ y estudiar la evolución de los valores de los coeficientes en función del valor de `lambda`."
   ]
  },
  {
   "cell_type": "code",
   "execution_count": null,
   "metadata": {},
   "outputs": [],
   "source": []
  },
  {
   "cell_type": "markdown",
   "metadata": {
    "slideshow": {
     "slide_type": "slide"
    }
   },
   "source": [
    "**TAREA 6:** Aplicar lo aprendido en esta práctica a otra de las bases de datos de ejemplo."
   ]
  },
  {
   "cell_type": "code",
   "execution_count": null,
   "metadata": {},
   "outputs": [],
   "source": []
  }
 ],
 "metadata": {
  "kernelspec": {
   "display_name": "R",
   "language": "R",
   "name": "ir"
  },
  "language_info": {
   "codemirror_mode": "r",
   "file_extension": ".r",
   "mimetype": "text/x-r-source",
   "name": "R",
   "pygments_lexer": "r",
   "version": "3.6.1"
  }
 },
 "nbformat": 4,
 "nbformat_minor": 2
}
