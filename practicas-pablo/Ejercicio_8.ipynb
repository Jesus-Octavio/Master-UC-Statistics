{
 "cells": [
  {
   "cell_type": "markdown",
   "metadata": {},
   "source": [
    " # ESTADÍSTICA 2.  PRÁCTICA 8.\n",
    " ## Autor: Jesús Octavio Raboso.\n",
    " \n",
    "Los enunciados del ejercicio aparecerán en negrita, cursiva y color azul. El resto de anotaciones (explicativas y personales) no seguirán ese estilo."
   ]
  },
  {
   "cell_type": "markdown",
   "metadata": {},
   "source": [
    "<font color='blue'>***Escribe una función de R que reciba un vector de números x (la muestra), y genere una muestra bootstrap de ese vector.***</font>\n",
    "\n",
    "\n",
    "**BOOTSTRAP.** Se trata de un método de remuestreo utilizado para aproximar características de la distribución en el muestreo de un estadístico. Es adecaudo cuando no se dispone de la distribución exacta. La idea es aproximar características poblacionales por las correspondientes de la distribución empírica de los datos observados. En el caso de observaciones independientes e identicamente distribuidas, esto puede ser realizado mediante remuestreo, realizando repetidamente **muestreo aleatorio con reemplazamiento del conjunto de datos original y mantieniendo el tamaño muestral.**\n",
    "\n",
    "Si $\\boldsymbol{x}=  (x_{1}, x_{2},...,x_{N})^{t}$ es una muestra independiente e identicamente distribuida de $F_{\\theta}$ y $\\hat{\\theta} = T(\\boldsymbol{x})$ es un estimador para $\\theta$, tenemos que para $i = 1,2,...,M$:\n",
    "\n",
    "* $\\boldsymbol{x}_{i}^{b} = (x_{i1}, x_{i2},...,x_{iN})^{t}$ es una muestra bootstrap obtenida mediante muestreo con reemplazamiento de $\\boldsymbol{x}=  (x_{1}, x_{2},...,x_{N})^{t}$.\n",
    "\n",
    "* $\\bar{\\theta_{i}^{b}} = T(\\boldsymbol{x}_{i}^{b})$ es el valor del estadístico en la muestra bootstrap.\n",
    "\n",
    "\n",
    "Siendo $N$ el tamaño muetsral, permite un total de $N^{N}$ muestras de bootstrap."
   ]
  },
  {
   "cell_type": "code",
   "execution_count": 1,
   "metadata": {},
   "outputs": [],
   "source": [
    "bootstrap <- function(x){\n",
    "    \n",
    "    #\n",
    "    # Function for random sampling with replacement. \n",
    "    # The set of observations is assumed to be from an independent\n",
    "    # and identically distributed population, so bootstrapping\n",
    "    # is implemented by constructing a number of resamples with replacement of \n",
    "    # the observed data and of equal size to the observed dataset.\n",
    "    #\n",
    "    # @description: Function for random sampling with replacement (bootstrap).\n",
    "    #\n",
    "    # @param x: float vector. Vector to perform bootstrapping on. Original observation.\n",
    "    #\n",
    "    # @return x_bootstrap: float vector: Result of bootstrapping input x\n",
    "    #\n",
    "    \n",
    "    x_bootstrap <- sample(x, replace = T)\n",
    "    return(x_bootstrap)\n",
    "}"
   ]
  },
  {
   "cell_type": "markdown",
   "metadata": {},
   "source": [
    "<font color='blue'>***Utilizando la función anterior, escribe una función que reciba un vector de números x (la muestra original) y un número natural N, y que genere una matrix que tenga N columnas, siendo cada una una de las muestras de bootstrap.***</font>"
   ]
  },
  {
   "cell_type": "code",
   "execution_count": 2,
   "metadata": {},
   "outputs": [],
   "source": [
    "bootstrap_N <- function(x, N){\n",
    "    \n",
    "    #\n",
    "    # Function for random sampling with replacement. \n",
    "    # The set of observations is assumed to be from an independent\n",
    "    # and identically distributed population, so bootstrapping\n",
    "    # is implemented by constructing a number of resamples with replacement of \n",
    "    # the observed data and of equal size to the observed dataset.\n",
    "    # Generates N samples with replacement.\n",
    "    #\n",
    "    # @description: Function for random sampling with replacement.\n",
    "    #\n",
    "    # @param x: float vector. Vector to perform bootstrapping on.\n",
    "    #\n",
    "    # @return X_bootstrap: float matrix. Matrix with dimensions\n",
    "    # length(x)xN where each column is a bootstrapped sample from input vector x.\n",
    "    \n",
    "    X_bootstrap <- replicate(N, bootstrap(x))\n",
    "    return(X_bootstrap)\n",
    "}"
   ]
  },
  {
   "cell_type": "markdown",
   "metadata": {},
   "source": [
    "<font color='blue'>***Escribe una función de R que reciba un vector de números x (la muestra) y genere una matriz que contenta TODAS las muestras jacknife con el mismo formato del ejercicio anterior.***</font>\n",
    "\n",
    "**JACKKNIFE.** Método de remuestreo empleado para estimar el sesgo y varianza de un estimador.  Todas las muestras jakkcnife posibles son tantas como el tamaño muestral original $N$ y cada una de ellas consiste en elimininar una observación de la muestra original, quedándose con una nueva muestra de tamaño $N-1$ en la que el resto de observaciones aparecen exactamente con frecuencia 1."
   ]
  },
  {
   "cell_type": "code",
   "execution_count": 3,
   "metadata": {},
   "outputs": [],
   "source": [
    "jackknife <- function(x){\n",
    "    \n",
    "    #\n",
    "    # Function for random sampling without replacement. \n",
    "    # Restulting samples after jackknife resampling method are found by\n",
    "    # sistematically leaving out each observation from the original dataset.\n",
    "    #\n",
    "    # @description functoin for jackknife resampling method. \n",
    "    #\n",
    "    # @param x: float vector. Vector to perform jackknife on. Original observation.\n",
    "    #\n",
    "    # @return X_jackkniffe: float matrix. Result of applying jackkniffe method to x \n",
    "    #\n",
    "    \n",
    "    X_jackknife <- simplify2array(lapply(x, function(a) setdiff(x, a)))\n",
    "    return(X_jackknife)                                     \n",
    "}"
   ]
  },
  {
   "cell_type": "markdown",
   "metadata": {},
   "source": [
    "<font color='blue'>***Utilizando las funciones anteriores considera la desviación estándar de la media muestral para una muestra de N=10000 que se distribuya como en el ejercicio 1 (gaussiana centrada en 1.70m y sigma=1.7). Compara la desviación estándar obtenida, con la obtenida con bootstrap.***</font>\n",
    "\n",
    "<font color='red'>**Vamos a considerar un $\\sigma$ distinto para que el problema tenga sentido. Nos saldría un 16% de personas con altura negativa (aprox). Se deduce de la rega Regla 68-95-99.7 https://es.wikipedia.org/wiki/Regla_68-95-99.7**</font>\n",
    "\n",
    "\n",
    "Dada una variable aleatoria $X\\sim N(\\mu = 170, \\sigma = 0.3)$, supongamos que desconocemos el parámetro media poblacional. \n",
    "\n",
    "Queremos estimar el parámetro desconocido $\\theta$, que es la media poblacional y calcular la desviación típica de la media muestral. \n",
    "\n",
    "Consideremos la muestra original de tamaño $N$: \n",
    "$$\\boldsymbol{x}=  (x_{1}, x_{2},...,x_{N})^{t}.$$\n",
    "\n",
    "Consideremos (puesto que en el remuestreo jackknife obtendremos N submuestras) N submuestras resultantes del bootstrap:\n",
    "$$\\boldsymbol{x}_{i}^{b} = (x_{i1}, x_{i2},...,x_{iN})^{t}, \\hspace{3mm} i=1,2,...,N.$$\n",
    "para cada submuestra $\\{\\boldsymbol{x}_{i}^{b}\\}_{i=1}^{N}$, consideramos el estimador media muestral $\\{\\bar{\\theta_{i}^{b}}\\}_{i=1}^{N}$: \n",
    "$$\\bar{\\theta_{i}^{b}} = \\frac{1}{N}\\sum_{j=1}^{N}x_{ij} \\hspace{3mm} \\text{para}\\hspace{3mm} i=1,2,...,N.$$\n",
    "\n",
    "A partir de estos $N$ estimadores media muestral $\\{\\bar{\\theta_{i}^{b}}\\}_{i=1}^{N}$, consideramos la media de los mismos:\n",
    "$$ \\hat{\\theta^{b}} = \\frac{1}{N}\\sum_{i=1}^{N}\\bar{\\theta_{i}^{b}}.$$\n",
    "\n",
    "Para calcular la varianza del estimador:\n",
    "$$\\frac{1}{N-1}\\sum_{i=1}^{N}(\\bar{\\theta_{i}^{b}} - \\hat{\\theta^{b}})^{2}$$."
   ]
  },
  {
   "cell_type": "code",
   "execution_count": 4,
   "metadata": {},
   "outputs": [],
   "source": [
    "# Sample size\n",
    "N <- 10000\n",
    "\n",
    "# Population mean\n",
    "population_mean <- 1.70\n",
    "\n",
    "# Population standard deviation\n",
    "population_sd <- 0.3\n",
    "\n",
    "# Generate random sample\n",
    "sample_heights <- rnorm(n = N, mean = population_mean, sd = population_sd)"
   ]
  },
  {
   "cell_type": "markdown",
   "metadata": {},
   "source": [
    "\n"
   ]
  },
  {
   "cell_type": "code",
   "execution_count": 5,
   "metadata": {},
   "outputs": [],
   "source": [
    "# Bootstrapping for sample. \n",
    "# Generate M=N samples\n",
    "M <- N\n",
    "bootstrap_heights <- bootstrap_N(sample_heights, M)"
   ]
  },
  {
   "cell_type": "code",
   "execution_count": 6,
   "metadata": {},
   "outputs": [],
   "source": [
    "# Mean for each column (mean for each sample)\n",
    "bootstrap_heights_means <- apply(bootstrap_heights, 2, mean)"
   ]
  },
  {
   "cell_type": "code",
   "execution_count": 7,
   "metadata": {},
   "outputs": [],
   "source": [
    "# Mean of sample means for bootstrap\n",
    "mean_bootstrap_heights_means <- mean(bootstrap_heights_means)"
   ]
  },
  {
   "cell_type": "code",
   "execution_count": 8,
   "metadata": {},
   "outputs": [],
   "source": [
    "# Calculate standard deviation for bootstrap\n",
    "bootstrap_sd <- function(N, sample_means, mean_of_means){\n",
    "    \n",
    "    #\n",
    "    # @description: Calculate standard deviation for bootstrapp resampling\n",
    "    #\n",
    "    # @param N: int. Samlpe size (We do not really need this param. Instead, we could\n",
    "    # use length(aprox) or length(real)  but we already initialized a variable N so we\n",
    "    # do not compute any lengths)\n",
    "    # @param sample_means: float vector. Vector containing sample means.\n",
    "    # @param mean_of_means: float. Mean of sample means\n",
    "    #\n",
    "    # @return: float. Standard deviation of sample means after bootstrap resampling\n",
    "    #\n",
    "    \n",
    "    return(sqrt((1 / (N - 1)) * sum((sample_means - mean_of_means) ^ 2)))\n",
    "}"
   ]
  },
  {
   "cell_type": "markdown",
   "metadata": {},
   "source": [
    "**Podríamos haber usado la función `var` de R pero ya que tenemos que definir otra para jackknife...**"
   ]
  },
  {
   "cell_type": "code",
   "execution_count": 9,
   "metadata": {},
   "outputs": [
    {
     "name": "stdout",
     "output_type": "stream",
     "text": [
      "[1] \"Standard deviation for bootstrap sample means:  0.00296640414934394\"\n"
     ]
    }
   ],
   "source": [
    "# Compute standard deviation\n",
    "b_sd <- bootstrap_sd(N, bootstrap_heights_means, mean_bootstrap_heights_means)\n",
    "print(paste(\"Standard deviation for bootstrap sample means: \", b_sd))"
   ]
  },
  {
   "cell_type": "markdown",
   "metadata": {},
   "source": [
    "<font color='blue'>***Repite el ejercicio anterior utilizando la técnica jackknife. ¿Cuál da mejor resultado?***</font>\n",
    "\n",
    "De manera similar a la del bootstrap, para cada submuestra jackknife, calculamos el estimador media muestral:\n",
    "$$ \\bar{\\theta_{i}}^{jackk} = \\frac{1}{N-1}\\sum_{j=1; j\\neq i}^{N}x_{ij} \\hspace{3mm} \\text{para}\\hspace{3mm} i=1,2,...,N. $$\n",
    "\n",
    "Por tanto: \n",
    "$$ \\hat{\\theta}^{jackk} = \\frac{1}{N}\\sum_{i=1}^{N}\\bar{\\theta_{i}}^{jackk}.$$\n",
    "\n",
    "Para calcular la varianza del estimador:\n",
    "$$\\frac{N}{N-1}\\sum_{i=1}^{N}(\\bar{\\theta_{i}}^{jackk} - \\hat{\\theta}^{jackk})^{2}$$."
   ]
  },
  {
   "cell_type": "code",
   "execution_count": 10,
   "metadata": {},
   "outputs": [],
   "source": [
    "# Calculate standard deviation for jackknife\n",
    "jackknife_sd <- function(N, sample_means, mean_of_means){\n",
    "    \n",
    "    #\n",
    "    # @description: Calcuate standard deviation for jackknife resampling\n",
    "    #\n",
    "    # @param N: int. Samlpe size (We do not really need this param. Instead, we could\n",
    "    # use length(aprox) or length(real)  but we already initilized a variable N so we\n",
    "    # do not compute any lengths)\n",
    "    # @param sample_means: float vector. Vector containing sample means.\n",
    "    # @param mean_of_means: float. Mean of sample means\n",
    "    #\n",
    "    # @return: float. Standar deviation of sample means after jackknife resampling\n",
    "    #\n",
    "    \n",
    "    return(sqrt((N / (N - 1)) * sum((sample_means - mean_of_means) ^ 2)))\n",
    "}"
   ]
  },
  {
   "cell_type": "code",
   "execution_count": 11,
   "metadata": {},
   "outputs": [],
   "source": [
    "# Jackknife for sample\n",
    "jackknife_heights <- jackknife(sample_heights)"
   ]
  },
  {
   "cell_type": "code",
   "execution_count": 12,
   "metadata": {},
   "outputs": [],
   "source": [
    "# Mean for each column (mean for each sample)\n",
    "jackknife_heights_means <- apply(jackknife_heights, 2, mean)"
   ]
  },
  {
   "cell_type": "code",
   "execution_count": 13,
   "metadata": {},
   "outputs": [],
   "source": [
    "# Mean of sample means for jackknife\n",
    "mean_jackknife_heights_means <- mean(jackknife_heights_means)"
   ]
  },
  {
   "cell_type": "code",
   "execution_count": 14,
   "metadata": {},
   "outputs": [
    {
     "name": "stdout",
     "output_type": "stream",
     "text": [
      "[1] \"Standard deviation for jackknife sample means:  0.00299712820751153\"\n"
     ]
    }
   ],
   "source": [
    "# Compute standard deviation\n",
    "j_sd <- jackknife_sd(N, jackknife_heights_means, mean_jackknife_heights_means)\n",
    "print(paste(\"Standard deviation for jackknife sample means: \", j_sd))"
   ]
  },
  {
   "cell_type": "markdown",
   "metadata": {},
   "source": [
    "\n"
   ]
  },
  {
   "cell_type": "markdown",
   "metadata": {},
   "source": [
    "Comparamos la desviación típica poblacional con la obtenida tras el remuestreo con  bootstrap y jackknife:"
   ]
  },
  {
   "cell_type": "code",
   "execution_count": 15,
   "metadata": {},
   "outputs": [
    {
     "data": {
      "image/png": "[encoded data removed]",
      "text/plain": [
       "Plot with title “Population standard deviation \n",
       " vs \n",
       " standard deviation of sample mean estimators”"
      ]
     },
     "metadata": {
      "image/png": {
       "height": 420,
       "width": 420
      }
     },
     "output_type": "display_data"
    }
   ],
   "source": [
    "y <- c(population_sd, b_sd, j_sd)\n",
    "x <- c(1,2,3)\n",
    "labels <-  c('population sd', 'bootstrap sd', 'jackknife sd')\n",
    "\n",
    "\n",
    "plot(x, y, pch = 19, \n",
    "     xaxt=\"n\", \n",
    "     main = paste(\"Population standard deviation\", '\\n', 'vs', '\\n', 'standard deviation of sample mean estimators'),\n",
    "     ylab = \"standard deviation\")\n",
    "axis(side = 1, at = x, labels = labels)"
   ]
  },
  {
   "cell_type": "markdown",
   "metadata": {},
   "source": [
    "Obtenemos resultados similares a los vistos en el ejercicio 1. Como era de esperar, se aproximan a $$\\frac{\\sigma}{\\sqrt{N}}$$ donde $\\sigma$ es la desviación típia de la población y $N$ el tamaño muestral."
   ]
  }
 ],
 "metadata": {
  "kernelspec": {
   "display_name": "R",
   "language": "R",
   "name": "ir"
  },
  "language_info": {
   "codemirror_mode": "r",
   "file_extension": ".r",
   "mimetype": "text/x-r-source",
   "name": "R",
   "pygments_lexer": "r",
   "version": "3.6.1"
  }
 },
 "nbformat": 4,
 "nbformat_minor": 2
}
