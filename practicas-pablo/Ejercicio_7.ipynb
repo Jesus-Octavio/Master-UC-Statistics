{
 "cells": [
  {
   "cell_type": "markdown",
   "metadata": {},
   "source": [
    " # ESTADÍSTICA 2.  PRÁCTICA 7.\n",
    " ## Autor: Jesús Octavio Raboso.\n",
    " \n",
    "Los enunciados del ejercicio aparecerán en negrita, cursiva y color azul. El resto de anotaciones (explicativas y personales) no seguirán ese estilo."
   ]
  },
  {
   "cell_type": "code",
   "execution_count": 1,
   "metadata": {},
   "outputs": [
    {
     "name": "stderr",
     "output_type": "stream",
     "text": [
      "Loading required package: pryr\n",
      "Warning message:\n",
      "\"package 'pryr' was built under R version 3.6.3\"Registered S3 method overwritten by 'pryr':\n",
      "  method      from\n",
      "  print.bytes Rcpp\n",
      "Loading required package: gridGraphics\n",
      "Warning message:\n",
      "\"package 'gridGraphics' was built under R version 3.6.3\"Loading required package: grid\n",
      "Loading required package: UsingR\n",
      "Warning message:\n",
      "\"package 'UsingR' was built under R version 3.6.3\"Loading required package: MASS\n",
      "Warning message:\n",
      "\"package 'MASS' was built under R version 3.6.3\"Loading required package: HistData\n",
      "Warning message:\n",
      "\"package 'HistData' was built under R version 3.6.3\"Loading required package: Hmisc\n",
      "Warning message:\n",
      "\"package 'Hmisc' was built under R version 3.6.3\"Loading required package: lattice\n",
      "Warning message:\n",
      "\"package 'lattice' was built under R version 3.6.3\"Loading required package: survival\n",
      "Warning message:\n",
      "\"package 'survival' was built under R version 3.6.3\"Loading required package: Formula\n",
      "Warning message:\n",
      "\"package 'Formula' was built under R version 3.6.3\"Loading required package: ggplot2\n",
      "Error: package or namespace load failed for 'Hmisc' in loadNamespace(j <- i[[1L]], c(lib.loc, .libPaths()), versionCheck = vI[[j]]):\n",
      " there is no package called 'foreign'\n"
     ]
    },
    {
     "name": "stdout",
     "output_type": "stream",
     "text": [
      "package 'UsingR' successfully unpacked and MD5 sums checked\n",
      "\n",
      "The downloaded binary packages are in\n",
      "\tC:\\Users\\usuario\\AppData\\Local\\Temp\\RtmpIHZrYO\\downloaded_packages\n"
     ]
    },
    {
     "name": "stderr",
     "output_type": "stream",
     "text": [
      "Loading required package: gridExtra\n",
      "Warning message:\n",
      "\"package 'gridExtra' was built under R version 3.6.3\""
     ]
    }
   ],
   "source": [
    "# Load require packages\n",
    "if (!require(\"pryr\")) install.packages(\"pryr\")\n",
    "if (!require(\"gridGraphics\")) install.packages(\"gridGraphics\")\n",
    "if (!require(\"grid\")) install.packages(\"grid\")\n",
    "if (!require(\"UsingR\")) install.packages(\"UsingR\")\n",
    "if (!require(\"lattice\")) install.packages(\"lattice\")\n",
    "if (!require(\"gridExtra\")) install.packages(\"gridExtra\")"
   ]
  },
  {
   "cell_type": "markdown",
   "metadata": {},
   "source": [
    "<font color='blue'>***1.- Escribe una función que tenga como input un vector x con valores distribuidos uniformemente, y unos parámetros a, b, m y n; y que devuelva como output una matriz cuya primera columna sea y = a + b x más un término estocástico sacado de una gaussiana con sigma = c + d*x^2; y la segunda columna el error sigma = m + n*x^2.***</font>"
   ]
  },
  {
   "cell_type": "markdown",
   "metadata": {},
   "source": [
    "Dada una muestra de tamaño $N$, buscamos un modelo con $M$ parámetros tal que:\n",
    "$$ \\boldsymbol{y}^{T} = X\\boldsymbol{\\theta}^{T} $$\n",
    "siendo $\\boldsymbol{y} = [y_{1}, y_{2},...,y_{N}]$ el vector con los valores estimados, $\\boldsymbol{\\theta} = [\\theta_{0}, \\theta_{1},...,\\theta_{M-1}]$ el vector de parámetros y \n",
    "$$X =\\begin{bmatrix} \n",
    "\t1 & x_{1} & x_{1}^{2} & \\dots & x_{N}^{M-1} \\\\\n",
    "\t1 & x_{2} & x_{2}^{2} & \\dots & x_{N}^{M-1} \\\\\n",
    "    \\vdots & \\vdots       & \\vdots &  \\vdots& \\vdots  \\\\\n",
    "\t1 & x_{N} & x_{N}^{2} & \\dots & x_{N}^{M-1} \\\\\n",
    "\t\\end{bmatrix}\n",
    "$$\n",
    "la matriz elaborada a partir del vector observado $\\boldsymbol{x} = [x_{1}, x_{2},...,x_{N}]$. Es decir:\n",
    "\n",
    "\n",
    "$$\\begin{bmatrix}\n",
    "y_{1} \\\\ y_{2} \\\\ \\vdots \\\\ y_{N}\n",
    "\\end{bmatrix} = \n",
    "\\begin{bmatrix} \n",
    "\t1 & x_{1} & x_{1}^{2} & \\dots & x_{N}^{M-1} \\\\\n",
    "\t1 & x_{2} & x_{2}^{2} & \\dots & x_{N}^{M-1} \\\\\n",
    "    \\vdots & \\vdots       & \\vdots &  \\vdots& \\vdots  \\\\\n",
    "\t1 & x_{N} & x_{N}^{2} & \\dots & x_{N}^{M-1} \\\\\n",
    "\t\\end{bmatrix}\n",
    "    \\begin{bmatrix} \n",
    "\t\\theta_{0}\\\\\n",
    "\t\\theta_{1}\\\\\n",
    "    \\vdots \\\\\n",
    "    \\theta_{M-1}\\\\\n",
    "\t\\end{bmatrix}.\n",
    "$$\n",
    "\n",
    "\n",
    "\n",
    "La probabilidad estará dada por la gaussiana:\n",
    "$$ p(y_{i}|x_{i}) = \\prod_{i}\\frac{1}{\\sigma_{i}\\sqrt{2\\pi}}e^{-\\frac{1}{2}\n",
    "\\frac{(y_{i}-\\boldsymbol{x}_{i}{\\boldsymbol{\\theta})^{2}}}{\\sigma{i}^{2}}}$$\n",
    "donde $\\boldsymbol{\\sigma} = [\\sigma_{1}, \\sigma_{2}, ... ,\\sigma_{N}]$, \n",
    "$\\boldsymbol{x}_{i} = [x_{i}^{0}, x_{i}^{1}, ..., x_{i}^{M-1}]$.\n",
    "\n",
    "De este modo, la función de verosimilitud estrá dada por:\n",
    "$$ L((x_{i}, y_{i}); \\theta) = \\prod_{i} p(y_{i}|x_{i}).$$\n",
    "\n",
    "\n",
    "En las siguientes funciones, definimos modelos $\\boldsymbol{y}^{T} = X\\boldsymbol{\\theta}^{T}$. El de `dist_1` es lineal y el de `dist_2` cuadrático.\n",
    "\n",
    "\n",
    "**La siguiente función coincide con la requerida en el ejercicio 6:**"
   ]
  },
  {
   "cell_type": "code",
   "execution_count": 2,
   "metadata": {},
   "outputs": [],
   "source": [
    "dist_1 <- function(x, a, b, m, n){\n",
    "    \n",
    "    #\n",
    "    # Given a random uniformly distributed vector x and parameters a, b, generates linear model\n",
    "    # y = a*x + b.\n",
    "    # Given a random uniformly distributed vector x and parameters m, n, calculates \n",
    "    # sigma = m+n+x^2 for normal distribution with mean = 0.\n",
    "    # Return independent term y=a+b*x+ gauss(0, sigma) and sigma.\n",
    "    #\n",
    "    # @description Creates distributon y=a+b*x+ gauss(0, sigma=m+n+x^2)\n",
    "    # \n",
    "    #\n",
    "    # @param x: float vector. Random uniformly distributed vector.\n",
    "    # @param a: float. Parameter for linear model y = a + b*x.\n",
    "    # @param b: float. Parameter for linear model y = a + b*x.\n",
    "    # @param m: float. Parameter for sigma = m + n * x^2 \n",
    "    # @param n: float. Parameter for sigma = m + n * x^2 \n",
    "    #\n",
    "    # @return : Given N=length(x), returns an Nx2 matrix whose first column is y=a+b*x+ gauss(0, sigma); whose\n",
    "    # second column is m + n *x^2.\n",
    "    # \n",
    "    \n",
    "    sigma <- m + (n * (x ^ 2))\n",
    "    normal <- rnorm(length(x), mean = 0, sd = sigma)\n",
    "    y = a + (b * x) + normal    \n",
    "    \n",
    "    return(data.frame(y = y, sigma = sigma))\n",
    "}"
   ]
  },
  {
   "cell_type": "markdown",
   "metadata": {},
   "source": [
    "<font color='blue'>***2.- Escribe otra función que haga lo mismo que la anterior pero con un parámetro más “c” de tal forma que haga lo mismo pero con un modelo y = a + b x + c x^2.***</font>"
   ]
  },
  {
   "cell_type": "code",
   "execution_count": 3,
   "metadata": {},
   "outputs": [],
   "source": [
    "dist_2 <- function(x, a, b, c, m, n){\n",
    "    \n",
    "    #\n",
    "    # Given a random uniformly distributed vector x and paremeters a, b, generates quadratic model\n",
    "    # y = a + bx + cx^2.\n",
    "    # Given a random uniformly distributed vector x and parameters m, n, calculates \n",
    "    # sigma = m + n + x^2 for normal distribution with mean = 0.\n",
    "    # Return independent term y= a + b*x + c*x^2 + gauss(0, sigma) and sigma.\n",
    "    #\n",
    "    # @description Creates distributon y= a + b*x + c*x^2 + gauss(0, sigma = m + n + x^2)\n",
    "    # \n",
    "    #\n",
    "    # @param x: float vector. Random uniformly distributed vector.\n",
    "    # @param a: float. Parameter for quadratic model y =a + b*x + c*x^2 + gauss(0, sigma).\n",
    "    # @param b: float. Parameter for quadratic model y =a + b*x + c*x^2 + gauss(0, sigma).\n",
    "    # @param c: float. Parameter for quadratic model y =a + b*x + c*x^2 + gauss(0, sigma).\n",
    "    # @param m: float. Parameter for sigma = m + n * x^2 \n",
    "    # @param n: float. Parameter for sigma = m + n * x^2 \n",
    "    #\n",
    "    # @return : Given N=length(x), returns an Nx2 matrix whose first column is y=a+b*x+c*x^2+ gauss(0, sigma); whose\n",
    "    # second column is m + n *x^2.\n",
    "    # \n",
    "    \n",
    "    sigma <- m + (n * (x ^ 2))\n",
    "    normal <- rnorm(length(x), mean = 0, sd = sigma)\n",
    "    y = a + (b * x) + (c * (x ^ 2)) + normal    \n",
    "    \n",
    "    return(data.frame(y = y, sigma = sigma))\n",
    "}"
   ]
  },
  {
   "cell_type": "markdown",
   "metadata": {},
   "source": [
    "<font color='blue'>***3.- Usando como valores a = 1, b = 2, m = 0.1 y n = 0.04 para el modelo de la primera función: calcula los parámetros para las que el likelihood es máximo asumiendo un modelo con dos parámetros y = a + b x. Calcula el valor del chi2 y calcula el nivel de confianza con el que rechazaríamos este ajuste.***</font>  \n",
    "\n",
    "El **contraste de hipótesis**, en general, es la técnica estadística adecuada cuando se quiere estudiar si una determinada afirmación sobre una distribución poblacional es confirmada o invalidada por los datos de la muestra. \n",
    "\n",
    "Para realizar el contraste, se utiliza un **estadístico** de contraste cuya distribución en el muestreo se conoce si la hipótesis que hemos hecho es verdadera. Extraída la muestra, el estadístico tomará cierto valor. Algunos valores del estadístico pueden llevarnos a sospechar que la hipótesis no es razonable y no debemos aceptarla. Otros valores del estadístico pueden considerarse como justifiación de la hipótesis. Sin embargo, en ambos casos estamos sujetos a error: rechazar la hipótesis siendo verdadera; aceptarla siendo falsa. \n",
    "\n",
    "* **HIPÓTESIS NULA $H_{0}$.** Hipótesis que se desea contrastar. Se acepta o no como conclusión del contraste. \n",
    "* **HIPÓTESIS NULA $H_{1}$.** Hipótesis frente a $H_{0}$. Si se acepta $H_{0}$, se rechaza $H_{1}$. Si se acepta $H_{1}$, no se acepta $H_{0}$.\n",
    "* **ESTADÍSTICO DE CONTRASTE.** Función de la muestra que aplica en $\\mathbb{R}$.\n",
    "* **REGIÓN DE ACEPTACIÓN.** Conjunto de valores del estadístico de contraste que llevan a aceptar la hipótesis nula.\n",
    "* **REGIÓN CRÍTICA.** Conjunto de valores del estadístico de contraste que llevan a no aceptar la hipótesis nula.\n",
    "* **NIVEL DE SIGNIFICACIÓN $\\alpha$.** Probabilidad de no aceptar la hipótesis nula siendo correcta.\n",
    "* **p-VALOR.** Mínimo nivel de significacion con el que puede no aceptarse la hipótesis nula. Hay qie aceptar l ahipótesis nula salvo si se está dispuesto a un riesgo de error igual o superior al p-valor.\n",
    "\n",
    "\n",
    "El criterio de decisión es el siguiente:\n",
    "* $p$-valor $< \\alpha$ $\\Rightarrow$ no aceptamos $H_{0}$\n",
    "* $p$-valor $> \\alpha$ $\\Rightarrow$ sí aceptamos $H_{0}$\n",
    "\n",
    "\n",
    "\n",
    "**La siguiente función coincide con la requerida en el ejercicio 6.**"
   ]
  },
  {
   "cell_type": "code",
   "execution_count": 4,
   "metadata": {},
   "outputs": [],
   "source": [
    "opt_likelihood <- function(X, y, sigma){\n",
    "    \n",
    "    \n",
    "    #\n",
    "    # @description Optimize likelihooh function\n",
    "    #\n",
    "    # @param X: float matrix. Features matrix including 1s vector.\n",
    "    # @param y: float vector. Model y = a + b*x+ gauss(0, sigma=m+n+x^2)\n",
    "    # @param sigma: floar vector. sigma=m+n+x^2\n",
    "    #\n",
    "    # @return float vector. Vector with coefficients that maximize likelihoob\n",
    "    # function. \n",
    "    #\n",
    "    \n",
    "    cov_inv <- solve(diag(sigma^2))\n",
    "    return(solve(t(X) %*% cov_inv %*% X) %*% (t(X) %*% cov_inv) %*% y)\n",
    "}"
   ]
  },
  {
   "cell_type": "markdown",
   "metadata": {},
   "source": [
    "### Creamos unos datos que siguen una regla lineal. Aproximamos con un modelo lineal de dos parámetros."
   ]
  },
  {
   "cell_type": "code",
   "execution_count": 5,
   "metadata": {},
   "outputs": [],
   "source": [
    "# Number of elements. Sample size\n",
    "N <- 100"
   ]
  },
  {
   "cell_type": "code",
   "execution_count": 6,
   "metadata": {},
   "outputs": [],
   "source": [
    "# Create random uniformly distributed vector with N elements between 0 and 10\n",
    "# Seed to ensure reproducible results\n",
    "set.seed(100)\n",
    "x.linear <- runif(n = N, min = 0, max = 10)"
   ]
  },
  {
   "cell_type": "code",
   "execution_count": 7,
   "metadata": {},
   "outputs": [],
   "source": [
    "# Set feature matrix X (with 1's vector)\n",
    "# Matrix for approximation with two parameters, ie, length(theta) = 2, where\n",
    "# theta is the vector that contains the parameters.\n",
    "X.linear.2.params <- cbind(1, x.linear)"
   ]
  },
  {
   "cell_type": "code",
   "execution_count": 8,
   "metadata": {},
   "outputs": [],
   "source": [
    "# Set parameters\n",
    "a.linear <- 1\n",
    "b.linear <- 2\n",
    "m.linear <- 0.1\n",
    "n.linear <- 0.04\n",
    "\n",
    "# Invoke function to create model\n",
    "my.dist <- dist_1(x = x.linear,\n",
    "                  a = a.linear,\n",
    "                  b = b.linear, \n",
    "                  m = m.linear,\n",
    "                  n = n.linear)"
   ]
  },
  {
   "cell_type": "code",
   "execution_count": 9,
   "metadata": {},
   "outputs": [],
   "source": [
    "# Set sigma\n",
    "sigma.linear <- my.dist$sigma"
   ]
  },
  {
   "cell_type": "code",
   "execution_count": 10,
   "metadata": {},
   "outputs": [],
   "source": [
    "# Set y\n",
    "y.linear <- my.dist$y"
   ]
  },
  {
   "cell_type": "code",
   "execution_count": 11,
   "metadata": {},
   "outputs": [],
   "source": [
    "# Calculate \\hat{\\theta}, ie, parameters that optimize the likelihood function\n",
    "theta.hat.linear.2.params <- opt_likelihood(X = X.linear.2.params,\n",
    "                                            y = y.linear,\n",
    "                                            sigma = sigma.linear)"
   ]
  },
  {
   "cell_type": "code",
   "execution_count": 12,
   "metadata": {},
   "outputs": [
    {
     "name": "stdout",
     "output_type": "stream",
     "text": [
      "[1] \"Parámetros que optimizan la función de likelihood:\"\n"
     ]
    },
    {
     "data": {
      "text/html": [
       "<table>\n",
       "<tbody>\n",
       "\t<tr><th scope=row></th><td>1.090950</td></tr>\n",
       "\t<tr><th scope=row>x.linear</th><td>1.940837</td></tr>\n",
       "</tbody>\n",
       "</table>\n"
      ],
      "text/latex": [
       "\\begin{tabular}{r|l}\n",
       "\t & 1.090950\\\\\n",
       "\tx.linear & 1.940837\\\\\n",
       "\\end{tabular}\n"
      ],
      "text/markdown": [
       "\n",
       "|  | 1.090950 |\n",
       "| x.linear | 1.940837 |\n",
       "\n"
      ],
      "text/plain": [
       "         [,1]    \n",
       "         1.090950\n",
       "x.linear 1.940837"
      ]
     },
     "metadata": {},
     "output_type": "display_data"
    }
   ],
   "source": [
    "# Display theta\n",
    "print(\"Parámetros que optimizan la función de likelihood:\")\n",
    "theta.hat.linear.2.params"
   ]
  },
  {
   "cell_type": "code",
   "execution_count": 13,
   "metadata": {},
   "outputs": [],
   "source": [
    "# Compute predicted y values\n",
    "y.hat.linear.2.params <- X.linear.2.params %*% theta.hat.linear.2.params"
   ]
  },
  {
   "cell_type": "markdown",
   "metadata": {},
   "source": [
    "En nuestro caso (ver teoría) el estadísco que emplearemos es:\n",
    "$$\\chi^{2}=\\sum_{i=1}^{N}\\frac{(y_{i}-\\boldsymbol{x}_{i}\\boldsymbol{\\theta}^{T})^{2}}{\\sigma_{i}^{2}} = \\sum_{i=1}^{N}z_{i}^{2}.$$\n",
    "\n",
    "Llamaremos a dicha cantidad *chi-cuadrado*. Su pdf es conocida. Sus grados de libertad son:\n",
    "$$ k = N- M$$\n",
    "donde $N$ es el tamaño muestrla y $M$ el número de parámetros."
   ]
  },
  {
   "cell_type": "code",
   "execution_count": 14,
   "metadata": {},
   "outputs": [
    {
     "name": "stdout",
     "output_type": "stream",
     "text": [
      "[1] \"Valor observado de chi-cuadrado: 97.5388837808812\"\n"
     ]
    }
   ],
   "source": [
    "# Compute observed chi^2\n",
    "chi.linear.2.params <- sum(((y.linear - y.hat.linear.2.params) / sigma.linear) ^ 2)\n",
    "print(paste('Valor observado de chi-cuadrado:', chi.linear.2.params))"
   ]
  },
  {
   "cell_type": "code",
   "execution_count": 15,
   "metadata": {},
   "outputs": [
    {
     "data": {
      "image/png": "[encoded data removed]",
      "text/plain": [
       "Plot with title \"Linear data \n",
       " Linear model\""
      ]
     },
     "metadata": {},
     "output_type": "display_data"
    }
   ],
   "source": [
    "plot(seq(0, 400, 0.5), \n",
    "     dchisq(seq(0, 400, 0.5),  N - length(theta.hat.linear.2.params)),\n",
    "     type = \"l\",\n",
    "     col = \"red\",\n",
    "     ylab = 'Chi-square distribution. Density',\n",
    "     main = paste(\"Linear data\", \"\\n\", \"Linear model\"))\n",
    "\n",
    "abline(v = chi.linear.2.params, col = \"blue\")\n",
    "\n",
    "legend(\"topright\", \n",
    "        legend = c(paste0(\"chi distribution, df=\", N - length(theta.hat.linear.2.params)), \n",
    "                   paste('chi observed', chi.linear.2.params)),\n",
    "        col = c(\"red\", \"blue\"),\n",
    "        lty = 1, \n",
    "        cex = 1)\n",
    "\n",
    "# Save picture\n",
    "linear.data.linear.model <- recordPlot()"
   ]
  },
  {
   "cell_type": "markdown",
   "metadata": {},
   "source": [
    "Nos preguntamos: *¿a partir de qué chi-cuadrado es bueno el ajuste?*, *¿cuál es la probabilidad de obtener un valor de chi-cuadrado como el observado o mayor?*\n",
    "\n",
    "Hallamos el p-valor denotado por $p$ como:\n",
    "$$ p = P(\\chi^{2} \\geq \\chi_{obs}^{2}) = \\int_{\\chi^{2}_{obs}}^{+\\infty}pdf(\\chi^{2})d\\chi^{2}$$\n",
    "donde $\\chi^{2}_{obs}$ es el valor observado del estadístico."
   ]
  },
  {
   "cell_type": "code",
   "execution_count": 16,
   "metadata": {},
   "outputs": [
    {
     "name": "stdout",
     "output_type": "stream",
     "text": [
      "[1] \"p-valor observado: 0.49414684939719\"\n"
     ]
    }
   ],
   "source": [
    "# Compute p-value\n",
    "# pchisq: cumulative distributed function\n",
    "#    df : degrees of freedom\n",
    "p.linear.2.params <- 1 - pchisq(chi.linear.2.params, \n",
    "                                df = N - length(theta.hat.linear.2.params))\n",
    "print(paste('p-valor observado:', p.linear.2.params))"
   ]
  },
  {
   "cell_type": "code",
   "execution_count": 17,
   "metadata": {},
   "outputs": [
    {
     "data": {
      "image/png": "[encoded data removed]",
      "text/plain": [
       "Plot with title \"Linear data \n",
       " Linear model \n",
       " Area\""
      ]
     },
     "metadata": {},
     "output_type": "display_data"
    }
   ],
   "source": [
    "# Create vector of x values\n",
    "x <- seq(0, 400, 0.5)\n",
    "\n",
    "#create density curve\n",
    "plot(seq(0, 400, 0.5), dchisq(seq(0, 400, 0.5),  N - length(theta.hat.linear.2.params)),\n",
    "      type = 'l',\n",
    "      main =  paste(\"Linear data\", \"\\n\", \"Linear model\", \"\\n\", \"Area\"),\n",
    "      ylab = 'Chi-square distribution. Density',\n",
    "      lwd = 2)\n",
    "\n",
    "x_vector <- seq(chi.linear.2.params, 400)\n",
    "\n",
    "# Create vector of chi-square density values\n",
    "p_vector <- dchisq(x_vector, df =  N - length(theta.hat.linear.2.params))\n",
    "\n",
    "# Fill in portion of the density plot\n",
    "polygon(c(x_vector, rev(x_vector)), c(p_vector, rep(0, length(p_vector))),\n",
    "        col = adjustcolor('red', alpha = 0.3),\n",
    "        border = NA)\n",
    "\n",
    "abline(v = chi.linear.2.params, col = \"blue\")\n",
    "\n",
    "legend(\"topright\",\n",
    "       legend = c(paste0(\"Chi distribution, df=\",N - length(theta.hat.linear.2.params)),\n",
    "                  paste('chio bserved', chi.linear.2.params)),\n",
    "       col = c(\"black\", \"blue\"),\n",
    "       lty = 1,\n",
    "       cex = 1)\n",
    "\n",
    "# Save picture\n",
    "linear.data.lineal.model.area <- recordPlot()"
   ]
  },
  {
   "cell_type": "markdown",
   "metadata": {},
   "source": [
    "Si llamamos $\\alpha$ al valor obtenido $p$, decimos que rechazaremos $H_{0}$, es decir, el modelo lineal con el que hemos aproximado, con una confianza de:"
   ]
  },
  {
   "cell_type": "code",
   "execution_count": 18,
   "metadata": {},
   "outputs": [
    {
     "data": {
      "text/html": [
       "50.585315060281"
      ],
      "text/latex": [
       "50.585315060281"
      ],
      "text/markdown": [
       "50.585315060281"
      ],
      "text/plain": [
       "[1] 50.58532"
      ]
     },
     "metadata": {},
     "output_type": "display_data"
    }
   ],
   "source": [
    "alpha.linear.2.params <- p.linear.2.params\n",
    "100*(1 - alpha.linear.2.params)"
   ]
  },
  {
   "cell_type": "markdown",
   "metadata": {},
   "source": [
    "Mostramos el ajuste:"
   ]
  },
  {
   "cell_type": "code",
   "execution_count": 19,
   "metadata": {},
   "outputs": [
    {
     "data": {
      "image/png": "[encoded data removed]",
      "text/plain": [
       "Plot with title \"Linear data \n",
       " Linear model\""
      ]
     },
     "metadata": {},
     "output_type": "display_data"
    }
   ],
   "source": [
    "# Plot approximation\n",
    "plot(x.linear, y.linear, pch = 19,\n",
    "     main = paste('Linear data', \"\\n\", \"Linear model\"))\n",
    "\n",
    "lines(x.linear, y.hat.linear.2.params, col = \"red\", lwd = 2)\n",
    "\n",
    "segments(x0 = x.linear, x1 = x.linear,\n",
    "         y = y.linear, y1 = y.hat.linear.2.params,\n",
    "         col = 'green')\n",
    "\n",
    "# Save picture\n",
    "linear.data.linear.model.approx <- recordPlot()"
   ]
  },
  {
   "cell_type": "markdown",
   "metadata": {},
   "source": [
    "<font color='blue'>***4.- Repite el paso anterior con el mismo modelo pero usando la segunda función.***</font>\n",
    "### Con los datos del apartado anterior que siguen una regla lineal, aproximamos con un modelo cuadrático de tres parámetros.\n",
    "En el apartado anterior, habíamos generado unos datos que siguen una ley lineal y habíamos ajustado, también, con un modelo lineal con dos parámetros. Vamos a mantener ese modelo lineal pero, esta vez, vamos a ajustar con un modelo cuadrático con tres parámetros. El modelo lineal estaba guardado en `my_dist`. Ploteamos:"
   ]
  },
  {
   "cell_type": "code",
   "execution_count": 20,
   "metadata": {},
   "outputs": [
    {
     "data": {
      "image/png": "[encoded data removed]",
      "text/plain": [
       "Plot with title \"Linear data\""
      ]
     },
     "metadata": {},
     "output_type": "display_data"
    }
   ],
   "source": [
    "plot(x.linear, y.linear, pch = 19,\n",
    "    main = \"Linear data\")"
   ]
  },
  {
   "cell_type": "code",
   "execution_count": 21,
   "metadata": {},
   "outputs": [
    {
     "name": "stdout",
     "output_type": "stream",
     "text": [
      "[1] \"Parámetros que optimizan la función de likelihood:\"\n"
     ]
    },
    {
     "data": {
      "text/html": [
       "<table>\n",
       "<tbody>\n",
       "\t<tr><th scope=row></th><td>1.14549502</td></tr>\n",
       "\t<tr><th scope=row>x.linear</th><td>1.86907596</td></tr>\n",
       "\t<tr><th scope=row></th><td>0.01369036</td></tr>\n",
       "</tbody>\n",
       "</table>\n"
      ],
      "text/latex": [
       "\\begin{tabular}{r|l}\n",
       "\t & 1.14549502\\\\\n",
       "\tx.linear & 1.86907596\\\\\n",
       "\t & 0.01369036\\\\\n",
       "\\end{tabular}\n"
      ],
      "text/markdown": [
       "\n",
       "|  | 1.14549502 |\n",
       "| x.linear | 1.86907596 |\n",
       "|  | 0.01369036 |\n",
       "\n"
      ],
      "text/plain": [
       "         [,1]      \n",
       "         1.14549502\n",
       "x.linear 1.86907596\n",
       "         0.01369036"
      ]
     },
     "metadata": {},
     "output_type": "display_data"
    }
   ],
   "source": [
    "# Calculate \\hat{\\theta}, ie, parameters that optimize the likelihood function\n",
    "# Set matrix for quadratic approximation\n",
    "X.linear.3.params <- cbind(X.linear.2.params, x.linear^2)\n",
    "theta.hat.linear.3.params <- opt_likelihood(X = X.linear.3.params, y = y.linear, sigma = sigma.linear)\n",
    "# Display optimum parametres\n",
    "print(\"Parámetros que optimizan la función de likelihood:\")\n",
    "theta.hat.linear.3.params"
   ]
  },
  {
   "cell_type": "code",
   "execution_count": 22,
   "metadata": {},
   "outputs": [],
   "source": [
    "# Compute predicted y values\n",
    "y.hat.linear.3.params <- X.linear.3.params %*% theta.hat.linear.3.params"
   ]
  },
  {
   "cell_type": "code",
   "execution_count": 23,
   "metadata": {},
   "outputs": [
    {
     "name": "stdout",
     "output_type": "stream",
     "text": [
      "[1] \"Valor observado de chi-cuadrado: 96.2866659468661\"\n"
     ]
    }
   ],
   "source": [
    "# Compute observed chi^2\n",
    "chi.linear.3.params <- sum(((y.linear - y.hat.linear.3.params) / sigma.linear) ^ 2)\n",
    "print(paste('Valor observado de chi-cuadrado:', chi.linear.3.params))"
   ]
  },
  {
   "cell_type": "code",
   "execution_count": 24,
   "metadata": {},
   "outputs": [
    {
     "data": {
      "image/png": "[encoded data removed]",
      "text/plain": [
       "Plot with title \"Linear data \n",
       " Quadratic model\""
      ]
     },
     "metadata": {},
     "output_type": "display_data"
    }
   ],
   "source": [
    "plot(seq(0, 400, 0.5), dchisq(seq(0, 400, 0.5),  N - length(theta.hat.linear.3.params)),\n",
    "     ylab = 'Chi-square distribution. Density',\n",
    "     type = \"l\",\n",
    "     col = \"red\",\n",
    "     main = paste(\"Linear data\", \"\\n\", \"Quadratic model\"))\n",
    "\n",
    "abline(v = chi.linear.3.params, col = \"blue\")\n",
    "\n",
    "legend(\"topright\", legend = c(paste0(\"chi distribution, df=\", N - length(theta.hat.linear.3.params)),\n",
    "                              paste('chi observed', chi.linear.3.params)),\n",
    "       col = c(\"red\", \"blue\"),\n",
    "       lty = 1, \n",
    "       cex = 1)\n",
    "\n",
    "# Save picture\n",
    "linear.data.quadratic.model <- recordPlot()"
   ]
  },
  {
   "cell_type": "code",
   "execution_count": 25,
   "metadata": {},
   "outputs": [
    {
     "name": "stdout",
     "output_type": "stream",
     "text": [
      "[1] \"p-valor observado: 0.501365875712755\"\n"
     ]
    }
   ],
   "source": [
    "# Compute p-value\n",
    "# pchisq: cumulative distributed function\n",
    "#    df : degrees of freedom\n",
    "p.linear.3.params <- 1 - pchisq(chi.linear.3.params,\n",
    "                                df = N - length(theta.hat.linear.3.params))\n",
    "print(paste('p-valor observado:', p.linear.3.params))"
   ]
  },
  {
   "cell_type": "code",
   "execution_count": 26,
   "metadata": {},
   "outputs": [
    {
     "data": {
      "image/png": "[encoded data removed]",
      "text/plain": [
       "Plot with title \"Linear data \n",
       " Quadratic model \n",
       " Area\""
      ]
     },
     "metadata": {},
     "output_type": "display_data"
    }
   ],
   "source": [
    "#create vector of x values\n",
    "x <- seq(0, 400, 0.5)\n",
    "\n",
    "#create density curve\n",
    "plot(seq(0, 400, 0.5), dchisq(seq(0, 400, 0.5),  N - length(theta.hat.linear.3.params)),\n",
    "    type = \"l\",\n",
    "    main =  paste(\"Linear data\", \"\\n\", \"Quadratic model\", \"\\n\", \"Area\"),\n",
    "    ylab = 'Chi distribution. Density',\n",
    "    lwd = 2)\n",
    "\n",
    "x_vector <- seq(chi.linear.3.params, 400)\n",
    "\n",
    "#create vector of chi-square density values\n",
    "p_vector <- dchisq(x_vector, df =  N - length(theta.hat.linear.3.params))\n",
    "\n",
    "#fill in portion of the density plot from 0 to 40\n",
    "polygon(c(x_vector, rev(x_vector)), c(p_vector, rep(0, length(p_vector))),\n",
    "        col = adjustcolor('red', alpha = 0.3),\n",
    "        border = NA)\n",
    "\n",
    "abline(v = chi.linear.3.params, col = \"blue\")\n",
    "\n",
    "legend(\"topright\", legend = c(paste0(\"chi distribution, df=\",N - length(theta.hat.linear.3.params)),\n",
    "                              paste('chi observed', chi.linear.3.params)),\n",
    "       col = c(\"black\", \"blue\"),\n",
    "       lty = 1, \n",
    "       cex = 1)\n",
    "\n",
    "# Save picture\n",
    "linear.data.quadratic.model.area <- recordPlot()"
   ]
  },
  {
   "cell_type": "markdown",
   "metadata": {},
   "source": [
    "Si llamamos $\\alpha$ al valor obtenido en la celda anterior, decimos que rechazaremos $H_{0}$, es decir, el modelo cuadrático, con una confianza de:"
   ]
  },
  {
   "cell_type": "code",
   "execution_count": 27,
   "metadata": {},
   "outputs": [
    {
     "data": {
      "text/html": [
       "49.8634124287245"
      ],
      "text/latex": [
       "49.8634124287245"
      ],
      "text/markdown": [
       "49.8634124287245"
      ],
      "text/plain": [
       "[1] 49.86341"
      ]
     },
     "metadata": {},
     "output_type": "display_data"
    }
   ],
   "source": [
    "alpha.linear.3.params <- p.linear.3.params\n",
    "100*(1 - alpha.linear.3.params)"
   ]
  },
  {
   "cell_type": "markdown",
   "metadata": {},
   "source": [
    "Mostramos el ajuste:"
   ]
  },
  {
   "cell_type": "code",
   "execution_count": 28,
   "metadata": {},
   "outputs": [
    {
     "data": {
      "image/png": "[encoded data removed]",
      "text/plain": [
       "Plot with title \"Linear data \n",
       " Quadratic model\""
      ]
     },
     "metadata": {},
     "output_type": "display_data"
    }
   ],
   "source": [
    "# Plot model\n",
    "plot(x.linear, y.linear, pch = 19, \n",
    "     main = paste('Linear data', \"\\n\", \"Quadratic model\"))\n",
    "\n",
    "lines(sort(x.linear), y.hat.linear.3.params[order(x.linear)], col = \"red\", lwd = 1.5)\n",
    "\n",
    "segments(x0 = x.linear, x1 = x.linear, \n",
    "         y = y.linear, y1 = y.hat.linear.3.params,\n",
    "         col = 'green')\n",
    "\n",
    "# Save picture\n",
    "linear.data.quadratic.model.approx <- recordPlot()"
   ]
  },
  {
   "cell_type": "markdown",
   "metadata": {},
   "source": [
    "**La comparación se realiza en el último apartado.**"
   ]
  },
  {
   "cell_type": "markdown",
   "metadata": {},
   "source": [
    "### Veamos qué ocurriría ahora generando datos que siguen una ley cuadrática y aproximando por un modelo lineal (con 2 parámetros) y un modelo cuadrático (con 3 parámetros).\n",
    "\n",
    "Generamos los datos que siguen la ley cuadrática:"
   ]
  },
  {
   "cell_type": "code",
   "execution_count": 29,
   "metadata": {},
   "outputs": [],
   "source": [
    "a.quadratic <- 1\n",
    "b.quadratic <- 2\n",
    "c.quadratic <- 3\n",
    "m.quadratic <- 0.1\n",
    "n.quadratic <- 0.04\n",
    "\n",
    "x.quadratic <- runif(n = N, min = 0, max = 10)\n",
    "\n",
    "my.dist.2 <- dist_2(x = x.quadratic, \n",
    "                    a = a.quadratic,\n",
    "                    b = b.quadratic,\n",
    "                    c = c.quadratic,\n",
    "                    m = m.quadratic,\n",
    "                    n = n.quadratic)"
   ]
  },
  {
   "cell_type": "code",
   "execution_count": 30,
   "metadata": {},
   "outputs": [],
   "source": [
    "# Set sigma\n",
    "sigma.quadratic <- my.dist.2$sigma"
   ]
  },
  {
   "cell_type": "code",
   "execution_count": 31,
   "metadata": {},
   "outputs": [],
   "source": [
    "# Set y\n",
    "y.quadratic <- my.dist.2$y"
   ]
  },
  {
   "cell_type": "markdown",
   "metadata": {},
   "source": [
    "**Aproximamos por un modelo cuadrático con 3 parámetros**"
   ]
  },
  {
   "cell_type": "code",
   "execution_count": 32,
   "metadata": {},
   "outputs": [
    {
     "data": {
      "text/html": [
       "<table>\n",
       "<tbody>\n",
       "\t<tr><th scope=row></th><td>0.9377568</td></tr>\n",
       "\t<tr><th scope=row>x.quadratic</th><td>2.1316462</td></tr>\n",
       "\t<tr><th scope=row></th><td>2.9759191</td></tr>\n",
       "</tbody>\n",
       "</table>\n"
      ],
      "text/latex": [
       "\\begin{tabular}{r|l}\n",
       "\t & 0.9377568\\\\\n",
       "\tx.quadratic & 2.1316462\\\\\n",
       "\t & 2.9759191\\\\\n",
       "\\end{tabular}\n"
      ],
      "text/markdown": [
       "\n",
       "|  | 0.9377568 |\n",
       "| x.quadratic | 2.1316462 |\n",
       "|  | 2.9759191 |\n",
       "\n"
      ],
      "text/plain": [
       "            [,1]     \n",
       "            0.9377568\n",
       "x.quadratic 2.1316462\n",
       "            2.9759191"
      ]
     },
     "metadata": {},
     "output_type": "display_data"
    }
   ],
   "source": [
    "# Calculate \\hat{\\theta}\n",
    "X.quadratic.3.params <- cbind(1, x.quadratic, x.quadratic^2)\n",
    "theta.hat.quadratic.3.params <- opt_likelihood(X = X.quadratic.3.params,\n",
    "                                               y = y.quadratic,\n",
    "                                               sigma = sigma.quadratic)\n",
    "theta.hat.quadratic.3.params"
   ]
  },
  {
   "cell_type": "code",
   "execution_count": 33,
   "metadata": {},
   "outputs": [],
   "source": [
    "# Compute predicted y values\n",
    "y.hat.quadratic.3.param <- X.quadratic.3.params %*% theta.hat.quadratic.3.params"
   ]
  },
  {
   "cell_type": "code",
   "execution_count": 34,
   "metadata": {},
   "outputs": [
    {
     "name": "stdout",
     "output_type": "stream",
     "text": [
      "[1] \"Valor observado de chi-cuadrado: 101.929764663149\"\n"
     ]
    }
   ],
   "source": [
    "# ESTADÍSTICO DE CONTRASTE\n",
    "# Compute observed chi^2\n",
    "chi.quadratic.3.params <- sum(((y.quadratic - y.hat.quadratic.3.param) / sigma.quadratic) ^ 2)\n",
    "print(paste('Valor observado de chi-cuadrado:', chi.quadratic.3.params))"
   ]
  },
  {
   "cell_type": "code",
   "execution_count": 35,
   "metadata": {},
   "outputs": [
    {
     "data": {
      "image/png": "[encoded data removed]",
      "text/plain": [
       "Plot with title \"Quadratic data \n",
       " Quadratic model\""
      ]
     },
     "metadata": {},
     "output_type": "display_data"
    }
   ],
   "source": [
    "plot(seq(0, 400, 0.5),\n",
    "     dchisq(seq(0, 400, 0.5),  N - length(theta.hat.quadratic.3.params)),\n",
    "     ylab = 'Chi distribution. Density',\n",
    "     type = \"l\",\n",
    "     col = \"red\",\n",
    "     main = paste('Quadratic data', \"\\n\", \"Quadratic model\"))\n",
    "\n",
    "abline(v = chi.quadratic.3.params,\n",
    "       col = \"blue\")\n",
    "\n",
    "legend(\"topright\",\n",
    "       legend = c(paste0(\"chi distribution, df=\",N - length(theta.hat.quadratic.3.params)),\n",
    "                  paste('chi observed', chi.quadratic.3.params)),\n",
    "       col = c(\"red\", \"blue\"),\n",
    "       lty = 1, \n",
    "       cex = 1)\n",
    "\n",
    "# Save picture\n",
    "quadratic.data.quadratic.model <- recordPlot()"
   ]
  },
  {
   "cell_type": "code",
   "execution_count": 36,
   "metadata": {},
   "outputs": [
    {
     "name": "stdout",
     "output_type": "stream",
     "text": [
      "[1] \"p-valor observado: 0.346126104116454\"\n"
     ]
    }
   ],
   "source": [
    "# Compute p-value\n",
    "# pchisq: cumulative distributed function\n",
    "#    df : degrees of freedom\n",
    "p.quadratic.3.param <- 1 - pchisq(chi.quadratic.3.params, df = N - length(theta.hat.quadratic.3.params))\n",
    "print(paste('p-valor observado:', p.quadratic.3.param))"
   ]
  },
  {
   "cell_type": "code",
   "execution_count": 37,
   "metadata": {},
   "outputs": [
    {
     "data": {
      "image/png": "[encoded data removed]",
      "text/plain": [
       "Plot with title \"Quadratic data \n",
       " Quadratic model \n",
       " Area\""
      ]
     },
     "metadata": {},
     "output_type": "display_data"
    }
   ],
   "source": [
    "#create vector of x values\n",
    "x <- seq(0, 400, 0.5)\n",
    "\n",
    "#create density curve\n",
    "curve(dchisq(x, df = N - length(theta.hat.quadratic.3.params)), from = 0, to = 400,\n",
    "        main = paste('Quadratic data', \"\\n\", \"Quadratic model\", \"\\n\", \"Area\"),\n",
    "        ylab = 'Chi distribution. Density',\n",
    "        lwd = 2)\n",
    "\n",
    "x_vector <- seq(chi.quadratic.3.params, 400)\n",
    "\n",
    "#create vector of chi-square density values\n",
    "p_vector <- dchisq(x_vector, df =  N - length(theta.hat.quadratic.3.params))\n",
    "\n",
    "#fill in portion of the density plot from 0 to 40\n",
    "polygon(c(x_vector, rev(x_vector)), c(p_vector, rep(0, length(p_vector))),\n",
    "        col = adjustcolor('red', alpha = 0.3), border = NA)\n",
    "\n",
    "abline(v = chi.quadratic.3.params, col = \"blue\")\n",
    "\n",
    "legend(\"topright\", legend = c(paste0(\"chidistribution, df=\",N - length(theta.hat.quadratic.3.params)),\n",
    "                              paste('chiobserved', chi.quadratic.3.params)),\n",
    "       col = c(\"black\", \"blue\"),\n",
    "       lty = 1, \n",
    "       cex = 1)\n",
    "\n",
    "# Save picture\n",
    "quadratic.data.quadratic.model.area <- recordPlot()"
   ]
  },
  {
   "cell_type": "markdown",
   "metadata": {},
   "source": [
    "Si llamamos $\\alpha$ al valor obtenido en la celda anterior, decimos que rechazaremos $H_{0}$ con una confianza de:"
   ]
  },
  {
   "cell_type": "code",
   "execution_count": 38,
   "metadata": {},
   "outputs": [
    {
     "data": {
      "text/html": [
       "65.3873895883546"
      ],
      "text/latex": [
       "65.3873895883546"
      ],
      "text/markdown": [
       "65.3873895883546"
      ],
      "text/plain": [
       "[1] 65.38739"
      ]
     },
     "metadata": {},
     "output_type": "display_data"
    }
   ],
   "source": [
    "alpha.quadratic.3.param <- p.quadratic.3.param\n",
    "100*(1 - alpha.quadratic.3.param)"
   ]
  },
  {
   "cell_type": "markdown",
   "metadata": {},
   "source": [
    "Mostramos el ajuste:"
   ]
  },
  {
   "cell_type": "code",
   "execution_count": 39,
   "metadata": {},
   "outputs": [
    {
     "data": {
      "image/png": "[encoded data removed]",
      "text/plain": [
       "Plot with title \"Quadratic data \n",
       " Quadratic model\""
      ]
     },
     "metadata": {},
     "output_type": "display_data"
    }
   ],
   "source": [
    "# Plot model\n",
    "plot(x.quadratic, y.quadratic, pch = 19, \n",
    "     main = paste('Quadratic data', \"\\n\", \"Quadratic model\"))\n",
    "\n",
    "lines(sort(x.quadratic), y.hat.quadratic.3.param[order(x.quadratic)], col = \"red\", lwd = 1.5)\n",
    "\n",
    "segments(x0 = x.quadratic, x1 = x.quadratic,\n",
    "         y = y.quadratic, y1 = y.hat.quadratic.3.param,\n",
    "         col = 'green')"
   ]
  },
  {
   "cell_type": "markdown",
   "metadata": {},
   "source": [
    "**Aproximamos por un modelo lineal con 2 parámetros:**"
   ]
  },
  {
   "cell_type": "code",
   "execution_count": 40,
   "metadata": {},
   "outputs": [
    {
     "data": {
      "text/html": [
       "<table>\n",
       "<tbody>\n",
       "\t<tr><th scope=row></th><td>-8.537801</td></tr>\n",
       "\t<tr><th scope=row>x.quadratic</th><td>16.879806</td></tr>\n",
       "</tbody>\n",
       "</table>\n"
      ],
      "text/latex": [
       "\\begin{tabular}{r|l}\n",
       "\t & -8.537801\\\\\n",
       "\tx.quadratic & 16.879806\\\\\n",
       "\\end{tabular}\n"
      ],
      "text/markdown": [
       "\n",
       "|  | -8.537801 |\n",
       "| x.quadratic | 16.879806 |\n",
       "\n"
      ],
      "text/plain": [
       "            [,1]     \n",
       "            -8.537801\n",
       "x.quadratic 16.879806"
      ]
     },
     "metadata": {},
     "output_type": "display_data"
    }
   ],
   "source": [
    "# Calculate \\hat{\\theta}\n",
    "X.quadratic.2.params <- cbind(1, x.quadratic)\n",
    "theta.hat.quadratic.2.params <- opt_likelihood(X = X.quadratic.2.params,\n",
    "                                               y = y.quadratic,\n",
    "                                               sigma = sigma.quadratic)\n",
    "theta.hat.quadratic.2.params"
   ]
  },
  {
   "cell_type": "code",
   "execution_count": 41,
   "metadata": {},
   "outputs": [],
   "source": [
    "# Compute predicted y values\n",
    "y.hat.quadratic.2.param <- X.quadratic.2.params %*% theta.hat.quadratic.2.params"
   ]
  },
  {
   "cell_type": "code",
   "execution_count": 42,
   "metadata": {},
   "outputs": [
    {
     "name": "stdout",
     "output_type": "stream",
     "text": [
      "[1] \"Valor observado de chi-cuadrado: 63707.7346366616\"\n"
     ]
    }
   ],
   "source": [
    "# Compute observed chi^2\n",
    "chi.quadratic.2.params <- sum(((y.quadratic - y.hat.quadratic.2.param) / sigma.quadratic) ^ 2)\n",
    "print(paste('Valor observado de chi-cuadrado:', chi.quadratic.2.params))"
   ]
  },
  {
   "cell_type": "code",
   "execution_count": 43,
   "metadata": {},
   "outputs": [
    {
     "data": {
      "image/png": "[encoded data removed]",
      "text/plain": [
       "Plot with title \"Quadratic data \n",
       " Linear model\""
      ]
     },
     "metadata": {},
     "output_type": "display_data"
    }
   ],
   "source": [
    "plot(seq(0, chi.quadratic.2.params + 100, 0.5),\n",
    "     dchisq(seq(0,  chi.quadratic.2.params + 100, 0.5),  N - length(theta.hat.quadratic.2.params)),\n",
    "     type = \"l\",\n",
    "     col = \"red\",\n",
    "     ylab = 'Chi distribution. Density',\n",
    "     main = paste('Quadratic data', \"\\n\", \"Linear model\"))\n",
    "\n",
    "abline(v = chi.quadratic.2.params,\n",
    "       col = \"blue\")\n",
    "\n",
    "legend(\"topright\",\n",
    "       legend = c(paste0(\"chi distribution, df=\",N - length(theta.hat.quadratic.2.params)),\n",
    "                  paste('chi observed', chi.quadratic.2.params)),\n",
    "       col = c(\"red\", \"blue\"),\n",
    "       lty = 1, \n",
    "       cex = 1)\n",
    "\n",
    "# Save picture\n",
    "quadratic.data.linear.model <- recordPlot()"
   ]
  },
  {
   "cell_type": "code",
   "execution_count": 44,
   "metadata": {},
   "outputs": [
    {
     "name": "stdout",
     "output_type": "stream",
     "text": [
      "[1] \"p-valor observado: 0\"\n"
     ]
    }
   ],
   "source": [
    "# Compute p-value\n",
    "# pchisq: cumulative distributed function\n",
    "#    df : degrees of freedom\n",
    "p.quadratic.2.param <- 1 - pchisq(chi.quadratic.2.params, df = N - length(theta.hat.quadratic.2.params))\n",
    "print(paste('p-valor observado:', p.quadratic.2.param))"
   ]
  },
  {
   "cell_type": "code",
   "execution_count": 45,
   "metadata": {},
   "outputs": [
    {
     "data": {
      "image/png": "[encoded data removed]",
      "text/plain": [
       "Plot with title \"Quadratic data \n",
       " Linear model \n",
       " Area\""
      ]
     },
     "metadata": {},
     "output_type": "display_data"
    }
   ],
   "source": [
    "#create vector of x values\n",
    "x <- seq(0, chi.quadratic.2.params + 100, 0.5)\n",
    "\n",
    "#create density curve\n",
    "curve(dchisq(x, df = N - length(theta.hat.quadratic.2.params)),\n",
    "      from = 0, to = chi.quadratic.2.params + 100,\n",
    "      main = paste('Quadratic data', \"\\n\", \"Linear model\", \"\\n\", \"Area\"),\n",
    "      ylab = 'Chi distribution. Density',\n",
    "      lwd = 2)\n",
    "\n",
    "x_vector <- seq(chi.quadratic.2.params, chi.quadratic.2.params + 100)\n",
    "\n",
    "#create vector of chi-square density values\n",
    "p_vector <- dchisq(x_vector, df =  N - length(theta.hat.quadratic.2.params))\n",
    "\n",
    "#fill in portion of the density plot from 0 to 40\n",
    "polygon(c(x_vector, rev(x_vector)),\n",
    "        c(p_vector, rep(0, length(p_vector))),\n",
    "        col = adjustcolor('red', alpha = 0.3),\n",
    "        border = NA)\n",
    "\n",
    "abline(v = chi.quadratic.2.params, col = \"blue\")\n",
    "\n",
    "legend(\"topright\", legend = c(paste0(\"chi distribution, df=\", N - length(theta.hat.quadratic.2.params)),\n",
    "                              paste('chi observed', chi.quadratic.2.params)),\n",
    "       col = c(\"black\", \"blue\"),\n",
    "       lty = 1, \n",
    "       cex = 1)\n",
    "\n",
    "# Save picture\n",
    "quadratic.data.linear.model.area <- recordPlot()"
   ]
  },
  {
   "cell_type": "markdown",
   "metadata": {},
   "source": [
    "No hay ningún área rellena por la anomalía del valor."
   ]
  },
  {
   "cell_type": "markdown",
   "metadata": {},
   "source": [
    "Si llamamos $\\alpha$ al valor obtenido en la celda anterior, decimos que rechazaremos $H_{0}$, es decir, el modelo lineal para datos generados con una rela cuadrática, con una confianza de:"
   ]
  },
  {
   "cell_type": "code",
   "execution_count": 46,
   "metadata": {},
   "outputs": [
    {
     "data": {
      "text/html": [
       "100"
      ],
      "text/latex": [
       "100"
      ],
      "text/markdown": [
       "100"
      ],
      "text/plain": [
       "[1] 100"
      ]
     },
     "metadata": {},
     "output_type": "display_data"
    }
   ],
   "source": [
    "alpha.quadratic.2.param <- p.quadratic.2.param\n",
    "100*(1 - alpha.quadratic.2.param)"
   ]
  },
  {
   "cell_type": "markdown",
   "metadata": {},
   "source": [
    "Mostramos el ajuste:"
   ]
  },
  {
   "cell_type": "code",
   "execution_count": 47,
   "metadata": {},
   "outputs": [
    {
     "data": {
      "image/png": "[encoded data removed]",
      "text/plain": [
       "Plot with title \"Quadratic data \n",
       " Linear model\""
      ]
     },
     "metadata": {},
     "output_type": "display_data"
    }
   ],
   "source": [
    "# Plot model\n",
    "plot(x.quadratic, y.quadratic, pch = 19, \n",
    "     main = paste('Quadratic data', \"\\n\", \"Linear model\"))\n",
    "\n",
    "lines(sort(x.quadratic), y.hat.quadratic.2.param[order(x.quadratic)], col = \"red\", lwd = 1.5)\n",
    "\n",
    "segments(x0 = x.quadratic, x1 = x.quadratic,\n",
    "         y = y.quadratic, y1 = y.hat.quadratic.2.param, col = 'green')\n",
    "\n",
    "# Save picture\n",
    "quadratic.data.linear.model.approx <- recordPlot()"
   ]
  },
  {
   "cell_type": "markdown",
   "metadata": {},
   "source": [
    "<font color='blue'>***5.- Usando la primera de las funciones anteriores con los valores dados en 3) calcula el valor del likelihood ratio “q” para un modelo con 2 y 3 parámetros. ¿Con qué confidence level podemos aceptar H0? Comenta el resultado: ¿qué modelo es mejor el primero o el segundo?.***</font>\n",
    "\n",
    "\n",
    "Recordemos que la función de verosimilitud está dada por:\n",
    "$$ L((x_{i}, y_{i}); \\theta) = \\prod_{i} p(y_{i}|x_{i})$$\n",
    "donde:\n",
    "$$ p(y_{i}|x_{i}) = \\prod_{i}\\frac{1}{\\sigma_{i}\\sqrt{2\\pi}}e^{-\\frac{1}{2}\n",
    "\\frac{(y_{i}-\\boldsymbol{x}_{i}{\\boldsymbol{\\theta})^{2}}}{\\sigma{i}^{2}}}.$$\n",
    "\n",
    "\n",
    "Aplicando logaritmo a la función de verosimilitud, obtenemos:\n",
    "$$\n",
    "-2\\log(L) = -2\\log\\left( \\prod_{i}\\frac{1}{\\sigma_{i}\\sqrt{2\\pi}}e^{-\\frac{1}{2}\n",
    "\\frac{(y_{i}-\\boldsymbol{x}_{i}{\\boldsymbol{\\theta})^{2}}}{\\sigma{i}^{2}}} \\right) \\\\\n",
    "= -2 \\sum_{i}\\log\\left(\\frac{1}{\\sigma_{i}\\sqrt{2\\pi}}e^{-\\frac{1}{2}\n",
    "\\frac{(y_{i}-\\boldsymbol{x}_{i}{\\boldsymbol{\\theta})^{2}}}{\\sigma{i}^{2}}} \\right) \\\\\n",
    "= -2 \\sum_{i}\\left(-\\frac{1}{2}\\frac{(y_{i}-\\boldsymbol{x_{i}}\\boldsymbol{\\theta})^{2}}{\\sigma_{i}^{2}} - \\log(\\sigma_{i}) - \\log(\\sqrt{2\\pi}) \\right) \\\\\n",
    "= \\sum_{i}\\frac{(y_{i}-\\boldsymbol{x_{i}}\\boldsymbol{\\theta})^{2}}{\\sigma_{i}^{2}} +2\\sum_{i}\\log(\\sigma_{i}) + 2N\\log(\\sqrt{2\\pi}).\n",
    "$$\n",
    "\n",
    "\n",
    "Queremos hallar:\n",
    "\n",
    "$$ q = -2\\log\\left(\\frac{L(H_{0})}{L(H_{1})}\\right)=-2\\log(L(H_{0}))+2\\log(L(H_{1})) $$\n",
    "\n",
    "Donde \n",
    "* $H_{0}:$ asume que el modelo con menos parámetros es el correcto.\n",
    "* $H_{1}:$ asume que el modelo con más parámetros es el correcto."
   ]
  },
  {
   "cell_type": "markdown",
   "metadata": {},
   "source": [
    "### **En primer lugar, realizamos el cálculo para los datos generados según la regla lineal**.\n",
    "\n",
    "La hipótesis nula afirma que el modelo con menos parámetros (2) es el correcto. La hipótesis alternativa afirma que el modelo con más parámetros (3) es el correcto. \n",
    "\n",
    "Empleemos que el primer factor de esa suma no es otro que el chi-cuadrado observado. Para el modelo de 2 parámetros es `chi.linear.2.params`; para el modelo de 3 parámetros es `chi.linear.3.params`.\n",
    "\n",
    "Podríamos aplicar la fórmula de $-2\\log(L)$ tal cual:"
   ]
  },
  {
   "cell_type": "code",
   "execution_count": 48,
   "metadata": {},
   "outputs": [],
   "source": [
    "# l.h0.linear <- chi.linear.2.params + 2*log(sum(sigma.linear)) + 2*N*log(sqrt(2*pi))\n",
    "# l.h0.linear"
   ]
  },
  {
   "cell_type": "code",
   "execution_count": 49,
   "metadata": {},
   "outputs": [],
   "source": [
    "# l.h1.linear <- chi.linear.3.params + 2*log(sum(sigma.linear)) + 2*N*log(sqrt(2*pi))\n",
    "# l.h1.linear"
   ]
  },
  {
   "cell_type": "code",
   "execution_count": 50,
   "metadata": {
    "scrolled": true
   },
   "outputs": [],
   "source": [
    "# q.linear = l.h0.linear - l.h1.linear\n",
    "# q.linear"
   ]
  },
  {
   "cell_type": "markdown",
   "metadata": {},
   "source": [
    "o simplemente, cancelando factores:"
   ]
  },
  {
   "cell_type": "code",
   "execution_count": 51,
   "metadata": {},
   "outputs": [
    {
     "data": {
      "text/html": [
       "1.25221783401513"
      ],
      "text/latex": [
       "1.25221783401513"
      ],
      "text/markdown": [
       "1.25221783401513"
      ],
      "text/plain": [
       "[1] 1.252218"
      ]
     },
     "metadata": {},
     "output_type": "display_data"
    }
   ],
   "source": [
    "q.linear = chi.linear.2.params - chi.linear.3.params\n",
    "q.linear"
   ]
  },
  {
   "cell_type": "markdown",
   "metadata": {},
   "source": [
    "Tenemos que se distribuye como una $\\chi^{2}_{k=1}$ donde $k=3-2=1$ son su grados de libertad."
   ]
  },
  {
   "cell_type": "code",
   "execution_count": 52,
   "metadata": {},
   "outputs": [
    {
     "name": "stdout",
     "output_type": "stream",
     "text": [
      "[1] \"p-valor observado: 0.263129305406641\"\n"
     ]
    }
   ],
   "source": [
    "# Compute p-value\n",
    "# pchisq: cumulative distributed function\n",
    "#    df : degrees of freedom\n",
    "p.q.linear <- 1 - pchisq(q.linear, df = 1)\n",
    "print(paste('p-valor observado:', p.q.linear))"
   ]
  },
  {
   "cell_type": "markdown",
   "metadata": {},
   "source": [
    "Si llamamos $\\alpha$ al valor obtenido en la celda anterior, decimos que rechazaremos $H_{0}$, con una confianza de:"
   ]
  },
  {
   "cell_type": "code",
   "execution_count": 53,
   "metadata": {},
   "outputs": [
    {
     "data": {
      "text/html": [
       "73.6870694593359"
      ],
      "text/latex": [
       "73.6870694593359"
      ],
      "text/markdown": [
       "73.6870694593359"
      ],
      "text/plain": [
       "[1] 73.68707"
      ]
     },
     "metadata": {},
     "output_type": "display_data"
    }
   ],
   "source": [
    "alpha.p.q.linear <- p.q.linear\n",
    "100*(1 - alpha.p.q.linear)"
   ]
  },
  {
   "cell_type": "markdown",
   "metadata": {},
   "source": [
    "Esto nos dice que seguramente sea mejor el modelo cuadrático para aproximar los datos generados con la regla lineal. Pero sería un poco matar moscas a cañonazos. Comparemos las aproximaciones en un mismo gráfico:"
   ]
  },
  {
   "cell_type": "code",
   "execution_count": 54,
   "metadata": {},
   "outputs": [
    {
     "data": {
      "image/png": "[encoded data removed]",
      "text/plain": [
       "Plot with title \"Linear data\""
      ]
     },
     "metadata": {},
     "output_type": "display_data"
    }
   ],
   "source": [
    "# Plot model\n",
    "plot(x.linear, y.linear, pch = 19, \n",
    "     main = 'Linear data')\n",
    "\n",
    "lines(x.linear, y.hat.linear.2.params, col = \"blue\", lwd = 2)\n",
    "\n",
    "lines(sort(x.linear), y.hat.linear.3.params[order(x.linear)], col = \"red\", lwd = 2)\n",
    "\n",
    "legend(\"topleft\",\n",
    "       legend = c(\"Linear approximation\", \"Quadratic approximation\"),\n",
    "       col = c(\"blue\", \"red\"),\n",
    "       lty = 1, \n",
    "       cex = 1)\n"
   ]
  },
  {
   "cell_type": "markdown",
   "metadata": {},
   "source": [
    "### **En segundo lugar, realizamos el cálculo para los datos generados según la regla cuadrática**.\n",
    "\n",
    "La hipótesis nula afirma que el modelo con menos parámetros (2) es el correcto. La hipótesis alternativa afirma que el modelo con más parámetros (3) es el correcto. \n",
    "\n",
    "Empleemos que el primer factor de esa suma no es otro que el chi-cuadrado observado. Para el modelo de 2 parámetros es `chi.quadratic.2.params`; para el modelo de 3 parámetros es `chi.quadratic.3.params`.\n",
    "\n",
    "Podríamos aplicar la fórmula tal cual:"
   ]
  },
  {
   "cell_type": "code",
   "execution_count": 55,
   "metadata": {},
   "outputs": [],
   "source": [
    "# l.h0.quadratic <- chi.quadratic.2.params + 2*log(sum(sigma.quadratic)) + 2*N*log(sqrt(2*pi))\n",
    "# l.h0.quadratic"
   ]
  },
  {
   "cell_type": "code",
   "execution_count": 56,
   "metadata": {},
   "outputs": [],
   "source": [
    "# l.h1.quadratic <- chi.quadratic.3.params + 2*log(sum(sigma.quadratic)) + 2*N*log(sqrt(2*pi))\n",
    "# l.h1.quadratic"
   ]
  },
  {
   "cell_type": "code",
   "execution_count": 57,
   "metadata": {},
   "outputs": [],
   "source": [
    "# q.quadratic = l.h0.quadratic - l.h1.quadratic\n",
    "# q.quadratic"
   ]
  },
  {
   "cell_type": "markdown",
   "metadata": {},
   "source": [
    "o simplemente, cancelando factores:"
   ]
  },
  {
   "cell_type": "code",
   "execution_count": 58,
   "metadata": {},
   "outputs": [
    {
     "data": {
      "text/html": [
       "63605.8048719984"
      ],
      "text/latex": [
       "63605.8048719984"
      ],
      "text/markdown": [
       "63605.8048719984"
      ],
      "text/plain": [
       "[1] 63605.8"
      ]
     },
     "metadata": {},
     "output_type": "display_data"
    }
   ],
   "source": [
    "q.quadratic = chi.quadratic.2.params - chi.quadratic.3.params\n",
    "q.quadratic"
   ]
  },
  {
   "cell_type": "code",
   "execution_count": 59,
   "metadata": {},
   "outputs": [
    {
     "name": "stdout",
     "output_type": "stream",
     "text": [
      "[1] \"p-valor observado: 0\"\n"
     ]
    }
   ],
   "source": [
    "# Compute p-value\n",
    "# pchisq: cumulative distributed function\n",
    "#    df : degrees of freedom\n",
    "p.q.cuadratic <- 1 - pchisq(q.quadratic, df = 1)\n",
    "print(paste('p-valor observado:', p.q.cuadratic))"
   ]
  },
  {
   "cell_type": "markdown",
   "metadata": {},
   "source": [
    "Si llamamos $\\alpha$ al valor obtenido en la celda anterior, decimos que rechazaremos $H_{0}$, con una confianza de:"
   ]
  },
  {
   "cell_type": "code",
   "execution_count": 60,
   "metadata": {},
   "outputs": [
    {
     "data": {
      "text/html": [
       "100"
      ],
      "text/latex": [
       "100"
      ],
      "text/markdown": [
       "100"
      ],
      "text/plain": [
       "[1] 100"
      ]
     },
     "metadata": {},
     "output_type": "display_data"
    }
   ],
   "source": [
    "alpha.p.q.quadratic <- p.q.cuadratic\n",
    "100*(1 - alpha.p.q.quadratic)"
   ]
  },
  {
   "cell_type": "markdown",
   "metadata": {},
   "source": [
    "Es decir, como esperábamos, nos confirma que no es una buena idea aproximar datos que siguen una regla cuadrática con un modelo lineal. Nos dice que no aceptemos $H_{0}$, es decir, que no aceptemos el modelo lineal con dos parámetros como aproximación. COmparemos en un mismo gráfico:"
   ]
  },
  {
   "cell_type": "code",
   "execution_count": 61,
   "metadata": {},
   "outputs": [
    {
     "data": {
      "image/png": "[encoded data removed]",
      "text/plain": [
       "Plot with title \"Quadratic data\""
      ]
     },
     "metadata": {},
     "output_type": "display_data"
    }
   ],
   "source": [
    "# Plot model\n",
    "plot(x.quadratic, y.quadratic, pch = 19, \n",
    "     main = 'Quadratic data')\n",
    "\n",
    "lines(x.quadratic, y.hat.quadratic.2.param, col = \"blue\", lwd = 2)\n",
    "\n",
    "lines(sort(x.quadratic), y.hat.quadratic.3.param[order(x.quadratic)], col = \"red\", lwd = 2)\n",
    "\n",
    "legend(\"topleft\",\n",
    "       legend = c(\"Linear approximation\", \"Quadratic approximation\"),\n",
    "       col = c(\"blue\", \"red\"),\n",
    "       lty = 1, \n",
    "       cex = 1)\n"
   ]
  }
 ],
 "metadata": {
  "kernelspec": {
   "display_name": "R",
   "language": "R",
   "name": "ir"
  },
  "language_info": {
   "codemirror_mode": "r",
   "file_extension": ".r",
   "mimetype": "text/x-r-source",
   "name": "R",
   "pygments_lexer": "r",
   "version": "3.6.1"
  }
 },
 "nbformat": 4,
 "nbformat_minor": 2
}
